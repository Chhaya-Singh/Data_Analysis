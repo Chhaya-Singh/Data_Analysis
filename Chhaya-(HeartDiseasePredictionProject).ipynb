{
 "cells": [
  {
   "cell_type": "code",
   "execution_count": 122,
   "id": "0c49ec5e",
   "metadata": {},
   "outputs": [],
   "source": [
    "import numpy as np\n",
    "import pandas as pd\n",
    "from matplotlib import pyplot as plt\n",
    "import seaborn as sns\n",
    "%matplotlib inline"
   ]
  },
  {
   "cell_type": "markdown",
   "id": "dfb2af15",
   "metadata": {},
   "source": [
    "# Problem Statement:\n",
    "Analyze the heart disease dataset to explore the machine learning algorithms and build\n",
    "decision tree model to predict the disease."
   ]
  },
  {
   "cell_type": "markdown",
   "id": "c74f4611",
   "metadata": {},
   "source": [
    "# Variable Description:"
   ]
  },
  {
   "cell_type": "markdown",
   "id": "87039b7c",
   "metadata": {},
   "source": [
    "Column Description\n",
    "age: Age of the patient\n",
    "gender: Gender of the patient - (0,1) - (Male, Female)\n",
    "chest_pain: It refers to the chest pain experienced by the patient -(0,1,2,3)\n",
    "rest_bps: Blood pressure of the patient while resting(in mm/Hg)\n",
    "cholesterol: Patient's cholesterol level (in mg/dl)\n",
    "fasting_blood_sugar: The blood sugar of the patient while fasting\n",
    "rest_ecg: Potassium level (0,1,2)\n",
    "thalach: The patient’s maximum heart rate\n",
    "exer_angina: It refers to exercise-induced angina - (1=Yes, 0=No)\n",
    "old_peak: It is the ST depression induced by exercise relative to rest(ST\n",
    "relates to the position on ECG plots)\n",
    "slope: It refers to the slope of the peak of the exercise ST-Segment-\n",
    "(0,1,2)\n",
    "ca Number of major vessels: (0,1,2,3,4)\n",
    "thalassemia: It refers to thalassemia which is a blood disorder - (0,1,2,3)\n",
    "target: The patient has heart disease or not - (1=Yes, 0=No)\n"
   ]
  },
  {
   "cell_type": "code",
   "execution_count": 123,
   "id": "2d6f0d09",
   "metadata": {},
   "outputs": [],
   "source": [
    "df=pd.read_csv(r\"C:\\Users\\Chhaya\\OneDrive\\Desktop\\PythonAssignments\\DecTree\\2 Project\\Heart Disease Prediction\\Dataset\\Dataset\\HeartDisease.csv\")"
   ]
  },
  {
   "cell_type": "code",
   "execution_count": 124,
   "id": "bfc561b0",
   "metadata": {},
   "outputs": [
    {
     "name": "stdout",
     "output_type": "stream",
     "text": [
      "<class 'pandas.core.frame.DataFrame'>\n",
      "RangeIndex: 303 entries, 0 to 302\n",
      "Data columns (total 14 columns):\n",
      " #   Column               Non-Null Count  Dtype  \n",
      "---  ------               --------------  -----  \n",
      " 0   age                  303 non-null    int64  \n",
      " 1   gender               303 non-null    int64  \n",
      " 2   chest_pain           303 non-null    int64  \n",
      " 3   rest_bps             303 non-null    int64  \n",
      " 4   cholestrol           303 non-null    int64  \n",
      " 5   fasting_blood_sugar  303 non-null    int64  \n",
      " 6   rest_ecg             303 non-null    int64  \n",
      " 7   thalach              303 non-null    int64  \n",
      " 8   exer_angina          303 non-null    int64  \n",
      " 9   old_peak             303 non-null    float64\n",
      " 10  slope                303 non-null    int64  \n",
      " 11  ca                   303 non-null    int64  \n",
      " 12  thalassemia          303 non-null    int64  \n",
      " 13  target               303 non-null    int64  \n",
      "dtypes: float64(1), int64(13)\n",
      "memory usage: 33.3 KB\n"
     ]
    }
   ],
   "source": [
    "df.info()"
   ]
  },
  {
   "cell_type": "code",
   "execution_count": 125,
   "id": "24aa16e9",
   "metadata": {},
   "outputs": [],
   "source": [
    "df[[\"gender\",\"chest_pain\",\"rest_ecg\",\"exer_angina\",\"slope\",\"ca\",\"thalassemia\",\"fasting_blood_sugar\"]]=df[[\"gender\",\"chest_pain\",\"rest_ecg\",\"exer_angina\",\"slope\",\"ca\",\"thalassemia\",\"fasting_blood_sugar\"]].astype(\"object\")\n",
    "                                                                                       "
   ]
  },
  {
   "cell_type": "code",
   "execution_count": 126,
   "id": "2226bfdc",
   "metadata": {},
   "outputs": [
    {
     "name": "stdout",
     "output_type": "stream",
     "text": [
      "<class 'pandas.core.frame.DataFrame'>\n",
      "RangeIndex: 303 entries, 0 to 302\n",
      "Data columns (total 14 columns):\n",
      " #   Column               Non-Null Count  Dtype  \n",
      "---  ------               --------------  -----  \n",
      " 0   age                  303 non-null    int64  \n",
      " 1   gender               303 non-null    object \n",
      " 2   chest_pain           303 non-null    object \n",
      " 3   rest_bps             303 non-null    int64  \n",
      " 4   cholestrol           303 non-null    int64  \n",
      " 5   fasting_blood_sugar  303 non-null    object \n",
      " 6   rest_ecg             303 non-null    object \n",
      " 7   thalach              303 non-null    int64  \n",
      " 8   exer_angina          303 non-null    object \n",
      " 9   old_peak             303 non-null    float64\n",
      " 10  slope                303 non-null    object \n",
      " 11  ca                   303 non-null    object \n",
      " 12  thalassemia          303 non-null    object \n",
      " 13  target               303 non-null    int64  \n",
      "dtypes: float64(1), int64(5), object(8)\n",
      "memory usage: 33.3+ KB\n"
     ]
    }
   ],
   "source": [
    "df.info()"
   ]
  },
  {
   "cell_type": "code",
   "execution_count": 127,
   "id": "435dcd7b",
   "metadata": {},
   "outputs": [
    {
     "data": {
      "text/html": [
       "<div>\n",
       "<style scoped>\n",
       "    .dataframe tbody tr th:only-of-type {\n",
       "        vertical-align: middle;\n",
       "    }\n",
       "\n",
       "    .dataframe tbody tr th {\n",
       "        vertical-align: top;\n",
       "    }\n",
       "\n",
       "    .dataframe thead th {\n",
       "        text-align: right;\n",
       "    }\n",
       "</style>\n",
       "<table border=\"1\" class=\"dataframe\">\n",
       "  <thead>\n",
       "    <tr style=\"text-align: right;\">\n",
       "      <th></th>\n",
       "      <th>age</th>\n",
       "      <th>gender</th>\n",
       "      <th>chest_pain</th>\n",
       "      <th>rest_bps</th>\n",
       "      <th>cholestrol</th>\n",
       "      <th>fasting_blood_sugar</th>\n",
       "      <th>rest_ecg</th>\n",
       "      <th>thalach</th>\n",
       "      <th>exer_angina</th>\n",
       "      <th>old_peak</th>\n",
       "      <th>slope</th>\n",
       "      <th>ca</th>\n",
       "      <th>thalassemia</th>\n",
       "      <th>target</th>\n",
       "    </tr>\n",
       "  </thead>\n",
       "  <tbody>\n",
       "    <tr>\n",
       "      <th>0</th>\n",
       "      <td>63</td>\n",
       "      <td>1</td>\n",
       "      <td>3</td>\n",
       "      <td>145</td>\n",
       "      <td>233</td>\n",
       "      <td>1</td>\n",
       "      <td>0</td>\n",
       "      <td>150</td>\n",
       "      <td>0</td>\n",
       "      <td>2.3</td>\n",
       "      <td>0</td>\n",
       "      <td>0</td>\n",
       "      <td>1</td>\n",
       "      <td>1</td>\n",
       "    </tr>\n",
       "    <tr>\n",
       "      <th>1</th>\n",
       "      <td>37</td>\n",
       "      <td>1</td>\n",
       "      <td>2</td>\n",
       "      <td>130</td>\n",
       "      <td>250</td>\n",
       "      <td>0</td>\n",
       "      <td>1</td>\n",
       "      <td>187</td>\n",
       "      <td>0</td>\n",
       "      <td>3.5</td>\n",
       "      <td>0</td>\n",
       "      <td>0</td>\n",
       "      <td>2</td>\n",
       "      <td>1</td>\n",
       "    </tr>\n",
       "    <tr>\n",
       "      <th>2</th>\n",
       "      <td>41</td>\n",
       "      <td>0</td>\n",
       "      <td>1</td>\n",
       "      <td>130</td>\n",
       "      <td>204</td>\n",
       "      <td>0</td>\n",
       "      <td>0</td>\n",
       "      <td>172</td>\n",
       "      <td>0</td>\n",
       "      <td>1.4</td>\n",
       "      <td>2</td>\n",
       "      <td>0</td>\n",
       "      <td>2</td>\n",
       "      <td>1</td>\n",
       "    </tr>\n",
       "    <tr>\n",
       "      <th>3</th>\n",
       "      <td>56</td>\n",
       "      <td>1</td>\n",
       "      <td>1</td>\n",
       "      <td>120</td>\n",
       "      <td>236</td>\n",
       "      <td>0</td>\n",
       "      <td>1</td>\n",
       "      <td>178</td>\n",
       "      <td>0</td>\n",
       "      <td>0.8</td>\n",
       "      <td>2</td>\n",
       "      <td>0</td>\n",
       "      <td>2</td>\n",
       "      <td>1</td>\n",
       "    </tr>\n",
       "    <tr>\n",
       "      <th>4</th>\n",
       "      <td>57</td>\n",
       "      <td>0</td>\n",
       "      <td>0</td>\n",
       "      <td>120</td>\n",
       "      <td>354</td>\n",
       "      <td>0</td>\n",
       "      <td>1</td>\n",
       "      <td>163</td>\n",
       "      <td>1</td>\n",
       "      <td>0.6</td>\n",
       "      <td>2</td>\n",
       "      <td>0</td>\n",
       "      <td>2</td>\n",
       "      <td>1</td>\n",
       "    </tr>\n",
       "    <tr>\n",
       "      <th>...</th>\n",
       "      <td>...</td>\n",
       "      <td>...</td>\n",
       "      <td>...</td>\n",
       "      <td>...</td>\n",
       "      <td>...</td>\n",
       "      <td>...</td>\n",
       "      <td>...</td>\n",
       "      <td>...</td>\n",
       "      <td>...</td>\n",
       "      <td>...</td>\n",
       "      <td>...</td>\n",
       "      <td>...</td>\n",
       "      <td>...</td>\n",
       "      <td>...</td>\n",
       "    </tr>\n",
       "    <tr>\n",
       "      <th>298</th>\n",
       "      <td>57</td>\n",
       "      <td>0</td>\n",
       "      <td>0</td>\n",
       "      <td>140</td>\n",
       "      <td>241</td>\n",
       "      <td>0</td>\n",
       "      <td>1</td>\n",
       "      <td>123</td>\n",
       "      <td>1</td>\n",
       "      <td>0.2</td>\n",
       "      <td>1</td>\n",
       "      <td>0</td>\n",
       "      <td>3</td>\n",
       "      <td>0</td>\n",
       "    </tr>\n",
       "    <tr>\n",
       "      <th>299</th>\n",
       "      <td>45</td>\n",
       "      <td>1</td>\n",
       "      <td>3</td>\n",
       "      <td>110</td>\n",
       "      <td>264</td>\n",
       "      <td>0</td>\n",
       "      <td>1</td>\n",
       "      <td>132</td>\n",
       "      <td>0</td>\n",
       "      <td>1.2</td>\n",
       "      <td>1</td>\n",
       "      <td>0</td>\n",
       "      <td>3</td>\n",
       "      <td>0</td>\n",
       "    </tr>\n",
       "    <tr>\n",
       "      <th>300</th>\n",
       "      <td>68</td>\n",
       "      <td>1</td>\n",
       "      <td>0</td>\n",
       "      <td>144</td>\n",
       "      <td>193</td>\n",
       "      <td>1</td>\n",
       "      <td>1</td>\n",
       "      <td>141</td>\n",
       "      <td>0</td>\n",
       "      <td>3.4</td>\n",
       "      <td>1</td>\n",
       "      <td>2</td>\n",
       "      <td>3</td>\n",
       "      <td>0</td>\n",
       "    </tr>\n",
       "    <tr>\n",
       "      <th>301</th>\n",
       "      <td>57</td>\n",
       "      <td>1</td>\n",
       "      <td>0</td>\n",
       "      <td>130</td>\n",
       "      <td>131</td>\n",
       "      <td>0</td>\n",
       "      <td>1</td>\n",
       "      <td>115</td>\n",
       "      <td>1</td>\n",
       "      <td>1.2</td>\n",
       "      <td>1</td>\n",
       "      <td>1</td>\n",
       "      <td>3</td>\n",
       "      <td>0</td>\n",
       "    </tr>\n",
       "    <tr>\n",
       "      <th>302</th>\n",
       "      <td>57</td>\n",
       "      <td>0</td>\n",
       "      <td>1</td>\n",
       "      <td>130</td>\n",
       "      <td>236</td>\n",
       "      <td>0</td>\n",
       "      <td>0</td>\n",
       "      <td>174</td>\n",
       "      <td>0</td>\n",
       "      <td>0.0</td>\n",
       "      <td>1</td>\n",
       "      <td>1</td>\n",
       "      <td>2</td>\n",
       "      <td>0</td>\n",
       "    </tr>\n",
       "  </tbody>\n",
       "</table>\n",
       "<p>303 rows × 14 columns</p>\n",
       "</div>"
      ],
      "text/plain": [
       "     age gender chest_pain  rest_bps  cholestrol fasting_blood_sugar rest_ecg  \\\n",
       "0     63      1          3       145         233                   1        0   \n",
       "1     37      1          2       130         250                   0        1   \n",
       "2     41      0          1       130         204                   0        0   \n",
       "3     56      1          1       120         236                   0        1   \n",
       "4     57      0          0       120         354                   0        1   \n",
       "..   ...    ...        ...       ...         ...                 ...      ...   \n",
       "298   57      0          0       140         241                   0        1   \n",
       "299   45      1          3       110         264                   0        1   \n",
       "300   68      1          0       144         193                   1        1   \n",
       "301   57      1          0       130         131                   0        1   \n",
       "302   57      0          1       130         236                   0        0   \n",
       "\n",
       "     thalach exer_angina  old_peak slope ca thalassemia  target  \n",
       "0        150           0       2.3     0  0           1       1  \n",
       "1        187           0       3.5     0  0           2       1  \n",
       "2        172           0       1.4     2  0           2       1  \n",
       "3        178           0       0.8     2  0           2       1  \n",
       "4        163           1       0.6     2  0           2       1  \n",
       "..       ...         ...       ...   ... ..         ...     ...  \n",
       "298      123           1       0.2     1  0           3       0  \n",
       "299      132           0       1.2     1  0           3       0  \n",
       "300      141           0       3.4     1  2           3       0  \n",
       "301      115           1       1.2     1  1           3       0  \n",
       "302      174           0       0.0     1  1           2       0  \n",
       "\n",
       "[303 rows x 14 columns]"
      ]
     },
     "execution_count": 127,
     "metadata": {},
     "output_type": "execute_result"
    }
   ],
   "source": [
    "df"
   ]
  },
  {
   "cell_type": "code",
   "execution_count": 128,
   "id": "12ee013e",
   "metadata": {},
   "outputs": [
    {
     "data": {
      "text/html": [
       "<div>\n",
       "<style scoped>\n",
       "    .dataframe tbody tr th:only-of-type {\n",
       "        vertical-align: middle;\n",
       "    }\n",
       "\n",
       "    .dataframe tbody tr th {\n",
       "        vertical-align: top;\n",
       "    }\n",
       "\n",
       "    .dataframe thead th {\n",
       "        text-align: right;\n",
       "    }\n",
       "</style>\n",
       "<table border=\"1\" class=\"dataframe\">\n",
       "  <thead>\n",
       "    <tr style=\"text-align: right;\">\n",
       "      <th></th>\n",
       "      <th>gender</th>\n",
       "      <th>chest_pain</th>\n",
       "      <th>fasting_blood_sugar</th>\n",
       "      <th>rest_ecg</th>\n",
       "      <th>exer_angina</th>\n",
       "      <th>slope</th>\n",
       "      <th>ca</th>\n",
       "      <th>thalassemia</th>\n",
       "    </tr>\n",
       "  </thead>\n",
       "  <tbody>\n",
       "    <tr>\n",
       "      <th>count</th>\n",
       "      <td>303</td>\n",
       "      <td>303</td>\n",
       "      <td>303</td>\n",
       "      <td>303</td>\n",
       "      <td>303</td>\n",
       "      <td>303</td>\n",
       "      <td>303</td>\n",
       "      <td>303</td>\n",
       "    </tr>\n",
       "    <tr>\n",
       "      <th>unique</th>\n",
       "      <td>2</td>\n",
       "      <td>4</td>\n",
       "      <td>2</td>\n",
       "      <td>3</td>\n",
       "      <td>2</td>\n",
       "      <td>3</td>\n",
       "      <td>5</td>\n",
       "      <td>4</td>\n",
       "    </tr>\n",
       "    <tr>\n",
       "      <th>top</th>\n",
       "      <td>1</td>\n",
       "      <td>0</td>\n",
       "      <td>0</td>\n",
       "      <td>1</td>\n",
       "      <td>0</td>\n",
       "      <td>2</td>\n",
       "      <td>0</td>\n",
       "      <td>2</td>\n",
       "    </tr>\n",
       "    <tr>\n",
       "      <th>freq</th>\n",
       "      <td>207</td>\n",
       "      <td>143</td>\n",
       "      <td>258</td>\n",
       "      <td>152</td>\n",
       "      <td>204</td>\n",
       "      <td>142</td>\n",
       "      <td>175</td>\n",
       "      <td>166</td>\n",
       "    </tr>\n",
       "  </tbody>\n",
       "</table>\n",
       "</div>"
      ],
      "text/plain": [
       "        gender  chest_pain  fasting_blood_sugar  rest_ecg  exer_angina  slope  \\\n",
       "count      303         303                  303       303          303    303   \n",
       "unique       2           4                    2         3            2      3   \n",
       "top          1           0                    0         1            0      2   \n",
       "freq       207         143                  258       152          204    142   \n",
       "\n",
       "         ca  thalassemia  \n",
       "count   303          303  \n",
       "unique    5            4  \n",
       "top       0            2  \n",
       "freq    175          166  "
      ]
     },
     "execution_count": 128,
     "metadata": {},
     "output_type": "execute_result"
    }
   ],
   "source": [
    "df.describe(include=\"object\")"
   ]
  },
  {
   "cell_type": "code",
   "execution_count": 129,
   "id": "8f77b451",
   "metadata": {},
   "outputs": [
    {
     "data": {
      "text/html": [
       "<div>\n",
       "<style scoped>\n",
       "    .dataframe tbody tr th:only-of-type {\n",
       "        vertical-align: middle;\n",
       "    }\n",
       "\n",
       "    .dataframe tbody tr th {\n",
       "        vertical-align: top;\n",
       "    }\n",
       "\n",
       "    .dataframe thead th {\n",
       "        text-align: right;\n",
       "    }\n",
       "</style>\n",
       "<table border=\"1\" class=\"dataframe\">\n",
       "  <thead>\n",
       "    <tr style=\"text-align: right;\">\n",
       "      <th></th>\n",
       "      <th>age</th>\n",
       "      <th>rest_bps</th>\n",
       "      <th>cholestrol</th>\n",
       "      <th>thalach</th>\n",
       "      <th>old_peak</th>\n",
       "      <th>target</th>\n",
       "    </tr>\n",
       "  </thead>\n",
       "  <tbody>\n",
       "    <tr>\n",
       "      <th>count</th>\n",
       "      <td>303.000000</td>\n",
       "      <td>303.000000</td>\n",
       "      <td>303.000000</td>\n",
       "      <td>303.000000</td>\n",
       "      <td>303.000000</td>\n",
       "      <td>303.000000</td>\n",
       "    </tr>\n",
       "    <tr>\n",
       "      <th>mean</th>\n",
       "      <td>54.366337</td>\n",
       "      <td>131.623762</td>\n",
       "      <td>246.264026</td>\n",
       "      <td>149.646865</td>\n",
       "      <td>1.039604</td>\n",
       "      <td>0.544554</td>\n",
       "    </tr>\n",
       "    <tr>\n",
       "      <th>std</th>\n",
       "      <td>9.082101</td>\n",
       "      <td>17.538143</td>\n",
       "      <td>51.830751</td>\n",
       "      <td>22.905161</td>\n",
       "      <td>1.161075</td>\n",
       "      <td>0.498835</td>\n",
       "    </tr>\n",
       "    <tr>\n",
       "      <th>min</th>\n",
       "      <td>29.000000</td>\n",
       "      <td>94.000000</td>\n",
       "      <td>126.000000</td>\n",
       "      <td>71.000000</td>\n",
       "      <td>0.000000</td>\n",
       "      <td>0.000000</td>\n",
       "    </tr>\n",
       "    <tr>\n",
       "      <th>25%</th>\n",
       "      <td>47.500000</td>\n",
       "      <td>120.000000</td>\n",
       "      <td>211.000000</td>\n",
       "      <td>133.500000</td>\n",
       "      <td>0.000000</td>\n",
       "      <td>0.000000</td>\n",
       "    </tr>\n",
       "    <tr>\n",
       "      <th>50%</th>\n",
       "      <td>55.000000</td>\n",
       "      <td>130.000000</td>\n",
       "      <td>240.000000</td>\n",
       "      <td>153.000000</td>\n",
       "      <td>0.800000</td>\n",
       "      <td>1.000000</td>\n",
       "    </tr>\n",
       "    <tr>\n",
       "      <th>75%</th>\n",
       "      <td>61.000000</td>\n",
       "      <td>140.000000</td>\n",
       "      <td>274.500000</td>\n",
       "      <td>166.000000</td>\n",
       "      <td>1.600000</td>\n",
       "      <td>1.000000</td>\n",
       "    </tr>\n",
       "    <tr>\n",
       "      <th>max</th>\n",
       "      <td>77.000000</td>\n",
       "      <td>200.000000</td>\n",
       "      <td>564.000000</td>\n",
       "      <td>202.000000</td>\n",
       "      <td>6.200000</td>\n",
       "      <td>1.000000</td>\n",
       "    </tr>\n",
       "  </tbody>\n",
       "</table>\n",
       "</div>"
      ],
      "text/plain": [
       "              age    rest_bps  cholestrol     thalach    old_peak      target\n",
       "count  303.000000  303.000000  303.000000  303.000000  303.000000  303.000000\n",
       "mean    54.366337  131.623762  246.264026  149.646865    1.039604    0.544554\n",
       "std      9.082101   17.538143   51.830751   22.905161    1.161075    0.498835\n",
       "min     29.000000   94.000000  126.000000   71.000000    0.000000    0.000000\n",
       "25%     47.500000  120.000000  211.000000  133.500000    0.000000    0.000000\n",
       "50%     55.000000  130.000000  240.000000  153.000000    0.800000    1.000000\n",
       "75%     61.000000  140.000000  274.500000  166.000000    1.600000    1.000000\n",
       "max     77.000000  200.000000  564.000000  202.000000    6.200000    1.000000"
      ]
     },
     "execution_count": 129,
     "metadata": {},
     "output_type": "execute_result"
    }
   ],
   "source": [
    "df.describe()"
   ]
  },
  {
   "cell_type": "code",
   "execution_count": 130,
   "id": "dc342c0b",
   "metadata": {},
   "outputs": [
    {
     "data": {
      "text/plain": [
       "1    207\n",
       "0     96\n",
       "Name: gender, dtype: int64"
      ]
     },
     "execution_count": 130,
     "metadata": {},
     "output_type": "execute_result"
    }
   ],
   "source": [
    "df[\"gender\"].value_counts()"
   ]
  },
  {
   "cell_type": "markdown",
   "id": "377f3063",
   "metadata": {},
   "source": [
    "# EDA\n",
    "Univariate Analysis"
   ]
  },
  {
   "cell_type": "code",
   "execution_count": 131,
   "id": "6acabede",
   "metadata": {},
   "outputs": [
    {
     "data": {
      "text/plain": [
       "<Figure size 1296x1296 with 0 Axes>"
      ]
     },
     "metadata": {},
     "output_type": "display_data"
    },
    {
     "data": {
      "image/png": "[encoded data removed]",
      "text/plain": [
       "<Figure size 1296x1296 with 6 Axes>"
      ]
     },
     "metadata": {
      "needs_background": "light"
     },
     "output_type": "display_data"
    }
   ],
   "source": [
    "plt.figure(figsize=(18,18))\n",
    "df.hist(figsize=(18,18));"
   ]
  },
  {
   "cell_type": "code",
   "execution_count": 139,
   "id": "d92d0d8e",
   "metadata": {},
   "outputs": [
    {
     "name": "stderr",
     "output_type": "stream",
     "text": [
      "C:\\Users\\Chhaya\\anaconda3\\lib\\site-packages\\seaborn\\_decorators.py:36: FutureWarning: Pass the following variable as a keyword arg: x. From version 0.12, the only valid positional argument will be `data`, and passing other arguments without an explicit keyword will result in an error or misinterpretation.\n",
      "  warnings.warn(\n"
     ]
    },
    {
     "data": {
      "text/plain": [
       "<AxesSubplot:xlabel='gender', ylabel='count'>"
      ]
     },
     "execution_count": 139,
     "metadata": {},
     "output_type": "execute_result"
    },
    {
     "data": {
      "image/png": "[encoded data removed]",
      "text/plain": [
       "<Figure size 432x288 with 1 Axes>"
      ]
     },
     "metadata": {
      "needs_background": "light"
     },
     "output_type": "display_data"
    }
   ],
   "source": [
    "sns.countplot(df[\"gender\"])"
   ]
  },
  {
   "cell_type": "code",
   "execution_count": 141,
   "id": "bbbd1675",
   "metadata": {},
   "outputs": [
    {
     "name": "stderr",
     "output_type": "stream",
     "text": [
      "C:\\Users\\Chhaya\\anaconda3\\lib\\site-packages\\seaborn\\_decorators.py:36: FutureWarning: Pass the following variable as a keyword arg: x. From version 0.12, the only valid positional argument will be `data`, and passing other arguments without an explicit keyword will result in an error or misinterpretation.\n",
      "  warnings.warn(\n"
     ]
    },
    {
     "data": {
      "text/plain": [
       "<AxesSubplot:xlabel='chest_pain', ylabel='count'>"
      ]
     },
     "execution_count": 141,
     "metadata": {},
     "output_type": "execute_result"
    },
    {
     "data": {
      "image/png": "[encoded data removed]",
      "text/plain": [
       "<Figure size 432x288 with 1 Axes>"
      ]
     },
     "metadata": {
      "needs_background": "light"
     },
     "output_type": "display_data"
    }
   ],
   "source": [
    "sns.countplot(df[\"chest_pain\"],hue=df[\"gender\"])"
   ]
  },
  {
   "cell_type": "code",
   "execution_count": 142,
   "id": "a573bb44",
   "metadata": {},
   "outputs": [
    {
     "name": "stderr",
     "output_type": "stream",
     "text": [
      "C:\\Users\\Chhaya\\anaconda3\\lib\\site-packages\\seaborn\\_decorators.py:36: FutureWarning: Pass the following variable as a keyword arg: x. From version 0.12, the only valid positional argument will be `data`, and passing other arguments without an explicit keyword will result in an error or misinterpretation.\n",
      "  warnings.warn(\n"
     ]
    },
    {
     "data": {
      "text/plain": [
       "<AxesSubplot:xlabel='target', ylabel='count'>"
      ]
     },
     "execution_count": 142,
     "metadata": {},
     "output_type": "execute_result"
    },
    {
     "data": {
      "image/png": "[encoded data removed]",
      "text/plain": [
       "<Figure size 432x288 with 1 Axes>"
      ]
     },
     "metadata": {
      "needs_background": "light"
     },
     "output_type": "display_data"
    }
   ],
   "source": [
    "sns.countplot(df[\"target\"],hue=df[\"gender\"])"
   ]
  },
  {
   "cell_type": "code",
   "execution_count": 143,
   "id": "72424f61",
   "metadata": {},
   "outputs": [
    {
     "name": "stderr",
     "output_type": "stream",
     "text": [
      "C:\\Users\\Chhaya\\anaconda3\\lib\\site-packages\\seaborn\\_decorators.py:36: FutureWarning: Pass the following variable as a keyword arg: x. From version 0.12, the only valid positional argument will be `data`, and passing other arguments without an explicit keyword will result in an error or misinterpretation.\n",
      "  warnings.warn(\n"
     ]
    },
    {
     "data": {
      "text/plain": [
       "<AxesSubplot:xlabel='fasting_blood_sugar', ylabel='count'>"
      ]
     },
     "execution_count": 143,
     "metadata": {},
     "output_type": "execute_result"
    },
    {
     "data": {
      "image/png": "[encoded data removed]",
      "text/plain": [
       "<Figure size 432x288 with 1 Axes>"
      ]
     },
     "metadata": {
      "needs_background": "light"
     },
     "output_type": "display_data"
    }
   ],
   "source": [
    "sns.countplot(df[\"fasting_blood_sugar\"],hue=df[\"gender\"])"
   ]
  },
  {
   "cell_type": "code",
   "execution_count": 144,
   "id": "be23377b",
   "metadata": {},
   "outputs": [
    {
     "name": "stderr",
     "output_type": "stream",
     "text": [
      "C:\\Users\\Chhaya\\anaconda3\\lib\\site-packages\\seaborn\\_decorators.py:36: FutureWarning: Pass the following variable as a keyword arg: x. From version 0.12, the only valid positional argument will be `data`, and passing other arguments without an explicit keyword will result in an error or misinterpretation.\n",
      "  warnings.warn(\n"
     ]
    },
    {
     "data": {
      "text/plain": [
       "<AxesSubplot:xlabel='exer_angina', ylabel='count'>"
      ]
     },
     "execution_count": 144,
     "metadata": {},
     "output_type": "execute_result"
    },
    {
     "data": {
      "image/png": "[encoded data removed]",
      "text/plain": [
       "<Figure size 432x288 with 1 Axes>"
      ]
     },
     "metadata": {
      "needs_background": "light"
     },
     "output_type": "display_data"
    }
   ],
   "source": [
    "sns.countplot(df[\"exer_angina\"],hue=df[\"gender\"])"
   ]
  },
  {
   "cell_type": "code",
   "execution_count": 153,
   "id": "1fb9598c",
   "metadata": {},
   "outputs": [
    {
     "name": "stderr",
     "output_type": "stream",
     "text": [
      "C:\\Users\\Chhaya\\anaconda3\\lib\\site-packages\\seaborn\\_decorators.py:36: FutureWarning: Pass the following variable as a keyword arg: x. From version 0.12, the only valid positional argument will be `data`, and passing other arguments without an explicit keyword will result in an error or misinterpretation.\n",
      "  warnings.warn(\n"
     ]
    },
    {
     "data": {
      "text/plain": [
       "<AxesSubplot:xlabel='thalassemia', ylabel='count'>"
      ]
     },
     "execution_count": 153,
     "metadata": {},
     "output_type": "execute_result"
    },
    {
     "data": {
      "image/png": "[encoded data removed]",
      "text/plain": [
       "<Figure size 432x288 with 1 Axes>"
      ]
     },
     "metadata": {
      "needs_background": "light"
     },
     "output_type": "display_data"
    }
   ],
   "source": [
    "sns.countplot(df[\"thalassemia\"],hue=df[\"target\"])"
   ]
  },
  {
   "cell_type": "markdown",
   "id": "04d98794",
   "metadata": {},
   "source": [
    "Bivariate Analysis"
   ]
  },
  {
   "cell_type": "code",
   "execution_count": 132,
   "id": "ad6fc0d4",
   "metadata": {},
   "outputs": [
    {
     "name": "stderr",
     "output_type": "stream",
     "text": [
      "C:\\Users\\Chhaya\\anaconda3\\lib\\site-packages\\seaborn\\_decorators.py:36: FutureWarning: Pass the following variables as keyword args: x, y. From version 0.12, the only valid positional argument will be `data`, and passing other arguments without an explicit keyword will result in an error or misinterpretation.\n",
      "  warnings.warn(\n"
     ]
    },
    {
     "data": {
      "text/plain": [
       "<seaborn.axisgrid.JointGrid at 0x210965a2070>"
      ]
     },
     "execution_count": 132,
     "metadata": {},
     "output_type": "execute_result"
    },
    {
     "data": {
      "image/png": "[encoded data removed]",
      "text/plain": [
       "<Figure size 432x432 with 3 Axes>"
      ]
     },
     "metadata": {
      "needs_background": "light"
     },
     "output_type": "display_data"
    }
   ],
   "source": [
    "sns.jointplot(df[\"rest_bps\"],df[\"target\"],kind=\"reg\")"
   ]
  },
  {
   "cell_type": "code",
   "execution_count": 133,
   "id": "971aebdf",
   "metadata": {},
   "outputs": [
    {
     "name": "stderr",
     "output_type": "stream",
     "text": [
      "C:\\Users\\Chhaya\\anaconda3\\lib\\site-packages\\seaborn\\_decorators.py:36: FutureWarning: Pass the following variables as keyword args: x, y. From version 0.12, the only valid positional argument will be `data`, and passing other arguments without an explicit keyword will result in an error or misinterpretation.\n",
      "  warnings.warn(\n"
     ]
    },
    {
     "data": {
      "text/plain": [
       "<seaborn.axisgrid.JointGrid at 0x21092803340>"
      ]
     },
     "execution_count": 133,
     "metadata": {},
     "output_type": "execute_result"
    },
    {
     "data": {
      "image/png": "[encoded data removed]",
      "text/plain": [
       "<Figure size 432x432 with 3 Axes>"
      ]
     },
     "metadata": {
      "needs_background": "light"
     },
     "output_type": "display_data"
    }
   ],
   "source": [
    "sns.jointplot(df[\"age\"],df[\"target\"],kind=\"reg\")"
   ]
  },
  {
   "cell_type": "code",
   "execution_count": 156,
   "id": "9fc967f4",
   "metadata": {},
   "outputs": [
    {
     "name": "stderr",
     "output_type": "stream",
     "text": [
      "C:\\Users\\Chhaya\\anaconda3\\lib\\site-packages\\seaborn\\_decorators.py:36: FutureWarning: Pass the following variables as keyword args: x, y. From version 0.12, the only valid positional argument will be `data`, and passing other arguments without an explicit keyword will result in an error or misinterpretation.\n",
      "  warnings.warn(\n"
     ]
    },
    {
     "data": {
      "text/plain": [
       "<AxesSubplot:xlabel='target', ylabel='thalach'>"
      ]
     },
     "execution_count": 156,
     "metadata": {},
     "output_type": "execute_result"
    },
    {
     "data": {
      "image/png": "[encoded data removed]",
      "text/plain": [
       "<Figure size 432x288 with 1 Axes>"
      ]
     },
     "metadata": {
      "needs_background": "light"
     },
     "output_type": "display_data"
    }
   ],
   "source": [
    "sns.boxplot(df[\"target\"],df[\"thalach\"],showfliers=False)"
   ]
  },
  {
   "cell_type": "code",
   "execution_count": 135,
   "id": "ed8f8ace",
   "metadata": {},
   "outputs": [
    {
     "data": {
      "text/plain": [
       "Text(0, 0.5, 'Probability Density')"
      ]
     },
     "execution_count": 135,
     "metadata": {},
     "output_type": "execute_result"
    },
    {
     "data": {
      "image/png": "[encoded data removed]",
      "text/plain": [
       "<Figure size 432x288 with 1 Axes>"
      ]
     },
     "metadata": {
      "needs_background": "light"
     },
     "output_type": "display_data"
    }
   ],
   "source": [
    "sns.kdeplot(df[\"gender\"], color='r', shade=True)\n",
    "  \n",
    "sns.kdeplot(df[\"target\"], color='b', shade=True)\n",
    "  \n",
    "plt.xlabel('gender')\n",
    "plt.ylabel('Probability Density')"
   ]
  },
  {
   "cell_type": "code",
   "execution_count": 136,
   "id": "3b6500ac",
   "metadata": {},
   "outputs": [],
   "source": [
    "df_=pd.crosstab(df[\"gender\"],df[\"target\"],values=df[\"chest_pain\"],aggfunc=\"mean\")"
   ]
  },
  {
   "cell_type": "code",
   "execution_count": 137,
   "id": "de1a9242",
   "metadata": {},
   "outputs": [
    {
     "data": {
      "text/html": [
       "<div>\n",
       "<style scoped>\n",
       "    .dataframe tbody tr th:only-of-type {\n",
       "        vertical-align: middle;\n",
       "    }\n",
       "\n",
       "    .dataframe tbody tr th {\n",
       "        vertical-align: top;\n",
       "    }\n",
       "\n",
       "    .dataframe thead th {\n",
       "        text-align: right;\n",
       "    }\n",
       "</style>\n",
       "<table border=\"1\" class=\"dataframe\">\n",
       "  <thead>\n",
       "    <tr style=\"text-align: right;\">\n",
       "      <th>target</th>\n",
       "      <th>0</th>\n",
       "      <th>1</th>\n",
       "    </tr>\n",
       "    <tr>\n",
       "      <th>gender</th>\n",
       "      <th></th>\n",
       "      <th></th>\n",
       "    </tr>\n",
       "  </thead>\n",
       "  <tbody>\n",
       "    <tr>\n",
       "      <th>0</th>\n",
       "      <td>0.166667</td>\n",
       "      <td>1.333333</td>\n",
       "    </tr>\n",
       "    <tr>\n",
       "      <th>1</th>\n",
       "      <td>0.543860</td>\n",
       "      <td>1.408602</td>\n",
       "    </tr>\n",
       "  </tbody>\n",
       "</table>\n",
       "</div>"
      ],
      "text/plain": [
       "target         0         1\n",
       "gender                    \n",
       "0       0.166667  1.333333\n",
       "1       0.543860  1.408602"
      ]
     },
     "execution_count": 137,
     "metadata": {},
     "output_type": "execute_result"
    }
   ],
   "source": [
    "df_"
   ]
  },
  {
   "cell_type": "code",
   "execution_count": 152,
   "id": "7484cf7b",
   "metadata": {},
   "outputs": [
    {
     "name": "stderr",
     "output_type": "stream",
     "text": [
      "C:\\Users\\Chhaya\\anaconda3\\lib\\site-packages\\seaborn\\_decorators.py:36: FutureWarning: Pass the following variables as keyword args: x, y. From version 0.12, the only valid positional argument will be `data`, and passing other arguments without an explicit keyword will result in an error or misinterpretation.\n",
      "  warnings.warn(\n"
     ]
    },
    {
     "data": {
      "text/plain": [
       "<seaborn.axisgrid.JointGrid at 0x2109206b3a0>"
      ]
     },
     "execution_count": 152,
     "metadata": {},
     "output_type": "execute_result"
    },
    {
     "data": {
      "image/png": "[encoded data removed]",
      "text/plain": [
       "<Figure size 432x432 with 3 Axes>"
      ]
     },
     "metadata": {
      "needs_background": "light"
     },
     "output_type": "display_data"
    }
   ],
   "source": [
    "sns.jointplot(df[\"cholestrol\"],df[\"age\"],kind=\"reg\")"
   ]
  },
  {
   "cell_type": "code",
   "execution_count": 155,
   "id": "c24b3ca1",
   "metadata": {},
   "outputs": [
    {
     "name": "stderr",
     "output_type": "stream",
     "text": [
      "C:\\Users\\Chhaya\\anaconda3\\lib\\site-packages\\seaborn\\_decorators.py:36: FutureWarning: Pass the following variables as keyword args: x, y. From version 0.12, the only valid positional argument will be `data`, and passing other arguments without an explicit keyword will result in an error or misinterpretation.\n",
      "  warnings.warn(\n"
     ]
    },
    {
     "data": {
      "text/plain": [
       "<AxesSubplot:xlabel='chest_pain', ylabel='cholestrol'>"
      ]
     },
     "execution_count": 155,
     "metadata": {},
     "output_type": "execute_result"
    },
    {
     "data": {
      "image/png": "[encoded data removed]",
      "text/plain": [
       "<Figure size 432x288 with 1 Axes>"
      ]
     },
     "metadata": {
      "needs_background": "light"
     },
     "output_type": "display_data"
    }
   ],
   "source": [
    "sns.barplot(df[\"chest_pain\"],df[\"cholestrol\"])"
   ]
  },
  {
   "cell_type": "markdown",
   "id": "8206aac5",
   "metadata": {},
   "source": [
    "# Inferences"
   ]
  },
  {
   "cell_type": "markdown",
   "id": "06915756",
   "metadata": {},
   "source": [
    "from EDA we can conclude that:\n",
    "1.Data is little biased on gender as count of male is less than female,so chances of heart disease in females is higher.\n",
    "2.Age and chances of having heart disease has inverse relation so it cannot be claimed that elderly people have high chances of heart failure.\n",
    "3.As elderly people have high cholestrol.\n",
    "4.High cholestrol has direct relation with chest pain.\n",
    "5.Thalassemia strongly relates with occurence of heart disease. "
   ]
  },
  {
   "cell_type": "code",
   "execution_count": 158,
   "id": "1f7f894d",
   "metadata": {},
   "outputs": [
    {
     "data": {
      "text/html": [
       "<div>\n",
       "<style scoped>\n",
       "    .dataframe tbody tr th:only-of-type {\n",
       "        vertical-align: middle;\n",
       "    }\n",
       "\n",
       "    .dataframe tbody tr th {\n",
       "        vertical-align: top;\n",
       "    }\n",
       "\n",
       "    .dataframe thead th {\n",
       "        text-align: right;\n",
       "    }\n",
       "</style>\n",
       "<table border=\"1\" class=\"dataframe\">\n",
       "  <thead>\n",
       "    <tr style=\"text-align: right;\">\n",
       "      <th></th>\n",
       "      <th>age</th>\n",
       "      <th>rest_bps</th>\n",
       "      <th>cholestrol</th>\n",
       "      <th>thalach</th>\n",
       "      <th>old_peak</th>\n",
       "      <th>target</th>\n",
       "    </tr>\n",
       "  </thead>\n",
       "  <tbody>\n",
       "    <tr>\n",
       "      <th>age</th>\n",
       "      <td>1.000000</td>\n",
       "      <td>0.279351</td>\n",
       "      <td>0.213678</td>\n",
       "      <td>-0.398522</td>\n",
       "      <td>0.210013</td>\n",
       "      <td>-0.225439</td>\n",
       "    </tr>\n",
       "    <tr>\n",
       "      <th>rest_bps</th>\n",
       "      <td>0.279351</td>\n",
       "      <td>1.000000</td>\n",
       "      <td>0.123174</td>\n",
       "      <td>-0.046698</td>\n",
       "      <td>0.193216</td>\n",
       "      <td>-0.144931</td>\n",
       "    </tr>\n",
       "    <tr>\n",
       "      <th>cholestrol</th>\n",
       "      <td>0.213678</td>\n",
       "      <td>0.123174</td>\n",
       "      <td>1.000000</td>\n",
       "      <td>-0.009940</td>\n",
       "      <td>0.053952</td>\n",
       "      <td>-0.085239</td>\n",
       "    </tr>\n",
       "    <tr>\n",
       "      <th>thalach</th>\n",
       "      <td>-0.398522</td>\n",
       "      <td>-0.046698</td>\n",
       "      <td>-0.009940</td>\n",
       "      <td>1.000000</td>\n",
       "      <td>-0.344187</td>\n",
       "      <td>0.421741</td>\n",
       "    </tr>\n",
       "    <tr>\n",
       "      <th>old_peak</th>\n",
       "      <td>0.210013</td>\n",
       "      <td>0.193216</td>\n",
       "      <td>0.053952</td>\n",
       "      <td>-0.344187</td>\n",
       "      <td>1.000000</td>\n",
       "      <td>-0.430696</td>\n",
       "    </tr>\n",
       "    <tr>\n",
       "      <th>target</th>\n",
       "      <td>-0.225439</td>\n",
       "      <td>-0.144931</td>\n",
       "      <td>-0.085239</td>\n",
       "      <td>0.421741</td>\n",
       "      <td>-0.430696</td>\n",
       "      <td>1.000000</td>\n",
       "    </tr>\n",
       "  </tbody>\n",
       "</table>\n",
       "</div>"
      ],
      "text/plain": [
       "                 age  rest_bps  cholestrol   thalach  old_peak    target\n",
       "age         1.000000  0.279351    0.213678 -0.398522  0.210013 -0.225439\n",
       "rest_bps    0.279351  1.000000    0.123174 -0.046698  0.193216 -0.144931\n",
       "cholestrol  0.213678  0.123174    1.000000 -0.009940  0.053952 -0.085239\n",
       "thalach    -0.398522 -0.046698   -0.009940  1.000000 -0.344187  0.421741\n",
       "old_peak    0.210013  0.193216    0.053952 -0.344187  1.000000 -0.430696\n",
       "target     -0.225439 -0.144931   -0.085239  0.421741 -0.430696  1.000000"
      ]
     },
     "execution_count": 158,
     "metadata": {},
     "output_type": "execute_result"
    }
   ],
   "source": [
    "data=df.corr()\n",
    "data"
   ]
  },
  {
   "cell_type": "code",
   "execution_count": 161,
   "id": "ca6e0ca7",
   "metadata": {},
   "outputs": [
    {
     "data": {
      "text/plain": [
       "<AxesSubplot:>"
      ]
     },
     "execution_count": 161,
     "metadata": {},
     "output_type": "execute_result"
    },
    {
     "data": {
      "image/png": "[encoded data removed]",
      "text/plain": [
       "<Figure size 432x288 with 2 Axes>"
      ]
     },
     "metadata": {
      "needs_background": "light"
     },
     "output_type": "display_data"
    }
   ],
   "source": [
    "sns.heatmap(data[data>0.3],annot=True)"
   ]
  },
  {
   "cell_type": "markdown",
   "id": "8ad16667",
   "metadata": {},
   "source": [
    "Feature Engineering"
   ]
  },
  {
   "cell_type": "code",
   "execution_count": 162,
   "id": "52a74331",
   "metadata": {},
   "outputs": [
    {
     "name": "stderr",
     "output_type": "stream",
     "text": [
      "C:\\Users\\Chhaya\\anaconda3\\lib\\site-packages\\pandas\\core\\algorithms.py:798: FutureWarning: In a future version, the Index constructor will not infer numeric dtypes when passed object-dtype sequences (matching Series behavior)\n",
      "  uniques = Index(uniques)\n"
     ]
    },
    {
     "data": {
      "text/html": [
       "<div>\n",
       "<style scoped>\n",
       "    .dataframe tbody tr th:only-of-type {\n",
       "        vertical-align: middle;\n",
       "    }\n",
       "\n",
       "    .dataframe tbody tr th {\n",
       "        vertical-align: top;\n",
       "    }\n",
       "\n",
       "    .dataframe thead th {\n",
       "        text-align: right;\n",
       "    }\n",
       "</style>\n",
       "<table border=\"1\" class=\"dataframe\">\n",
       "  <thead>\n",
       "    <tr style=\"text-align: right;\">\n",
       "      <th></th>\n",
       "      <th>age</th>\n",
       "      <th>rest_bps</th>\n",
       "      <th>cholestrol</th>\n",
       "      <th>thalach</th>\n",
       "      <th>old_peak</th>\n",
       "      <th>target</th>\n",
       "      <th>gender_1</th>\n",
       "      <th>chest_pain_1</th>\n",
       "      <th>chest_pain_2</th>\n",
       "      <th>chest_pain_3</th>\n",
       "      <th>...</th>\n",
       "      <th>exer_angina_1</th>\n",
       "      <th>slope_1</th>\n",
       "      <th>slope_2</th>\n",
       "      <th>ca_1</th>\n",
       "      <th>ca_2</th>\n",
       "      <th>ca_3</th>\n",
       "      <th>ca_4</th>\n",
       "      <th>thalassemia_1</th>\n",
       "      <th>thalassemia_2</th>\n",
       "      <th>thalassemia_3</th>\n",
       "    </tr>\n",
       "  </thead>\n",
       "  <tbody>\n",
       "    <tr>\n",
       "      <th>0</th>\n",
       "      <td>63</td>\n",
       "      <td>145</td>\n",
       "      <td>233</td>\n",
       "      <td>150</td>\n",
       "      <td>2.3</td>\n",
       "      <td>1</td>\n",
       "      <td>1</td>\n",
       "      <td>0</td>\n",
       "      <td>0</td>\n",
       "      <td>1</td>\n",
       "      <td>...</td>\n",
       "      <td>0</td>\n",
       "      <td>0</td>\n",
       "      <td>0</td>\n",
       "      <td>0</td>\n",
       "      <td>0</td>\n",
       "      <td>0</td>\n",
       "      <td>0</td>\n",
       "      <td>1</td>\n",
       "      <td>0</td>\n",
       "      <td>0</td>\n",
       "    </tr>\n",
       "    <tr>\n",
       "      <th>1</th>\n",
       "      <td>37</td>\n",
       "      <td>130</td>\n",
       "      <td>250</td>\n",
       "      <td>187</td>\n",
       "      <td>3.5</td>\n",
       "      <td>1</td>\n",
       "      <td>1</td>\n",
       "      <td>0</td>\n",
       "      <td>1</td>\n",
       "      <td>0</td>\n",
       "      <td>...</td>\n",
       "      <td>0</td>\n",
       "      <td>0</td>\n",
       "      <td>0</td>\n",
       "      <td>0</td>\n",
       "      <td>0</td>\n",
       "      <td>0</td>\n",
       "      <td>0</td>\n",
       "      <td>0</td>\n",
       "      <td>1</td>\n",
       "      <td>0</td>\n",
       "    </tr>\n",
       "    <tr>\n",
       "      <th>2</th>\n",
       "      <td>41</td>\n",
       "      <td>130</td>\n",
       "      <td>204</td>\n",
       "      <td>172</td>\n",
       "      <td>1.4</td>\n",
       "      <td>1</td>\n",
       "      <td>0</td>\n",
       "      <td>1</td>\n",
       "      <td>0</td>\n",
       "      <td>0</td>\n",
       "      <td>...</td>\n",
       "      <td>0</td>\n",
       "      <td>0</td>\n",
       "      <td>1</td>\n",
       "      <td>0</td>\n",
       "      <td>0</td>\n",
       "      <td>0</td>\n",
       "      <td>0</td>\n",
       "      <td>0</td>\n",
       "      <td>1</td>\n",
       "      <td>0</td>\n",
       "    </tr>\n",
       "    <tr>\n",
       "      <th>3</th>\n",
       "      <td>56</td>\n",
       "      <td>120</td>\n",
       "      <td>236</td>\n",
       "      <td>178</td>\n",
       "      <td>0.8</td>\n",
       "      <td>1</td>\n",
       "      <td>1</td>\n",
       "      <td>1</td>\n",
       "      <td>0</td>\n",
       "      <td>0</td>\n",
       "      <td>...</td>\n",
       "      <td>0</td>\n",
       "      <td>0</td>\n",
       "      <td>1</td>\n",
       "      <td>0</td>\n",
       "      <td>0</td>\n",
       "      <td>0</td>\n",
       "      <td>0</td>\n",
       "      <td>0</td>\n",
       "      <td>1</td>\n",
       "      <td>0</td>\n",
       "    </tr>\n",
       "    <tr>\n",
       "      <th>4</th>\n",
       "      <td>57</td>\n",
       "      <td>120</td>\n",
       "      <td>354</td>\n",
       "      <td>163</td>\n",
       "      <td>0.6</td>\n",
       "      <td>1</td>\n",
       "      <td>0</td>\n",
       "      <td>0</td>\n",
       "      <td>0</td>\n",
       "      <td>0</td>\n",
       "      <td>...</td>\n",
       "      <td>1</td>\n",
       "      <td>0</td>\n",
       "      <td>1</td>\n",
       "      <td>0</td>\n",
       "      <td>0</td>\n",
       "      <td>0</td>\n",
       "      <td>0</td>\n",
       "      <td>0</td>\n",
       "      <td>1</td>\n",
       "      <td>0</td>\n",
       "    </tr>\n",
       "    <tr>\n",
       "      <th>5</th>\n",
       "      <td>57</td>\n",
       "      <td>140</td>\n",
       "      <td>192</td>\n",
       "      <td>148</td>\n",
       "      <td>0.4</td>\n",
       "      <td>1</td>\n",
       "      <td>1</td>\n",
       "      <td>0</td>\n",
       "      <td>0</td>\n",
       "      <td>0</td>\n",
       "      <td>...</td>\n",
       "      <td>0</td>\n",
       "      <td>1</td>\n",
       "      <td>0</td>\n",
       "      <td>0</td>\n",
       "      <td>0</td>\n",
       "      <td>0</td>\n",
       "      <td>0</td>\n",
       "      <td>1</td>\n",
       "      <td>0</td>\n",
       "      <td>0</td>\n",
       "    </tr>\n",
       "    <tr>\n",
       "      <th>6</th>\n",
       "      <td>56</td>\n",
       "      <td>140</td>\n",
       "      <td>294</td>\n",
       "      <td>153</td>\n",
       "      <td>1.3</td>\n",
       "      <td>1</td>\n",
       "      <td>0</td>\n",
       "      <td>1</td>\n",
       "      <td>0</td>\n",
       "      <td>0</td>\n",
       "      <td>...</td>\n",
       "      <td>0</td>\n",
       "      <td>1</td>\n",
       "      <td>0</td>\n",
       "      <td>0</td>\n",
       "      <td>0</td>\n",
       "      <td>0</td>\n",
       "      <td>0</td>\n",
       "      <td>0</td>\n",
       "      <td>1</td>\n",
       "      <td>0</td>\n",
       "    </tr>\n",
       "    <tr>\n",
       "      <th>7</th>\n",
       "      <td>44</td>\n",
       "      <td>120</td>\n",
       "      <td>263</td>\n",
       "      <td>173</td>\n",
       "      <td>0.0</td>\n",
       "      <td>1</td>\n",
       "      <td>1</td>\n",
       "      <td>1</td>\n",
       "      <td>0</td>\n",
       "      <td>0</td>\n",
       "      <td>...</td>\n",
       "      <td>0</td>\n",
       "      <td>0</td>\n",
       "      <td>1</td>\n",
       "      <td>0</td>\n",
       "      <td>0</td>\n",
       "      <td>0</td>\n",
       "      <td>0</td>\n",
       "      <td>0</td>\n",
       "      <td>0</td>\n",
       "      <td>1</td>\n",
       "    </tr>\n",
       "    <tr>\n",
       "      <th>8</th>\n",
       "      <td>52</td>\n",
       "      <td>172</td>\n",
       "      <td>199</td>\n",
       "      <td>162</td>\n",
       "      <td>0.5</td>\n",
       "      <td>1</td>\n",
       "      <td>1</td>\n",
       "      <td>0</td>\n",
       "      <td>1</td>\n",
       "      <td>0</td>\n",
       "      <td>...</td>\n",
       "      <td>0</td>\n",
       "      <td>0</td>\n",
       "      <td>1</td>\n",
       "      <td>0</td>\n",
       "      <td>0</td>\n",
       "      <td>0</td>\n",
       "      <td>0</td>\n",
       "      <td>0</td>\n",
       "      <td>0</td>\n",
       "      <td>1</td>\n",
       "    </tr>\n",
       "    <tr>\n",
       "      <th>9</th>\n",
       "      <td>57</td>\n",
       "      <td>150</td>\n",
       "      <td>168</td>\n",
       "      <td>174</td>\n",
       "      <td>1.6</td>\n",
       "      <td>1</td>\n",
       "      <td>1</td>\n",
       "      <td>0</td>\n",
       "      <td>1</td>\n",
       "      <td>0</td>\n",
       "      <td>...</td>\n",
       "      <td>0</td>\n",
       "      <td>0</td>\n",
       "      <td>1</td>\n",
       "      <td>0</td>\n",
       "      <td>0</td>\n",
       "      <td>0</td>\n",
       "      <td>0</td>\n",
       "      <td>0</td>\n",
       "      <td>1</td>\n",
       "      <td>0</td>\n",
       "    </tr>\n",
       "  </tbody>\n",
       "</table>\n",
       "<p>10 rows × 23 columns</p>\n",
       "</div>"
      ],
      "text/plain": [
       "   age  rest_bps  cholestrol  thalach  old_peak  target  gender_1  \\\n",
       "0   63       145         233      150       2.3       1         1   \n",
       "1   37       130         250      187       3.5       1         1   \n",
       "2   41       130         204      172       1.4       1         0   \n",
       "3   56       120         236      178       0.8       1         1   \n",
       "4   57       120         354      163       0.6       1         0   \n",
       "5   57       140         192      148       0.4       1         1   \n",
       "6   56       140         294      153       1.3       1         0   \n",
       "7   44       120         263      173       0.0       1         1   \n",
       "8   52       172         199      162       0.5       1         1   \n",
       "9   57       150         168      174       1.6       1         1   \n",
       "\n",
       "   chest_pain_1  chest_pain_2  chest_pain_3  ...  exer_angina_1  slope_1  \\\n",
       "0             0             0             1  ...              0        0   \n",
       "1             0             1             0  ...              0        0   \n",
       "2             1             0             0  ...              0        0   \n",
       "3             1             0             0  ...              0        0   \n",
       "4             0             0             0  ...              1        0   \n",
       "5             0             0             0  ...              0        1   \n",
       "6             1             0             0  ...              0        1   \n",
       "7             1             0             0  ...              0        0   \n",
       "8             0             1             0  ...              0        0   \n",
       "9             0             1             0  ...              0        0   \n",
       "\n",
       "   slope_2  ca_1  ca_2  ca_3  ca_4  thalassemia_1  thalassemia_2  \\\n",
       "0        0     0     0     0     0              1              0   \n",
       "1        0     0     0     0     0              0              1   \n",
       "2        1     0     0     0     0              0              1   \n",
       "3        1     0     0     0     0              0              1   \n",
       "4        1     0     0     0     0              0              1   \n",
       "5        0     0     0     0     0              1              0   \n",
       "6        0     0     0     0     0              0              1   \n",
       "7        1     0     0     0     0              0              0   \n",
       "8        1     0     0     0     0              0              0   \n",
       "9        1     0     0     0     0              0              1   \n",
       "\n",
       "   thalassemia_3  \n",
       "0              0  \n",
       "1              0  \n",
       "2              0  \n",
       "3              0  \n",
       "4              0  \n",
       "5              0  \n",
       "6              0  \n",
       "7              1  \n",
       "8              1  \n",
       "9              0  \n",
       "\n",
       "[10 rows x 23 columns]"
      ]
     },
     "execution_count": 162,
     "metadata": {},
     "output_type": "execute_result"
    }
   ],
   "source": [
    "df1=pd.get_dummies(df,drop_first=True)\n",
    "df1[:10]"
   ]
  },
  {
   "cell_type": "markdown",
   "id": "f0498581",
   "metadata": {},
   "source": [
    "Model Building"
   ]
  },
  {
   "cell_type": "code",
   "execution_count": 164,
   "id": "cf7a8a40",
   "metadata": {},
   "outputs": [],
   "source": [
    "x=df1.drop(\"target\",axis=1)\n",
    "y=df1[\"target\"]"
   ]
  },
  {
   "cell_type": "code",
   "execution_count": 165,
   "id": "4556ed99",
   "metadata": {},
   "outputs": [],
   "source": [
    "from sklearn.model_selection import train_test_split"
   ]
  },
  {
   "cell_type": "code",
   "execution_count": 166,
   "id": "5a45903a",
   "metadata": {},
   "outputs": [],
   "source": [
    "x_train,x_test,y_train,y_test=train_test_split(x,y,test_size=0.3,random_state=103)"
   ]
  },
  {
   "cell_type": "code",
   "execution_count": 167,
   "id": "16655b6b",
   "metadata": {},
   "outputs": [],
   "source": [
    "from sklearn.tree import DecisionTreeClassifier"
   ]
  },
  {
   "cell_type": "code",
   "execution_count": 168,
   "id": "023d8312",
   "metadata": {},
   "outputs": [],
   "source": [
    "dct=DecisionTreeClassifier(random_state=104,max_depth=50).fit(x_train,y_train)"
   ]
  },
  {
   "cell_type": "code",
   "execution_count": 169,
   "id": "a5a537a3",
   "metadata": {},
   "outputs": [],
   "source": [
    "y_pred=dct.predict(x_test)"
   ]
  },
  {
   "cell_type": "code",
   "execution_count": 170,
   "id": "e97fbeef",
   "metadata": {},
   "outputs": [
    {
     "data": {
      "text/plain": [
       "array([1, 1, 1, 1, 0, 1, 1, 1, 1, 1, 1, 1, 1, 0, 0, 0, 0, 0, 1, 1, 0, 0,\n",
       "       0, 0, 1, 1, 1, 0, 0, 1, 0, 1, 0, 1, 0, 1, 0, 1, 1, 1, 1, 0, 0, 1,\n",
       "       0, 0, 0, 1, 1, 0, 0, 1, 1, 1, 1, 1, 0, 0, 0, 1, 0, 0, 0, 0, 0, 1,\n",
       "       1, 0, 0, 1, 0, 1, 1, 1, 0, 1, 0, 1, 0, 0, 1, 0, 1, 1, 0, 0, 0, 0,\n",
       "       0, 1, 1], dtype=int64)"
      ]
     },
     "execution_count": 170,
     "metadata": {},
     "output_type": "execute_result"
    }
   ],
   "source": [
    "y_pred"
   ]
  },
  {
   "cell_type": "code",
   "execution_count": 171,
   "id": "332c936b",
   "metadata": {},
   "outputs": [],
   "source": [
    "from sklearn.metrics import accuracy_score"
   ]
  },
  {
   "cell_type": "code",
   "execution_count": 172,
   "id": "805da2b7",
   "metadata": {},
   "outputs": [],
   "source": [
    "ac=accuracy_score(y_pred,y_test)"
   ]
  },
  {
   "cell_type": "code",
   "execution_count": 173,
   "id": "1bef05ac",
   "metadata": {},
   "outputs": [
    {
     "data": {
      "text/plain": [
       "0.7802197802197802"
      ]
     },
     "execution_count": 173,
     "metadata": {},
     "output_type": "execute_result"
    }
   ],
   "source": [
    "ac"
   ]
  },
  {
   "cell_type": "code",
   "execution_count": 177,
   "id": "4da7263c",
   "metadata": {},
   "outputs": [],
   "source": [
    "dict1={\"criterion\":[\"gini\",\"entropy\"],\n",
    "      \"splitter\":[\"best\",\"random\"],\n",
    "      \"max_depth\":range(50)}"
   ]
  },
  {
   "cell_type": "code",
   "execution_count": 178,
   "id": "02571b4f",
   "metadata": {},
   "outputs": [],
   "source": [
    "from sklearn.model_selection import GridSearchCV"
   ]
  },
  {
   "cell_type": "code",
   "execution_count": 179,
   "id": "5270ae03",
   "metadata": {},
   "outputs": [],
   "source": [
    "model=GridSearchCV(dct,param_grid=dict1,cv=10,n_jobs=-1)"
   ]
  },
  {
   "cell_type": "code",
   "execution_count": 180,
   "id": "f2e69f37",
   "metadata": {},
   "outputs": [
    {
     "name": "stderr",
     "output_type": "stream",
     "text": [
      "C:\\Users\\Chhaya\\anaconda3\\lib\\site-packages\\sklearn\\model_selection\\_validation.py:372: FitFailedWarning: \n",
      "40 fits failed out of a total of 2000.\n",
      "The score on these train-test partitions for these parameters will be set to nan.\n",
      "If these failures are not expected, you can try to debug them by setting error_score='raise'.\n",
      "\n",
      "Below are more details about the failures:\n",
      "--------------------------------------------------------------------------------\n",
      "40 fits failed with the following error:\n",
      "Traceback (most recent call last):\n",
      "  File \"C:\\Users\\Chhaya\\anaconda3\\lib\\site-packages\\sklearn\\model_selection\\_validation.py\", line 680, in _fit_and_score\n",
      "    estimator.fit(X_train, y_train, **fit_params)\n",
      "  File \"C:\\Users\\Chhaya\\anaconda3\\lib\\site-packages\\sklearn\\tree\\_classes.py\", line 937, in fit\n",
      "    super().fit(\n",
      "  File \"C:\\Users\\Chhaya\\anaconda3\\lib\\site-packages\\sklearn\\tree\\_classes.py\", line 306, in fit\n",
      "    raise ValueError(\"max_depth must be greater than zero. \")\n",
      "ValueError: max_depth must be greater than zero. \n",
      "\n",
      "  warnings.warn(some_fits_failed_message, FitFailedWarning)\n",
      "C:\\Users\\Chhaya\\anaconda3\\lib\\site-packages\\sklearn\\model_selection\\_search.py:969: UserWarning: One or more of the test scores are non-finite: [       nan        nan 0.74978355 0.74978355 0.72662338 0.73095238\n",
      " 0.71688312 0.70757576 0.71666667 0.75064935 0.70779221 0.73636364\n",
      " 0.67943723 0.76017316 0.66991342 0.72727273 0.67922078 0.7508658\n",
      " 0.68398268 0.72251082 0.67922078 0.72229437 0.67922078 0.73658009\n",
      " 0.67922078 0.71774892 0.67922078 0.73679654 0.67922078 0.73203463\n",
      " 0.67922078 0.73203463 0.67922078 0.73203463 0.67922078 0.73203463\n",
      " 0.67922078 0.73203463 0.67922078 0.73203463 0.67922078 0.73203463\n",
      " 0.67922078 0.73203463 0.67922078 0.73203463 0.67922078 0.73203463\n",
      " 0.67922078 0.73203463 0.67922078 0.73203463 0.67922078 0.73203463\n",
      " 0.67922078 0.73203463 0.67922078 0.73203463 0.67922078 0.73203463\n",
      " 0.67922078 0.73203463 0.67922078 0.73203463 0.67922078 0.73203463\n",
      " 0.67922078 0.73203463 0.67922078 0.73203463 0.67922078 0.73203463\n",
      " 0.67922078 0.73203463 0.67922078 0.73203463 0.67922078 0.73203463\n",
      " 0.67922078 0.73203463 0.67922078 0.73203463 0.67922078 0.73203463\n",
      " 0.67922078 0.73203463 0.67922078 0.73203463 0.67922078 0.73203463\n",
      " 0.67922078 0.73203463 0.67922078 0.73203463 0.67922078 0.73203463\n",
      " 0.67922078 0.73203463 0.67922078 0.73203463        nan        nan\n",
      " 0.74978355 0.74978355 0.71709957 0.73549784 0.71233766 0.72164502\n",
      " 0.69372294 0.72229437 0.68896104 0.73203463 0.68398268 0.74134199\n",
      " 0.6978355  0.745671   0.69329004 0.76471861 0.68376623 0.77424242\n",
      " 0.69307359 0.77878788 0.68354978 0.74545455 0.67878788 0.75021645\n",
      " 0.67878788 0.75021645 0.67878788 0.75021645 0.67878788 0.75021645\n",
      " 0.67878788 0.75021645 0.67878788 0.75021645 0.67878788 0.75021645\n",
      " 0.67878788 0.75021645 0.67878788 0.75021645 0.67878788 0.75021645\n",
      " 0.67878788 0.75021645 0.67878788 0.75021645 0.67878788 0.75021645\n",
      " 0.67878788 0.75021645 0.67878788 0.75021645 0.67878788 0.75021645\n",
      " 0.67878788 0.75021645 0.67878788 0.75021645 0.67878788 0.75021645\n",
      " 0.67878788 0.75021645 0.67878788 0.75021645 0.67878788 0.75021645\n",
      " 0.67878788 0.75021645 0.67878788 0.75021645 0.67878788 0.75021645\n",
      " 0.67878788 0.75021645 0.67878788 0.75021645 0.67878788 0.75021645\n",
      " 0.67878788 0.75021645 0.67878788 0.75021645 0.67878788 0.75021645\n",
      " 0.67878788 0.75021645 0.67878788 0.75021645 0.67878788 0.75021645\n",
      " 0.67878788 0.75021645 0.67878788 0.75021645 0.67878788 0.75021645\n",
      " 0.67878788 0.75021645]\n",
      "  warnings.warn(\n"
     ]
    },
    {
     "data": {
      "text/plain": [
       "GridSearchCV(cv=10,\n",
       "             estimator=DecisionTreeClassifier(max_depth=50, random_state=104),\n",
       "             n_jobs=-1,\n",
       "             param_grid={'criterion': ['gini', 'entropy'],\n",
       "                         'max_depth': range(0, 50),\n",
       "                         'splitter': ['best', 'random']})"
      ]
     },
     "execution_count": 180,
     "metadata": {},
     "output_type": "execute_result"
    }
   ],
   "source": [
    "model.fit(x_train,y_train)"
   ]
  },
  {
   "cell_type": "code",
   "execution_count": 181,
   "id": "d8a24382",
   "metadata": {},
   "outputs": [
    {
     "data": {
      "text/plain": [
       "{'criterion': 'entropy', 'max_depth': 10, 'splitter': 'random'}"
      ]
     },
     "execution_count": 181,
     "metadata": {},
     "output_type": "execute_result"
    }
   ],
   "source": [
    "model.best_params_"
   ]
  },
  {
   "cell_type": "code",
   "execution_count": 182,
   "id": "25a71654",
   "metadata": {},
   "outputs": [],
   "source": [
    "model2=DecisionTreeClassifier(criterion= 'entropy', max_depth= 10, splitter= 'random',random_state=105)"
   ]
  },
  {
   "cell_type": "code",
   "execution_count": 183,
   "id": "81ce0001",
   "metadata": {},
   "outputs": [
    {
     "data": {
      "text/plain": [
       "DecisionTreeClassifier(criterion='entropy', max_depth=10, random_state=105,\n",
       "                       splitter='random')"
      ]
     },
     "execution_count": 183,
     "metadata": {},
     "output_type": "execute_result"
    }
   ],
   "source": [
    "model2.fit(x_train,y_train)"
   ]
  },
  {
   "cell_type": "code",
   "execution_count": 185,
   "id": "5879908c",
   "metadata": {},
   "outputs": [],
   "source": [
    "y_pred_=model2.predict(x_test)"
   ]
  },
  {
   "cell_type": "code",
   "execution_count": 186,
   "id": "7903decf",
   "metadata": {},
   "outputs": [
    {
     "data": {
      "text/plain": [
       "array([0, 1, 1, 1, 0, 1, 1, 1, 0, 1, 1, 0, 1, 1, 1, 0, 0, 1, 1, 1, 0, 0,\n",
       "       0, 0, 0, 1, 1, 1, 0, 1, 0, 0, 0, 1, 1, 0, 0, 1, 1, 1, 1, 0, 0, 1,\n",
       "       0, 1, 0, 0, 1, 1, 1, 1, 1, 1, 1, 1, 0, 0, 0, 0, 0, 0, 0, 0, 0, 1,\n",
       "       1, 0, 1, 0, 0, 1, 1, 1, 0, 1, 1, 1, 1, 0, 1, 1, 0, 0, 0, 0, 1, 0,\n",
       "       0, 1, 1], dtype=int64)"
      ]
     },
     "execution_count": 186,
     "metadata": {},
     "output_type": "execute_result"
    }
   ],
   "source": [
    "y_pred_"
   ]
  },
  {
   "cell_type": "code",
   "execution_count": 187,
   "id": "9757db17",
   "metadata": {},
   "outputs": [],
   "source": [
    "ac1=accuracy_score(y_pred_,y_test)"
   ]
  },
  {
   "cell_type": "code",
   "execution_count": 188,
   "id": "d9b16390",
   "metadata": {},
   "outputs": [
    {
     "data": {
      "text/plain": [
       "0.7582417582417582"
      ]
     },
     "execution_count": 188,
     "metadata": {},
     "output_type": "execute_result"
    }
   ],
   "source": [
    "ac1"
   ]
  },
  {
   "cell_type": "code",
   "execution_count": 189,
   "id": "0ea35c64",
   "metadata": {},
   "outputs": [],
   "source": [
    "from sklearn.ensemble import RandomForestClassifier"
   ]
  },
  {
   "cell_type": "code",
   "execution_count": 190,
   "id": "49d92633",
   "metadata": {},
   "outputs": [],
   "source": [
    "model_=RandomForestClassifier(random_state=104)"
   ]
  },
  {
   "cell_type": "code",
   "execution_count": 191,
   "id": "1d077ea2",
   "metadata": {},
   "outputs": [
    {
     "data": {
      "text/plain": [
       "RandomForestClassifier(random_state=104)"
      ]
     },
     "execution_count": 191,
     "metadata": {},
     "output_type": "execute_result"
    }
   ],
   "source": [
    "model_.fit(x_train,y_train)"
   ]
  },
  {
   "cell_type": "code",
   "execution_count": 192,
   "id": "371ee4c0",
   "metadata": {},
   "outputs": [],
   "source": [
    "y_pred1=model.predict(x_test)"
   ]
  },
  {
   "cell_type": "code",
   "execution_count": 193,
   "id": "03efc7fe",
   "metadata": {},
   "outputs": [
    {
     "data": {
      "text/plain": [
       "array([0, 0, 1, 1, 0, 0, 0, 1, 0, 1, 1, 0, 1, 0, 1, 0, 0, 0, 0, 1, 0, 0,\n",
       "       0, 0, 1, 1, 1, 1, 0, 0, 0, 0, 0, 1, 0, 1, 0, 0, 1, 1, 1, 0, 0, 1,\n",
       "       0, 1, 0, 1, 1, 0, 0, 0, 1, 1, 1, 1, 0, 0, 0, 1, 1, 0, 0, 0, 0, 1,\n",
       "       1, 0, 0, 0, 0, 1, 1, 1, 1, 1, 1, 1, 1, 0, 1, 1, 1, 0, 0, 0, 0, 1,\n",
       "       0, 0, 1], dtype=int64)"
      ]
     },
     "execution_count": 193,
     "metadata": {},
     "output_type": "execute_result"
    }
   ],
   "source": [
    "y_pred1"
   ]
  },
  {
   "cell_type": "code",
   "execution_count": 194,
   "id": "0bdf3e01",
   "metadata": {},
   "outputs": [],
   "source": [
    "ac2=accuracy_score(y_test,y_pred1)"
   ]
  },
  {
   "cell_type": "code",
   "execution_count": 195,
   "id": "02efd749",
   "metadata": {},
   "outputs": [],
   "source": [
    "dict2={\"n_estimators\":range(50),\"criterion\":[\"gini\",\"entropy\"],\n",
    "      \"max_depth\":range(10)}"
   ]
  },
  {
   "cell_type": "code",
   "execution_count": 196,
   "id": "3dd684a2",
   "metadata": {},
   "outputs": [],
   "source": [
    "model1=GridSearchCV(model_,param_grid=dict2,cv=10,n_jobs=-1)"
   ]
  },
  {
   "cell_type": "code",
   "execution_count": 197,
   "id": "641de8ae",
   "metadata": {},
   "outputs": [
    {
     "name": "stderr",
     "output_type": "stream",
     "text": [
      "C:\\Users\\Chhaya\\anaconda3\\lib\\site-packages\\sklearn\\model_selection\\_validation.py:372: FitFailedWarning: \n",
      "1180 fits failed out of a total of 10000.\n",
      "The score on these train-test partitions for these parameters will be set to nan.\n",
      "If these failures are not expected, you can try to debug them by setting error_score='raise'.\n",
      "\n",
      "Below are more details about the failures:\n",
      "--------------------------------------------------------------------------------\n",
      "200 fits failed with the following error:\n",
      "Traceback (most recent call last):\n",
      "  File \"C:\\Users\\Chhaya\\anaconda3\\lib\\site-packages\\sklearn\\model_selection\\_validation.py\", line 680, in _fit_and_score\n",
      "    estimator.fit(X_train, y_train, **fit_params)\n",
      "  File \"C:\\Users\\Chhaya\\anaconda3\\lib\\site-packages\\sklearn\\ensemble\\_forest.py\", line 392, in fit\n",
      "    self._validate_estimator()\n",
      "  File \"C:\\Users\\Chhaya\\anaconda3\\lib\\site-packages\\sklearn\\ensemble\\_base.py\", line 138, in _validate_estimator\n",
      "    raise ValueError(\n",
      "ValueError: n_estimators must be greater than zero, got 0.\n",
      "\n",
      "--------------------------------------------------------------------------------\n",
      "980 fits failed with the following error:\n",
      "Traceback (most recent call last):\n",
      "  File \"C:\\Users\\Chhaya\\anaconda3\\lib\\site-packages\\sklearn\\model_selection\\_validation.py\", line 680, in _fit_and_score\n",
      "    estimator.fit(X_train, y_train, **fit_params)\n",
      "  File \"C:\\Users\\Chhaya\\anaconda3\\lib\\site-packages\\sklearn\\ensemble\\_forest.py\", line 450, in fit\n",
      "    trees = Parallel(\n",
      "  File \"C:\\Users\\Chhaya\\anaconda3\\lib\\site-packages\\joblib\\parallel.py\", line 1043, in __call__\n",
      "    if self.dispatch_one_batch(iterator):\n",
      "  File \"C:\\Users\\Chhaya\\anaconda3\\lib\\site-packages\\joblib\\parallel.py\", line 861, in dispatch_one_batch\n",
      "    self._dispatch(tasks)\n",
      "  File \"C:\\Users\\Chhaya\\anaconda3\\lib\\site-packages\\joblib\\parallel.py\", line 779, in _dispatch\n",
      "    job = self._backend.apply_async(batch, callback=cb)\n",
      "  File \"C:\\Users\\Chhaya\\anaconda3\\lib\\site-packages\\joblib\\_parallel_backends.py\", line 208, in apply_async\n",
      "    result = ImmediateResult(func)\n",
      "  File \"C:\\Users\\Chhaya\\anaconda3\\lib\\site-packages\\joblib\\_parallel_backends.py\", line 572, in __init__\n",
      "    self.results = batch()\n",
      "  File \"C:\\Users\\Chhaya\\anaconda3\\lib\\site-packages\\joblib\\parallel.py\", line 262, in __call__\n",
      "    return [func(*args, **kwargs)\n",
      "  File \"C:\\Users\\Chhaya\\anaconda3\\lib\\site-packages\\joblib\\parallel.py\", line 262, in <listcomp>\n",
      "    return [func(*args, **kwargs)\n",
      "  File \"C:\\Users\\Chhaya\\anaconda3\\lib\\site-packages\\sklearn\\utils\\fixes.py\", line 216, in __call__\n",
      "    return self.function(*args, **kwargs)\n",
      "  File \"C:\\Users\\Chhaya\\anaconda3\\lib\\site-packages\\sklearn\\ensemble\\_forest.py\", line 185, in _parallel_build_trees\n",
      "    tree.fit(X, y, sample_weight=curr_sample_weight, check_input=False)\n",
      "  File \"C:\\Users\\Chhaya\\anaconda3\\lib\\site-packages\\sklearn\\tree\\_classes.py\", line 937, in fit\n",
      "    super().fit(\n",
      "  File \"C:\\Users\\Chhaya\\anaconda3\\lib\\site-packages\\sklearn\\tree\\_classes.py\", line 306, in fit\n",
      "    raise ValueError(\"max_depth must be greater than zero. \")\n",
      "ValueError: max_depth must be greater than zero. \n",
      "\n",
      "  warnings.warn(some_fits_failed_message, FitFailedWarning)\n",
      "C:\\Users\\Chhaya\\anaconda3\\lib\\site-packages\\sklearn\\model_selection\\_search.py:969: UserWarning: One or more of the test scores are non-finite: [       nan        nan        nan        nan        nan        nan\n",
      "        nan        nan        nan        nan        nan        nan\n",
      "        nan        nan        nan        nan        nan        nan\n",
      "        nan        nan        nan        nan        nan        nan\n",
      "        nan        nan        nan        nan        nan        nan\n",
      "        nan        nan        nan        nan        nan        nan\n",
      "        nan        nan        nan        nan        nan        nan\n",
      "        nan        nan        nan        nan        nan        nan\n",
      "        nan        nan        nan 0.61774892 0.73982684 0.73506494\n",
      " 0.76839827 0.7452381  0.77835498 0.78333333 0.7547619  0.75021645\n",
      " 0.76450216 0.77402597 0.77402597 0.75952381 0.78809524 0.76904762\n",
      " 0.78333333 0.77402597 0.77878788 0.76450216 0.76926407 0.78354978\n",
      " 0.76904762 0.76904762 0.75974026 0.77857143 0.76926407 0.76904762\n",
      " 0.76428571 0.76428571 0.75952381 0.77835498 0.76406926 0.76406926\n",
      " 0.76406926 0.76883117 0.77835498 0.75454545 0.74978355 0.77835498\n",
      " 0.77359307 0.76883117 0.76883117 0.78744589 0.78290043 0.78766234\n",
      " 0.78766234 0.78290043 0.78766234 0.78766234        nan 0.73571429\n",
      " 0.75411255 0.76883117 0.7547619  0.77878788 0.78311688 0.78333333\n",
      " 0.79761905 0.79285714 0.7974026  0.79242424 0.8021645  0.80238095\n",
      " 0.80238095 0.79285714 0.81666667 0.8021645  0.78333333 0.79264069\n",
      " 0.79264069 0.79264069 0.78787879 0.78311688 0.78766234 0.78766234\n",
      " 0.79242424 0.78311688 0.79264069 0.79264069 0.79718615 0.79718615\n",
      " 0.80194805 0.79718615 0.80670996 0.80194805 0.80194805 0.79264069\n",
      " 0.7974026  0.80670996 0.80670996 0.80670996 0.80194805 0.80194805\n",
      " 0.79718615 0.79242424 0.79242424 0.78787879 0.79264069 0.7974026\n",
      "        nan 0.68874459 0.78268398 0.76406926 0.77402597 0.80670996\n",
      " 0.81147186 0.80670996 0.79718615 0.81601732 0.81147186 0.80194805\n",
      " 0.82099567 0.79718615 0.81623377 0.81125541 0.82077922 0.81125541\n",
      " 0.81623377 0.81601732 0.80194805 0.80194805 0.80649351 0.81601732\n",
      " 0.81601732 0.81623377 0.81147186 0.81147186 0.81168831 0.81168831\n",
      " 0.81147186 0.82099567 0.81623377 0.81645022 0.82099567 0.82099567\n",
      " 0.82099567 0.82099567 0.81645022 0.81645022 0.81168831 0.82099567\n",
      " 0.82099567 0.81623377 0.81623377 0.81623377 0.81623377 0.82099567\n",
      " 0.81623377 0.82099567        nan 0.70779221 0.76861472 0.74025974\n",
      " 0.8021645  0.82142857 0.80714286 0.82142857 0.81190476 0.80238095\n",
      " 0.78809524 0.78333333 0.77857143 0.78333333 0.78787879 0.80194805\n",
      " 0.79718615 0.79718615 0.78290043 0.77835498 0.78787879 0.78311688\n",
      " 0.80194805 0.78311688 0.78787879 0.7974026  0.7974026  0.79264069\n",
      " 0.78787879 0.78787879 0.78787879 0.79718615 0.80194805 0.79242424\n",
      " 0.78333333 0.78787879 0.7974026  0.79264069 0.78787879 0.78787879\n",
      " 0.78787879 0.78311688 0.78311688 0.78787879 0.79264069 0.79264069\n",
      " 0.7974026  0.7974026  0.8021645  0.8021645         nan 0.70714286\n",
      " 0.73095238 0.77337662 0.77792208 0.77792208 0.7969697  0.79675325\n",
      " 0.81168831 0.78311688 0.79242424 0.79718615 0.81168831 0.80670996\n",
      " 0.79718615 0.80670996 0.78787879 0.79718615 0.80670996 0.81623377\n",
      " 0.81147186 0.80670996 0.80670996 0.80670996 0.80670996 0.80194805\n",
      " 0.80194805 0.80670996 0.79718615 0.79718615 0.79718615 0.78766234\n",
      " 0.80194805 0.79242424 0.79718615 0.79718615 0.79718615 0.79242424\n",
      " 0.80194805 0.80194805 0.79718615 0.79242424 0.79718615 0.79718615\n",
      " 0.79718615 0.79718615 0.78766234 0.79242424 0.80670996 0.79718615\n",
      "        nan 0.74978355 0.77813853 0.75541126 0.77857143 0.78766234\n",
      " 0.79718615 0.80194805 0.83506494 0.79242424 0.8017316  0.81147186\n",
      " 0.82099567 0.82575758 0.81623377 0.82099567 0.81623377 0.81147186\n",
      " 0.81623377 0.81147186 0.82099567 0.80670996 0.80670996 0.80670996\n",
      " 0.81147186 0.80194805 0.81147186 0.80670996 0.79718615 0.79718615\n",
      " 0.80194805 0.80692641 0.8021645  0.81168831 0.81147186 0.80692641\n",
      " 0.81168831 0.80670996 0.81168831 0.80670996 0.80692641 0.81623377\n",
      " 0.8021645  0.81168831 0.81168831 0.80692641 0.81168831 0.80692641\n",
      " 0.8021645  0.82099567        nan 0.71103896 0.74004329 0.78744589\n",
      " 0.754329   0.77835498 0.78787879 0.78268398 0.7974026  0.7974026\n",
      " 0.79242424 0.82099567 0.79242424 0.83051948 0.81147186 0.81601732\n",
      " 0.82554113 0.81125541 0.81601732 0.81125541 0.81125541 0.81601732\n",
      " 0.82554113 0.82554113 0.83030303 0.82554113 0.81147186 0.82077922\n",
      " 0.80649351 0.81125541 0.80670996 0.81125541 0.80194805 0.81623377\n",
      " 0.79718615 0.82099567 0.81147186 0.80670996 0.80670996 0.81147186\n",
      " 0.81147186 0.81623377 0.80670996 0.81623377 0.80670996 0.81147186\n",
      " 0.80194805 0.80670996 0.79718615 0.79718615        nan 0.67857143\n",
      " 0.74047619 0.76385281 0.74025974 0.75952381 0.73593074 0.78268398\n",
      " 0.77813853 0.79718615 0.77359307 0.79242424 0.79242424 0.79264069\n",
      " 0.79718615 0.79242424 0.7969697  0.81601732 0.79242424 0.8017316\n",
      " 0.8017316  0.79718615 0.7969697  0.78311688 0.80692641 0.80692641\n",
      " 0.81623377 0.7974026  0.79264069 0.78787879 0.79264069 0.8021645\n",
      " 0.8021645  0.79285714 0.80670996 0.80714286 0.82077922 0.81168831\n",
      " 0.81623377 0.82099567 0.82099567 0.81623377 0.81623377 0.80692641\n",
      " 0.80670996 0.8021645  0.80692641 0.80692641 0.80692641 0.80692641\n",
      "        nan 0.67987013 0.72705628 0.77424242 0.76926407 0.79329004\n",
      " 0.8025974  0.81645022 0.79761905 0.8021645  0.80692641 0.80692641\n",
      " 0.80714286 0.80714286 0.82099567 0.82575758 0.82121212 0.80692641\n",
      " 0.81645022 0.79761905 0.79285714 0.80238095 0.79761905 0.80238095\n",
      " 0.80238095 0.81666667 0.80714286 0.80714286 0.80238095 0.81190476\n",
      " 0.81645022 0.81666667 0.81190476 0.80714286 0.79761905 0.8021645\n",
      " 0.8021645  0.79264069 0.8021645  0.8021645  0.7974026  0.7974026\n",
      " 0.7974026  0.81168831 0.80692641 0.80692641 0.8021645  0.7974026\n",
      " 0.7974026  0.8021645         nan        nan        nan        nan\n",
      "        nan        nan        nan        nan        nan        nan\n",
      "        nan        nan        nan        nan        nan        nan\n",
      "        nan        nan        nan        nan        nan        nan\n",
      "        nan        nan        nan        nan        nan        nan\n",
      "        nan        nan        nan        nan        nan        nan\n",
      "        nan        nan        nan        nan        nan        nan\n",
      "        nan        nan        nan        nan        nan        nan\n",
      "        nan        nan        nan        nan        nan 0.57034632\n",
      " 0.73982684 0.71601732 0.75887446 0.74545455 0.75930736 0.78809524\n",
      " 0.78831169 0.75021645 0.75974026 0.76450216 0.76904762 0.76428571\n",
      " 0.76904762 0.77857143 0.78333333 0.77878788 0.7978355  0.77402597\n",
      " 0.77878788 0.78354978 0.77380952 0.76904762 0.77857143 0.77380952\n",
      " 0.76926407 0.77857143 0.76883117 0.76883117 0.77835498 0.78787879\n",
      " 0.77813853 0.75909091 0.77337662 0.76861472 0.77813853 0.77337662\n",
      " 0.76861472 0.77337662 0.77337662 0.77813853 0.77792208 0.77813853\n",
      " 0.78290043 0.77813853 0.78290043 0.78290043 0.77813853 0.77813853\n",
      "        nan 0.73571429 0.76363636 0.76406926 0.7547619  0.77402597\n",
      " 0.78809524 0.79264069 0.79285714 0.80714286 0.81168831 0.80194805\n",
      " 0.79718615 0.78766234 0.79242424 0.78787879 0.78787879 0.80692641\n",
      " 0.80692641 0.80194805 0.79718615 0.78787879 0.78290043 0.77835498\n",
      " 0.7969697  0.78311688 0.78311688 0.78311688 0.79264069 0.79242424\n",
      " 0.8017316  0.79718615 0.80670996 0.80670996 0.79242424 0.80194805\n",
      " 0.80670996 0.8021645  0.81125541 0.81623377 0.81147186 0.80194805\n",
      " 0.80692641 0.8021645  0.80670996 0.81147186 0.81147186 0.79761905\n",
      " 0.7974026  0.79761905        nan 0.73073593 0.76839827 0.74502165\n",
      " 0.75952381 0.79264069 0.83051948 0.81147186 0.80194805 0.82554113\n",
      " 0.83030303 0.79220779 0.80649351 0.79718615 0.79242424 0.8017316\n",
      " 0.80649351 0.80649351 0.80670996 0.80670996 0.81125541 0.80649351\n",
      " 0.81601732 0.80649351 0.82077922 0.82099567 0.80670996 0.80194805\n",
      " 0.81147186 0.82575758 0.81623377 0.81623377 0.82099567 0.82099567\n",
      " 0.81623377 0.82099567 0.82575758 0.82099567 0.82099567 0.81623377\n",
      " 0.80670996 0.81147186 0.81147186 0.81147186 0.81623377 0.81623377\n",
      " 0.80692641 0.80692641 0.81168831 0.81168831        nan 0.70281385\n",
      " 0.75454545 0.7452381  0.78311688 0.78766234 0.81645022 0.80238095\n",
      " 0.8021645  0.79264069 0.80194805 0.79264069 0.79718615 0.79242424\n",
      " 0.80194805 0.78766234 0.79718615 0.80194805 0.80194805 0.80194805\n",
      " 0.8021645  0.80670996 0.80670996 0.81147186 0.80670996 0.80194805\n",
      " 0.80194805 0.80194805 0.79718615 0.80194805 0.80194805 0.80194805\n",
      " 0.80670996 0.80194805 0.80670996 0.7974026  0.80692641 0.80692641\n",
      " 0.8021645  0.8021645  0.80670996 0.81147186 0.7974026  0.80670996\n",
      " 0.80670996 0.8021645  0.7974026  0.8021645  0.8021645  0.8021645\n",
      "        nan 0.71645022 0.75909091 0.76385281 0.77359307 0.79718615\n",
      " 0.79718615 0.8017316  0.81623377 0.82077922 0.80649351 0.80649351\n",
      " 0.80194805 0.80670996 0.82077922 0.80194805 0.80670996 0.80670996\n",
      " 0.80670996 0.80670996 0.79718615 0.80194805 0.80194805 0.80194805\n",
      " 0.80194805 0.79718615 0.80194805 0.80194805 0.79718615 0.79242424\n",
      " 0.79242424 0.78766234 0.79242424 0.79242424 0.78766234 0.79242424\n",
      " 0.80670996 0.80194805 0.80670996 0.80670996 0.80670996 0.80670996\n",
      " 0.80194805 0.80194805 0.80194805 0.80670996 0.80194805 0.79718615\n",
      " 0.79718615 0.79718615        nan 0.7021645  0.7021645  0.75\n",
      " 0.77359307 0.80627706 0.8021645  0.81601732 0.8017316  0.80194805\n",
      " 0.78268398 0.79220779 0.8017316  0.80649351 0.79718615 0.78311688\n",
      " 0.79718615 0.78311688 0.77835498 0.79264069 0.8021645  0.79718615\n",
      " 0.79718615 0.78766234 0.80670996 0.80670996 0.82099567 0.81623377\n",
      " 0.80670996 0.79264069 0.80670996 0.80670996 0.80670996 0.81147186\n",
      " 0.81623377 0.81168831 0.81147186 0.81168831 0.81168831 0.82099567\n",
      " 0.81645022 0.80692641 0.80692641 0.81168831 0.80692641 0.8021645\n",
      " 0.80692641 0.80692641 0.81168831 0.81168831        nan 0.74480519\n",
      " 0.74458874 0.78290043 0.77337662 0.77316017 0.77359307 0.79242424\n",
      " 0.7974026  0.78787879 0.79718615 0.78311688 0.80194805 0.78787879\n",
      " 0.79242424 0.79242424 0.8017316  0.81601732 0.8017316  0.81125541\n",
      " 0.7969697  0.79220779 0.78268398 0.78766234 0.8017316  0.7969697\n",
      " 0.7969697  0.79718615 0.79242424 0.78766234 0.79718615 0.81601732\n",
      " 0.82077922 0.81601732 0.81601732 0.81601732 0.81125541 0.81601732\n",
      " 0.81601732 0.81601732 0.81125541 0.81125541 0.81147186 0.80670996\n",
      " 0.81623377 0.80670996 0.80670996 0.80670996 0.80670996 0.80670996\n",
      "        nan 0.74480519 0.75909091 0.78744589 0.83030303 0.79264069\n",
      " 0.78787879 0.78787879 0.77792208 0.79242424 0.79242424 0.7974026\n",
      " 0.80670996 0.7974026  0.80194805 0.80649351 0.80649351 0.81601732\n",
      " 0.81125541 0.80649351 0.8017316  0.7969697  0.79718615 0.79718615\n",
      " 0.78787879 0.80692641 0.7974026  0.8021645  0.79264069 0.7974026\n",
      " 0.8021645  0.81168831 0.8021645  0.7974026  0.7974026  0.80670996\n",
      " 0.79718615 0.80670996 0.80670996 0.81147186 0.81147186 0.81147186\n",
      " 0.81623377 0.81645022 0.81623377 0.80692641 0.8021645  0.7974026\n",
      " 0.7974026  0.80194805        nan 0.69329004 0.73116883 0.76818182\n",
      " 0.80627706 0.82056277 0.80649351 0.81601732 0.81168831 0.81601732\n",
      " 0.8021645  0.81168831 0.82099567 0.81645022 0.81666667 0.80238095\n",
      " 0.80238095 0.80692641 0.80692641 0.7974026  0.79761905 0.80692641\n",
      " 0.79761905 0.78809524 0.81168831 0.80670996 0.81147186 0.80194805\n",
      " 0.80692641 0.8021645  0.80692641 0.8021645  0.8021645  0.8021645\n",
      " 0.79264069 0.7974026  0.79264069 0.79718615 0.7974026  0.79718615\n",
      " 0.7974026  0.7974026  0.7974026  0.79264069 0.79264069 0.79264069\n",
      " 0.78787879 0.78787879 0.78311688 0.78787879]\n",
      "  warnings.warn(\n"
     ]
    },
    {
     "data": {
      "text/plain": [
       "GridSearchCV(cv=10, estimator=RandomForestClassifier(random_state=104),\n",
       "             n_jobs=-1,\n",
       "             param_grid={'criterion': ['gini', 'entropy'],\n",
       "                         'max_depth': range(0, 10),\n",
       "                         'n_estimators': range(0, 50)})"
      ]
     },
     "execution_count": 197,
     "metadata": {},
     "output_type": "execute_result"
    }
   ],
   "source": [
    "model1.fit(x_train,y_train)"
   ]
  },
  {
   "cell_type": "code",
   "execution_count": 198,
   "id": "da55ed26",
   "metadata": {},
   "outputs": [],
   "source": [
    "y_pred2=model1.predict(x_test)"
   ]
  },
  {
   "cell_type": "code",
   "execution_count": 199,
   "id": "b0720a51",
   "metadata": {},
   "outputs": [],
   "source": [
    "ac3=accuracy_score(y_test,y_pred2)"
   ]
  },
  {
   "cell_type": "code",
   "execution_count": 200,
   "id": "11b7b8ab",
   "metadata": {},
   "outputs": [],
   "source": [
    "from sklearn.ensemble import GradientBoostingClassifier"
   ]
  },
  {
   "cell_type": "code",
   "execution_count": 201,
   "id": "0ca9aa44",
   "metadata": {},
   "outputs": [],
   "source": [
    "model3=GradientBoostingClassifier(random_state=103)"
   ]
  },
  {
   "cell_type": "code",
   "execution_count": 202,
   "id": "1d10de9b",
   "metadata": {},
   "outputs": [
    {
     "data": {
      "text/plain": [
       "GradientBoostingClassifier(random_state=103)"
      ]
     },
     "execution_count": 202,
     "metadata": {},
     "output_type": "execute_result"
    }
   ],
   "source": [
    "model3.fit(x_train,y_train)"
   ]
  },
  {
   "cell_type": "code",
   "execution_count": 203,
   "id": "bc926a40",
   "metadata": {},
   "outputs": [],
   "source": [
    "y_pred3=model3.predict(x_test)"
   ]
  },
  {
   "cell_type": "code",
   "execution_count": 204,
   "id": "886b6932",
   "metadata": {},
   "outputs": [],
   "source": [
    "ac4=accuracy_score(y_test,y_pred3)"
   ]
  },
  {
   "cell_type": "code",
   "execution_count": 205,
   "id": "3e10a868",
   "metadata": {},
   "outputs": [],
   "source": [
    "import xgboost as xgb"
   ]
  },
  {
   "cell_type": "code",
   "execution_count": 206,
   "id": "7c824c6b",
   "metadata": {},
   "outputs": [],
   "source": [
    "model4=xgb.XGBClassifier(random_state=103)"
   ]
  },
  {
   "cell_type": "code",
   "execution_count": 207,
   "id": "8b38b215",
   "metadata": {},
   "outputs": [
    {
     "data": {
      "text/plain": [
       "XGBClassifier(base_score=0.5, booster='gbtree', callbacks=None,\n",
       "              colsample_bylevel=1, colsample_bynode=1, colsample_bytree=1,\n",
       "              early_stopping_rounds=None, enable_categorical=False,\n",
       "              eval_metric=None, gamma=0, gpu_id=-1, grow_policy='depthwise',\n",
       "              importance_type=None, interaction_constraints='',\n",
       "              learning_rate=0.300000012, max_bin=256, max_cat_to_onehot=4,\n",
       "              max_delta_step=0, max_depth=6, max_leaves=0, min_child_weight=1,\n",
       "              missing=nan, monotone_constraints='()', n_estimators=100,\n",
       "              n_jobs=0, num_parallel_tree=1, predictor='auto', random_state=103,\n",
       "              reg_alpha=0, reg_lambda=1, ...)"
      ]
     },
     "execution_count": 207,
     "metadata": {},
     "output_type": "execute_result"
    }
   ],
   "source": [
    "model4.fit(x_train,y_train)"
   ]
  },
  {
   "cell_type": "code",
   "execution_count": 208,
   "id": "167f6aa1",
   "metadata": {},
   "outputs": [],
   "source": [
    "y_pred4=model4.predict(x_test)"
   ]
  },
  {
   "cell_type": "code",
   "execution_count": 209,
   "id": "4e999391",
   "metadata": {},
   "outputs": [],
   "source": [
    "ac5=accuracy_score(y_test,y_pred4)"
   ]
  },
  {
   "cell_type": "code",
   "execution_count": 210,
   "id": "4f587d1e",
   "metadata": {},
   "outputs": [],
   "source": [
    "comp=pd.DataFrame([{\"Model\":\"DecisionTree\",\n",
    "                   \"Accuracy\":ac1},\n",
    "                  {\"Model\":\"RandomForest\",\n",
    "                  \"Accuracy\":ac2},\n",
    "                  {\"Model\":\"GridSearch\",\n",
    "                    \"Accuracy\":ac3},\n",
    "                   {\"Model\":\"GradientBoosting\",\n",
    "                  \"Accuracy\":ac4},\n",
    "                  {\"Model\":\"XGBooster\",\n",
    "            \"Accuracy\":ac5}],index=[1,2,3,4,5])"
   ]
  },
  {
   "cell_type": "code",
   "execution_count": 211,
   "id": "ed27993e",
   "metadata": {},
   "outputs": [
    {
     "data": {
      "text/html": [
       "<div>\n",
       "<style scoped>\n",
       "    .dataframe tbody tr th:only-of-type {\n",
       "        vertical-align: middle;\n",
       "    }\n",
       "\n",
       "    .dataframe tbody tr th {\n",
       "        vertical-align: top;\n",
       "    }\n",
       "\n",
       "    .dataframe thead th {\n",
       "        text-align: right;\n",
       "    }\n",
       "</style>\n",
       "<table border=\"1\" class=\"dataframe\">\n",
       "  <thead>\n",
       "    <tr style=\"text-align: right;\">\n",
       "      <th></th>\n",
       "      <th>Model</th>\n",
       "      <th>Accuracy</th>\n",
       "    </tr>\n",
       "  </thead>\n",
       "  <tbody>\n",
       "    <tr>\n",
       "      <th>1</th>\n",
       "      <td>DecisionTree</td>\n",
       "      <td>0.758242</td>\n",
       "    </tr>\n",
       "    <tr>\n",
       "      <th>2</th>\n",
       "      <td>RandomForest</td>\n",
       "      <td>0.681319</td>\n",
       "    </tr>\n",
       "    <tr>\n",
       "      <th>3</th>\n",
       "      <td>GridSearch</td>\n",
       "      <td>0.802198</td>\n",
       "    </tr>\n",
       "    <tr>\n",
       "      <th>4</th>\n",
       "      <td>GradientBoosting</td>\n",
       "      <td>0.813187</td>\n",
       "    </tr>\n",
       "    <tr>\n",
       "      <th>5</th>\n",
       "      <td>XGBooster</td>\n",
       "      <td>0.802198</td>\n",
       "    </tr>\n",
       "  </tbody>\n",
       "</table>\n",
       "</div>"
      ],
      "text/plain": [
       "              Model  Accuracy\n",
       "1      DecisionTree  0.758242\n",
       "2      RandomForest  0.681319\n",
       "3        GridSearch  0.802198\n",
       "4  GradientBoosting  0.813187\n",
       "5         XGBooster  0.802198"
      ]
     },
     "execution_count": 211,
     "metadata": {},
     "output_type": "execute_result"
    }
   ],
   "source": [
    "comp"
   ]
  },
  {
   "cell_type": "markdown",
   "id": "8d721aa1",
   "metadata": {},
   "source": [
    "# Conclusion"
   ]
  },
  {
   "cell_type": "markdown",
   "id": "125680ac",
   "metadata": {},
   "source": [
    "We can compare accuracy of different models from \"comp\" table and it shows that accuracy is best in Gardient Boosting Classifier."
   ]
  },
  {
   "cell_type": "code",
   "execution_count": null,
   "id": "686bcc26",
   "metadata": {},
   "outputs": [],
   "source": []
  }
 ],
 "metadata": {
  "kernelspec": {
   "display_name": "Python 3 (ipykernel)",
   "language": "python",
   "name": "python3"
  },
  "language_info": {
   "codemirror_mode": {
    "name": "ipython",
    "version": 3
   },
   "file_extension": ".py",
   "mimetype": "text/x-python",
   "name": "python",
   "nbconvert_exporter": "python",
   "pygments_lexer": "ipython3",
   "version": "3.9.12"
  }
 },
 "nbformat": 4,
 "nbformat_minor": 5
}
