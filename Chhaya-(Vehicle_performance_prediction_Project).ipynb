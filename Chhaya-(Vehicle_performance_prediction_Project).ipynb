{
 "cells": [
  {
   "cell_type": "code",
   "execution_count": 2,
   "id": "e060f111",
   "metadata": {},
   "outputs": [],
   "source": [
    "import pandas as pd\n",
    "import numpy as np\n",
    "import matplotlib.pyplot as plt\n",
    "%matplotlib inline"
   ]
  },
  {
   "cell_type": "code",
   "execution_count": 3,
   "id": "8ff44674",
   "metadata": {},
   "outputs": [],
   "source": [
    "data=pd.read_csv(r\"C:\\Users\\Chhaya\\OneDrive\\Desktop\\PythonAssignments\\Linear_Sgd\\2 Project\\Vehicle Performance Prediction\\Dataset\\data.csv\")"
   ]
  },
  {
   "cell_type": "code",
   "execution_count": 4,
   "id": "a60de329",
   "metadata": {},
   "outputs": [],
   "source": [
    "df=pd.DataFrame(data)"
   ]
  },
  {
   "cell_type": "code",
   "execution_count": 5,
   "id": "65e3f6d3",
   "metadata": {},
   "outputs": [
    {
     "data": {
      "text/html": [
       "<div>\n",
       "<style scoped>\n",
       "    .dataframe tbody tr th:only-of-type {\n",
       "        vertical-align: middle;\n",
       "    }\n",
       "\n",
       "    .dataframe tbody tr th {\n",
       "        vertical-align: top;\n",
       "    }\n",
       "\n",
       "    .dataframe thead th {\n",
       "        text-align: right;\n",
       "    }\n",
       "</style>\n",
       "<table border=\"1\" class=\"dataframe\">\n",
       "  <thead>\n",
       "    <tr style=\"text-align: right;\">\n",
       "      <th></th>\n",
       "      <th>origin</th>\n",
       "      <th>cylinders</th>\n",
       "      <th>displacement</th>\n",
       "      <th>horsepower</th>\n",
       "      <th>weight</th>\n",
       "      <th>acceleration</th>\n",
       "      <th>year</th>\n",
       "      <th>name</th>\n",
       "      <th>Kilometer_per_liter</th>\n",
       "    </tr>\n",
       "  </thead>\n",
       "  <tbody>\n",
       "    <tr>\n",
       "      <th>0</th>\n",
       "      <td>1</td>\n",
       "      <td>8</td>\n",
       "      <td>307.0</td>\n",
       "      <td>130</td>\n",
       "      <td>3504</td>\n",
       "      <td>12.0</td>\n",
       "      <td>1970</td>\n",
       "      <td>chevrolet chevelle malibu</td>\n",
       "      <td>7.652587</td>\n",
       "    </tr>\n",
       "    <tr>\n",
       "      <th>1</th>\n",
       "      <td>1</td>\n",
       "      <td>8</td>\n",
       "      <td>350.0</td>\n",
       "      <td>165</td>\n",
       "      <td>3693</td>\n",
       "      <td>11.5</td>\n",
       "      <td>1970</td>\n",
       "      <td>buick skylark 320</td>\n",
       "      <td>6.377156</td>\n",
       "    </tr>\n",
       "    <tr>\n",
       "      <th>2</th>\n",
       "      <td>1</td>\n",
       "      <td>8</td>\n",
       "      <td>318.0</td>\n",
       "      <td>150</td>\n",
       "      <td>3436</td>\n",
       "      <td>11.0</td>\n",
       "      <td>1970</td>\n",
       "      <td>plymouth satellite</td>\n",
       "      <td>7.652587</td>\n",
       "    </tr>\n",
       "    <tr>\n",
       "      <th>3</th>\n",
       "      <td>1</td>\n",
       "      <td>8</td>\n",
       "      <td>304.0</td>\n",
       "      <td>150</td>\n",
       "      <td>3433</td>\n",
       "      <td>12.0</td>\n",
       "      <td>1970</td>\n",
       "      <td>amc rebel sst</td>\n",
       "      <td>6.802299</td>\n",
       "    </tr>\n",
       "    <tr>\n",
       "      <th>4</th>\n",
       "      <td>1</td>\n",
       "      <td>8</td>\n",
       "      <td>302.0</td>\n",
       "      <td>140</td>\n",
       "      <td>3449</td>\n",
       "      <td>10.5</td>\n",
       "      <td>1970</td>\n",
       "      <td>ford torino</td>\n",
       "      <td>7.227443</td>\n",
       "    </tr>\n",
       "    <tr>\n",
       "      <th>...</th>\n",
       "      <td>...</td>\n",
       "      <td>...</td>\n",
       "      <td>...</td>\n",
       "      <td>...</td>\n",
       "      <td>...</td>\n",
       "      <td>...</td>\n",
       "      <td>...</td>\n",
       "      <td>...</td>\n",
       "      <td>...</td>\n",
       "    </tr>\n",
       "    <tr>\n",
       "      <th>393</th>\n",
       "      <td>1</td>\n",
       "      <td>4</td>\n",
       "      <td>140.0</td>\n",
       "      <td>86</td>\n",
       "      <td>2790</td>\n",
       "      <td>15.6</td>\n",
       "      <td>1982</td>\n",
       "      <td>ford mustang gl</td>\n",
       "      <td>11.478880</td>\n",
       "    </tr>\n",
       "    <tr>\n",
       "      <th>394</th>\n",
       "      <td>2</td>\n",
       "      <td>4</td>\n",
       "      <td>97.0</td>\n",
       "      <td>52</td>\n",
       "      <td>2130</td>\n",
       "      <td>24.6</td>\n",
       "      <td>1982</td>\n",
       "      <td>vw pickup</td>\n",
       "      <td>18.706323</td>\n",
       "    </tr>\n",
       "    <tr>\n",
       "      <th>395</th>\n",
       "      <td>1</td>\n",
       "      <td>4</td>\n",
       "      <td>135.0</td>\n",
       "      <td>84</td>\n",
       "      <td>2295</td>\n",
       "      <td>11.6</td>\n",
       "      <td>1982</td>\n",
       "      <td>dodge rampage</td>\n",
       "      <td>13.604599</td>\n",
       "    </tr>\n",
       "    <tr>\n",
       "      <th>396</th>\n",
       "      <td>1</td>\n",
       "      <td>4</td>\n",
       "      <td>120.0</td>\n",
       "      <td>79</td>\n",
       "      <td>2625</td>\n",
       "      <td>18.6</td>\n",
       "      <td>1982</td>\n",
       "      <td>ford ranger</td>\n",
       "      <td>11.904024</td>\n",
       "    </tr>\n",
       "    <tr>\n",
       "      <th>397</th>\n",
       "      <td>1</td>\n",
       "      <td>4</td>\n",
       "      <td>119.0</td>\n",
       "      <td>82</td>\n",
       "      <td>2720</td>\n",
       "      <td>19.4</td>\n",
       "      <td>1982</td>\n",
       "      <td>chevy s-10</td>\n",
       "      <td>13.179455</td>\n",
       "    </tr>\n",
       "  </tbody>\n",
       "</table>\n",
       "<p>398 rows × 9 columns</p>\n",
       "</div>"
      ],
      "text/plain": [
       "     origin  cylinders  displacement horsepower  weight  acceleration  year  \\\n",
       "0         1          8         307.0        130    3504          12.0  1970   \n",
       "1         1          8         350.0        165    3693          11.5  1970   \n",
       "2         1          8         318.0        150    3436          11.0  1970   \n",
       "3         1          8         304.0        150    3433          12.0  1970   \n",
       "4         1          8         302.0        140    3449          10.5  1970   \n",
       "..      ...        ...           ...        ...     ...           ...   ...   \n",
       "393       1          4         140.0         86    2790          15.6  1982   \n",
       "394       2          4          97.0         52    2130          24.6  1982   \n",
       "395       1          4         135.0         84    2295          11.6  1982   \n",
       "396       1          4         120.0         79    2625          18.6  1982   \n",
       "397       1          4         119.0         82    2720          19.4  1982   \n",
       "\n",
       "                          name  Kilometer_per_liter  \n",
       "0    chevrolet chevelle malibu             7.652587  \n",
       "1            buick skylark 320             6.377156  \n",
       "2           plymouth satellite             7.652587  \n",
       "3                amc rebel sst             6.802299  \n",
       "4                  ford torino             7.227443  \n",
       "..                         ...                  ...  \n",
       "393            ford mustang gl            11.478880  \n",
       "394                  vw pickup            18.706323  \n",
       "395              dodge rampage            13.604599  \n",
       "396                ford ranger            11.904024  \n",
       "397                 chevy s-10            13.179455  \n",
       "\n",
       "[398 rows x 9 columns]"
      ]
     },
     "execution_count": 5,
     "metadata": {},
     "output_type": "execute_result"
    }
   ],
   "source": [
    "df"
   ]
  },
  {
   "cell_type": "code",
   "execution_count": 6,
   "id": "1f4367c4",
   "metadata": {},
   "outputs": [
    {
     "data": {
      "text/plain": [
       "(398, 9)"
      ]
     },
     "execution_count": 6,
     "metadata": {},
     "output_type": "execute_result"
    }
   ],
   "source": [
    "df.shape"
   ]
  },
  {
   "cell_type": "code",
   "execution_count": 7,
   "id": "0f1f1bfd",
   "metadata": {},
   "outputs": [
    {
     "data": {
      "text/html": [
       "<div>\n",
       "<style scoped>\n",
       "    .dataframe tbody tr th:only-of-type {\n",
       "        vertical-align: middle;\n",
       "    }\n",
       "\n",
       "    .dataframe tbody tr th {\n",
       "        vertical-align: top;\n",
       "    }\n",
       "\n",
       "    .dataframe thead th {\n",
       "        text-align: right;\n",
       "    }\n",
       "</style>\n",
       "<table border=\"1\" class=\"dataframe\">\n",
       "  <thead>\n",
       "    <tr style=\"text-align: right;\">\n",
       "      <th></th>\n",
       "      <th>count</th>\n",
       "      <th>mean</th>\n",
       "      <th>std</th>\n",
       "      <th>min</th>\n",
       "      <th>25%</th>\n",
       "      <th>50%</th>\n",
       "      <th>75%</th>\n",
       "      <th>max</th>\n",
       "    </tr>\n",
       "  </thead>\n",
       "  <tbody>\n",
       "    <tr>\n",
       "      <th>origin</th>\n",
       "      <td>398.0</td>\n",
       "      <td>1.572864</td>\n",
       "      <td>0.802055</td>\n",
       "      <td>1.000000</td>\n",
       "      <td>1.000000</td>\n",
       "      <td>1.000000</td>\n",
       "      <td>2.000000</td>\n",
       "      <td>3.000000</td>\n",
       "    </tr>\n",
       "    <tr>\n",
       "      <th>cylinders</th>\n",
       "      <td>398.0</td>\n",
       "      <td>5.454774</td>\n",
       "      <td>1.701004</td>\n",
       "      <td>3.000000</td>\n",
       "      <td>4.000000</td>\n",
       "      <td>4.000000</td>\n",
       "      <td>8.000000</td>\n",
       "      <td>8.000000</td>\n",
       "    </tr>\n",
       "    <tr>\n",
       "      <th>displacement</th>\n",
       "      <td>398.0</td>\n",
       "      <td>193.425879</td>\n",
       "      <td>104.269838</td>\n",
       "      <td>68.000000</td>\n",
       "      <td>104.250000</td>\n",
       "      <td>148.500000</td>\n",
       "      <td>262.000000</td>\n",
       "      <td>455.000000</td>\n",
       "    </tr>\n",
       "    <tr>\n",
       "      <th>weight</th>\n",
       "      <td>398.0</td>\n",
       "      <td>2970.424623</td>\n",
       "      <td>846.841774</td>\n",
       "      <td>1613.000000</td>\n",
       "      <td>2223.750000</td>\n",
       "      <td>2803.500000</td>\n",
       "      <td>3608.000000</td>\n",
       "      <td>5140.000000</td>\n",
       "    </tr>\n",
       "    <tr>\n",
       "      <th>acceleration</th>\n",
       "      <td>398.0</td>\n",
       "      <td>15.568090</td>\n",
       "      <td>2.757689</td>\n",
       "      <td>8.000000</td>\n",
       "      <td>13.825000</td>\n",
       "      <td>15.500000</td>\n",
       "      <td>17.175000</td>\n",
       "      <td>24.800000</td>\n",
       "    </tr>\n",
       "    <tr>\n",
       "      <th>year</th>\n",
       "      <td>398.0</td>\n",
       "      <td>1976.010050</td>\n",
       "      <td>3.697627</td>\n",
       "      <td>1970.000000</td>\n",
       "      <td>1973.000000</td>\n",
       "      <td>1976.000000</td>\n",
       "      <td>1979.000000</td>\n",
       "      <td>1982.000000</td>\n",
       "    </tr>\n",
       "    <tr>\n",
       "      <th>Kilometer_per_liter</th>\n",
       "      <td>398.0</td>\n",
       "      <td>9.997073</td>\n",
       "      <td>3.322917</td>\n",
       "      <td>3.826293</td>\n",
       "      <td>7.440015</td>\n",
       "      <td>9.778305</td>\n",
       "      <td>12.329168</td>\n",
       "      <td>19.811697</td>\n",
       "    </tr>\n",
       "  </tbody>\n",
       "</table>\n",
       "</div>"
      ],
      "text/plain": [
       "                     count         mean         std          min          25%  \\\n",
       "origin               398.0     1.572864    0.802055     1.000000     1.000000   \n",
       "cylinders            398.0     5.454774    1.701004     3.000000     4.000000   \n",
       "displacement         398.0   193.425879  104.269838    68.000000   104.250000   \n",
       "weight               398.0  2970.424623  846.841774  1613.000000  2223.750000   \n",
       "acceleration         398.0    15.568090    2.757689     8.000000    13.825000   \n",
       "year                 398.0  1976.010050    3.697627  1970.000000  1973.000000   \n",
       "Kilometer_per_liter  398.0     9.997073    3.322917     3.826293     7.440015   \n",
       "\n",
       "                             50%          75%          max  \n",
       "origin                  1.000000     2.000000     3.000000  \n",
       "cylinders               4.000000     8.000000     8.000000  \n",
       "displacement          148.500000   262.000000   455.000000  \n",
       "weight               2803.500000  3608.000000  5140.000000  \n",
       "acceleration           15.500000    17.175000    24.800000  \n",
       "year                 1976.000000  1979.000000  1982.000000  \n",
       "Kilometer_per_liter     9.778305    12.329168    19.811697  "
      ]
     },
     "execution_count": 7,
     "metadata": {},
     "output_type": "execute_result"
    }
   ],
   "source": [
    "df.describe().T"
   ]
  },
  {
   "cell_type": "code",
   "execution_count": 8,
   "id": "84247dd7",
   "metadata": {},
   "outputs": [
    {
     "data": {
      "text/html": [
       "<div>\n",
       "<style scoped>\n",
       "    .dataframe tbody tr th:only-of-type {\n",
       "        vertical-align: middle;\n",
       "    }\n",
       "\n",
       "    .dataframe tbody tr th {\n",
       "        vertical-align: top;\n",
       "    }\n",
       "\n",
       "    .dataframe thead th {\n",
       "        text-align: right;\n",
       "    }\n",
       "</style>\n",
       "<table border=\"1\" class=\"dataframe\">\n",
       "  <thead>\n",
       "    <tr style=\"text-align: right;\">\n",
       "      <th></th>\n",
       "      <th>origin</th>\n",
       "      <th>cylinders</th>\n",
       "      <th>displacement</th>\n",
       "      <th>horsepower</th>\n",
       "      <th>weight</th>\n",
       "      <th>acceleration</th>\n",
       "      <th>year</th>\n",
       "      <th>name</th>\n",
       "      <th>Kilometer_per_liter</th>\n",
       "    </tr>\n",
       "  </thead>\n",
       "  <tbody>\n",
       "    <tr>\n",
       "      <th>0</th>\n",
       "      <td>1</td>\n",
       "      <td>8</td>\n",
       "      <td>307.0</td>\n",
       "      <td>130</td>\n",
       "      <td>3504</td>\n",
       "      <td>12.0</td>\n",
       "      <td>1970</td>\n",
       "      <td>chevrolet chevelle malibu</td>\n",
       "      <td>7.652587</td>\n",
       "    </tr>\n",
       "    <tr>\n",
       "      <th>1</th>\n",
       "      <td>1</td>\n",
       "      <td>8</td>\n",
       "      <td>350.0</td>\n",
       "      <td>165</td>\n",
       "      <td>3693</td>\n",
       "      <td>11.5</td>\n",
       "      <td>1970</td>\n",
       "      <td>buick skylark 320</td>\n",
       "      <td>6.377156</td>\n",
       "    </tr>\n",
       "    <tr>\n",
       "      <th>2</th>\n",
       "      <td>1</td>\n",
       "      <td>8</td>\n",
       "      <td>318.0</td>\n",
       "      <td>150</td>\n",
       "      <td>3436</td>\n",
       "      <td>11.0</td>\n",
       "      <td>1970</td>\n",
       "      <td>plymouth satellite</td>\n",
       "      <td>7.652587</td>\n",
       "    </tr>\n",
       "    <tr>\n",
       "      <th>3</th>\n",
       "      <td>1</td>\n",
       "      <td>8</td>\n",
       "      <td>304.0</td>\n",
       "      <td>150</td>\n",
       "      <td>3433</td>\n",
       "      <td>12.0</td>\n",
       "      <td>1970</td>\n",
       "      <td>amc rebel sst</td>\n",
       "      <td>6.802299</td>\n",
       "    </tr>\n",
       "    <tr>\n",
       "      <th>4</th>\n",
       "      <td>1</td>\n",
       "      <td>8</td>\n",
       "      <td>302.0</td>\n",
       "      <td>140</td>\n",
       "      <td>3449</td>\n",
       "      <td>10.5</td>\n",
       "      <td>1970</td>\n",
       "      <td>ford torino</td>\n",
       "      <td>7.227443</td>\n",
       "    </tr>\n",
       "    <tr>\n",
       "      <th>...</th>\n",
       "      <td>...</td>\n",
       "      <td>...</td>\n",
       "      <td>...</td>\n",
       "      <td>...</td>\n",
       "      <td>...</td>\n",
       "      <td>...</td>\n",
       "      <td>...</td>\n",
       "      <td>...</td>\n",
       "      <td>...</td>\n",
       "    </tr>\n",
       "    <tr>\n",
       "      <th>393</th>\n",
       "      <td>1</td>\n",
       "      <td>4</td>\n",
       "      <td>140.0</td>\n",
       "      <td>86</td>\n",
       "      <td>2790</td>\n",
       "      <td>15.6</td>\n",
       "      <td>1982</td>\n",
       "      <td>ford mustang gl</td>\n",
       "      <td>11.478880</td>\n",
       "    </tr>\n",
       "    <tr>\n",
       "      <th>394</th>\n",
       "      <td>2</td>\n",
       "      <td>4</td>\n",
       "      <td>97.0</td>\n",
       "      <td>52</td>\n",
       "      <td>2130</td>\n",
       "      <td>24.6</td>\n",
       "      <td>1982</td>\n",
       "      <td>vw pickup</td>\n",
       "      <td>18.706323</td>\n",
       "    </tr>\n",
       "    <tr>\n",
       "      <th>395</th>\n",
       "      <td>1</td>\n",
       "      <td>4</td>\n",
       "      <td>135.0</td>\n",
       "      <td>84</td>\n",
       "      <td>2295</td>\n",
       "      <td>11.6</td>\n",
       "      <td>1982</td>\n",
       "      <td>dodge rampage</td>\n",
       "      <td>13.604599</td>\n",
       "    </tr>\n",
       "    <tr>\n",
       "      <th>396</th>\n",
       "      <td>1</td>\n",
       "      <td>4</td>\n",
       "      <td>120.0</td>\n",
       "      <td>79</td>\n",
       "      <td>2625</td>\n",
       "      <td>18.6</td>\n",
       "      <td>1982</td>\n",
       "      <td>ford ranger</td>\n",
       "      <td>11.904024</td>\n",
       "    </tr>\n",
       "    <tr>\n",
       "      <th>397</th>\n",
       "      <td>1</td>\n",
       "      <td>4</td>\n",
       "      <td>119.0</td>\n",
       "      <td>82</td>\n",
       "      <td>2720</td>\n",
       "      <td>19.4</td>\n",
       "      <td>1982</td>\n",
       "      <td>chevy s-10</td>\n",
       "      <td>13.179455</td>\n",
       "    </tr>\n",
       "  </tbody>\n",
       "</table>\n",
       "<p>398 rows × 9 columns</p>\n",
       "</div>"
      ],
      "text/plain": [
       "     origin  cylinders  displacement horsepower  weight  acceleration  year  \\\n",
       "0         1          8         307.0        130    3504          12.0  1970   \n",
       "1         1          8         350.0        165    3693          11.5  1970   \n",
       "2         1          8         318.0        150    3436          11.0  1970   \n",
       "3         1          8         304.0        150    3433          12.0  1970   \n",
       "4         1          8         302.0        140    3449          10.5  1970   \n",
       "..      ...        ...           ...        ...     ...           ...   ...   \n",
       "393       1          4         140.0         86    2790          15.6  1982   \n",
       "394       2          4          97.0         52    2130          24.6  1982   \n",
       "395       1          4         135.0         84    2295          11.6  1982   \n",
       "396       1          4         120.0         79    2625          18.6  1982   \n",
       "397       1          4         119.0         82    2720          19.4  1982   \n",
       "\n",
       "                          name  Kilometer_per_liter  \n",
       "0    chevrolet chevelle malibu             7.652587  \n",
       "1            buick skylark 320             6.377156  \n",
       "2           plymouth satellite             7.652587  \n",
       "3                amc rebel sst             6.802299  \n",
       "4                  ford torino             7.227443  \n",
       "..                         ...                  ...  \n",
       "393            ford mustang gl            11.478880  \n",
       "394                  vw pickup            18.706323  \n",
       "395              dodge rampage            13.604599  \n",
       "396                ford ranger            11.904024  \n",
       "397                 chevy s-10            13.179455  \n",
       "\n",
       "[398 rows x 9 columns]"
      ]
     },
     "execution_count": 8,
     "metadata": {},
     "output_type": "execute_result"
    }
   ],
   "source": [
    "df"
   ]
  },
  {
   "cell_type": "code",
   "execution_count": 9,
   "id": "698ac85e",
   "metadata": {},
   "outputs": [
    {
     "name": "stdout",
     "output_type": "stream",
     "text": [
      "<class 'pandas.core.frame.DataFrame'>\n",
      "RangeIndex: 398 entries, 0 to 397\n",
      "Data columns (total 9 columns):\n",
      " #   Column               Non-Null Count  Dtype  \n",
      "---  ------               --------------  -----  \n",
      " 0   origin               398 non-null    int64  \n",
      " 1   cylinders            398 non-null    int64  \n",
      " 2   displacement         398 non-null    float64\n",
      " 3   horsepower           398 non-null    object \n",
      " 4   weight               398 non-null    int64  \n",
      " 5   acceleration         398 non-null    float64\n",
      " 6   year                 398 non-null    int64  \n",
      " 7   name                 398 non-null    object \n",
      " 8   Kilometer_per_liter  398 non-null    float64\n",
      "dtypes: float64(3), int64(4), object(2)\n",
      "memory usage: 28.1+ KB\n"
     ]
    }
   ],
   "source": [
    "df.info()"
   ]
  },
  {
   "cell_type": "code",
   "execution_count": 10,
   "id": "dc9a48c5",
   "metadata": {},
   "outputs": [
    {
     "data": {
      "text/plain": [
       "array(['130', '165', '150', '140', '198', '220', '215', '225', '190',\n",
       "       '170', '160', '95', '97', '85', '88', '46', '87', '90', '113',\n",
       "       '200', '210', '193', '?', '100', '105', '175', '153', '180', '110',\n",
       "       '72', '86', '70', '76', '65', '69', '60', '80', '54', '208', '155',\n",
       "       '112', '92', '145', '137', '158', '167', '94', '107', '230', '49',\n",
       "       '75', '91', '122', '67', '83', '78', '52', '61', '93', '148',\n",
       "       '129', '96', '71', '98', '115', '53', '81', '79', '120', '152',\n",
       "       '102', '108', '68', '58', '149', '89', '63', '48', '66', '139',\n",
       "       '103', '125', '133', '138', '135', '142', '77', '62', '132', '84',\n",
       "       '64', '74', '116', '82'], dtype=object)"
      ]
     },
     "execution_count": 10,
     "metadata": {},
     "output_type": "execute_result"
    }
   ],
   "source": [
    "df[\"horsepower\"].unique()"
   ]
  },
  {
   "cell_type": "code",
   "execution_count": 11,
   "id": "a2f1cae9",
   "metadata": {},
   "outputs": [
    {
     "data": {
      "text/html": [
       "<div>\n",
       "<style scoped>\n",
       "    .dataframe tbody tr th:only-of-type {\n",
       "        vertical-align: middle;\n",
       "    }\n",
       "\n",
       "    .dataframe tbody tr th {\n",
       "        vertical-align: top;\n",
       "    }\n",
       "\n",
       "    .dataframe thead th {\n",
       "        text-align: right;\n",
       "    }\n",
       "</style>\n",
       "<table border=\"1\" class=\"dataframe\">\n",
       "  <thead>\n",
       "    <tr style=\"text-align: right;\">\n",
       "      <th></th>\n",
       "      <th>origin</th>\n",
       "      <th>cylinders</th>\n",
       "      <th>displacement</th>\n",
       "      <th>horsepower</th>\n",
       "      <th>weight</th>\n",
       "      <th>acceleration</th>\n",
       "      <th>year</th>\n",
       "      <th>name</th>\n",
       "      <th>Kilometer_per_liter</th>\n",
       "    </tr>\n",
       "  </thead>\n",
       "  <tbody>\n",
       "    <tr>\n",
       "      <th>0</th>\n",
       "      <td>1</td>\n",
       "      <td>8</td>\n",
       "      <td>307.0</td>\n",
       "      <td>130</td>\n",
       "      <td>3504</td>\n",
       "      <td>12.0</td>\n",
       "      <td>1970</td>\n",
       "      <td>chevrolet chevelle malibu</td>\n",
       "      <td>7.652587</td>\n",
       "    </tr>\n",
       "    <tr>\n",
       "      <th>1</th>\n",
       "      <td>1</td>\n",
       "      <td>8</td>\n",
       "      <td>350.0</td>\n",
       "      <td>165</td>\n",
       "      <td>3693</td>\n",
       "      <td>11.5</td>\n",
       "      <td>1970</td>\n",
       "      <td>buick skylark 320</td>\n",
       "      <td>6.377156</td>\n",
       "    </tr>\n",
       "    <tr>\n",
       "      <th>2</th>\n",
       "      <td>1</td>\n",
       "      <td>8</td>\n",
       "      <td>318.0</td>\n",
       "      <td>150</td>\n",
       "      <td>3436</td>\n",
       "      <td>11.0</td>\n",
       "      <td>1970</td>\n",
       "      <td>plymouth satellite</td>\n",
       "      <td>7.652587</td>\n",
       "    </tr>\n",
       "    <tr>\n",
       "      <th>3</th>\n",
       "      <td>1</td>\n",
       "      <td>8</td>\n",
       "      <td>304.0</td>\n",
       "      <td>150</td>\n",
       "      <td>3433</td>\n",
       "      <td>12.0</td>\n",
       "      <td>1970</td>\n",
       "      <td>amc rebel sst</td>\n",
       "      <td>6.802299</td>\n",
       "    </tr>\n",
       "    <tr>\n",
       "      <th>4</th>\n",
       "      <td>1</td>\n",
       "      <td>8</td>\n",
       "      <td>302.0</td>\n",
       "      <td>140</td>\n",
       "      <td>3449</td>\n",
       "      <td>10.5</td>\n",
       "      <td>1970</td>\n",
       "      <td>ford torino</td>\n",
       "      <td>7.227443</td>\n",
       "    </tr>\n",
       "    <tr>\n",
       "      <th>...</th>\n",
       "      <td>...</td>\n",
       "      <td>...</td>\n",
       "      <td>...</td>\n",
       "      <td>...</td>\n",
       "      <td>...</td>\n",
       "      <td>...</td>\n",
       "      <td>...</td>\n",
       "      <td>...</td>\n",
       "      <td>...</td>\n",
       "    </tr>\n",
       "    <tr>\n",
       "      <th>393</th>\n",
       "      <td>1</td>\n",
       "      <td>4</td>\n",
       "      <td>140.0</td>\n",
       "      <td>86</td>\n",
       "      <td>2790</td>\n",
       "      <td>15.6</td>\n",
       "      <td>1982</td>\n",
       "      <td>ford mustang gl</td>\n",
       "      <td>11.478880</td>\n",
       "    </tr>\n",
       "    <tr>\n",
       "      <th>394</th>\n",
       "      <td>2</td>\n",
       "      <td>4</td>\n",
       "      <td>97.0</td>\n",
       "      <td>52</td>\n",
       "      <td>2130</td>\n",
       "      <td>24.6</td>\n",
       "      <td>1982</td>\n",
       "      <td>vw pickup</td>\n",
       "      <td>18.706323</td>\n",
       "    </tr>\n",
       "    <tr>\n",
       "      <th>395</th>\n",
       "      <td>1</td>\n",
       "      <td>4</td>\n",
       "      <td>135.0</td>\n",
       "      <td>84</td>\n",
       "      <td>2295</td>\n",
       "      <td>11.6</td>\n",
       "      <td>1982</td>\n",
       "      <td>dodge rampage</td>\n",
       "      <td>13.604599</td>\n",
       "    </tr>\n",
       "    <tr>\n",
       "      <th>396</th>\n",
       "      <td>1</td>\n",
       "      <td>4</td>\n",
       "      <td>120.0</td>\n",
       "      <td>79</td>\n",
       "      <td>2625</td>\n",
       "      <td>18.6</td>\n",
       "      <td>1982</td>\n",
       "      <td>ford ranger</td>\n",
       "      <td>11.904024</td>\n",
       "    </tr>\n",
       "    <tr>\n",
       "      <th>397</th>\n",
       "      <td>1</td>\n",
       "      <td>4</td>\n",
       "      <td>119.0</td>\n",
       "      <td>82</td>\n",
       "      <td>2720</td>\n",
       "      <td>19.4</td>\n",
       "      <td>1982</td>\n",
       "      <td>chevy s-10</td>\n",
       "      <td>13.179455</td>\n",
       "    </tr>\n",
       "  </tbody>\n",
       "</table>\n",
       "<p>398 rows × 9 columns</p>\n",
       "</div>"
      ],
      "text/plain": [
       "     origin  cylinders  displacement horsepower  weight  acceleration  year  \\\n",
       "0         1          8         307.0        130    3504          12.0  1970   \n",
       "1         1          8         350.0        165    3693          11.5  1970   \n",
       "2         1          8         318.0        150    3436          11.0  1970   \n",
       "3         1          8         304.0        150    3433          12.0  1970   \n",
       "4         1          8         302.0        140    3449          10.5  1970   \n",
       "..      ...        ...           ...        ...     ...           ...   ...   \n",
       "393       1          4         140.0         86    2790          15.6  1982   \n",
       "394       2          4          97.0         52    2130          24.6  1982   \n",
       "395       1          4         135.0         84    2295          11.6  1982   \n",
       "396       1          4         120.0         79    2625          18.6  1982   \n",
       "397       1          4         119.0         82    2720          19.4  1982   \n",
       "\n",
       "                          name  Kilometer_per_liter  \n",
       "0    chevrolet chevelle malibu             7.652587  \n",
       "1            buick skylark 320             6.377156  \n",
       "2           plymouth satellite             7.652587  \n",
       "3                amc rebel sst             6.802299  \n",
       "4                  ford torino             7.227443  \n",
       "..                         ...                  ...  \n",
       "393            ford mustang gl            11.478880  \n",
       "394                  vw pickup            18.706323  \n",
       "395              dodge rampage            13.604599  \n",
       "396                ford ranger            11.904024  \n",
       "397                 chevy s-10            13.179455  \n",
       "\n",
       "[398 rows x 9 columns]"
      ]
     },
     "execution_count": 11,
     "metadata": {},
     "output_type": "execute_result"
    }
   ],
   "source": [
    "df\n"
   ]
  },
  {
   "cell_type": "code",
   "execution_count": 12,
   "id": "90d11964",
   "metadata": {},
   "outputs": [
    {
     "name": "stdout",
     "output_type": "stream",
     "text": [
      "<class 'pandas.core.frame.DataFrame'>\n",
      "RangeIndex: 398 entries, 0 to 397\n",
      "Data columns (total 9 columns):\n",
      " #   Column               Non-Null Count  Dtype  \n",
      "---  ------               --------------  -----  \n",
      " 0   origin               398 non-null    int64  \n",
      " 1   cylinders            398 non-null    int64  \n",
      " 2   displacement         398 non-null    float64\n",
      " 3   horsepower           398 non-null    object \n",
      " 4   weight               398 non-null    int64  \n",
      " 5   acceleration         398 non-null    float64\n",
      " 6   year                 398 non-null    int64  \n",
      " 7   name                 398 non-null    object \n",
      " 8   Kilometer_per_liter  398 non-null    float64\n",
      "dtypes: float64(3), int64(4), object(2)\n",
      "memory usage: 28.1+ KB\n"
     ]
    }
   ],
   "source": [
    "df.info()"
   ]
  },
  {
   "cell_type": "code",
   "execution_count": 13,
   "id": "7f875335",
   "metadata": {},
   "outputs": [
    {
     "data": {
      "text/plain": [
       "origin                 0\n",
       "cylinders              0\n",
       "displacement           0\n",
       "horsepower             0\n",
       "weight                 0\n",
       "acceleration           0\n",
       "year                   0\n",
       "name                   0\n",
       "Kilometer_per_liter    0\n",
       "dtype: int64"
      ]
     },
     "execution_count": 13,
     "metadata": {},
     "output_type": "execute_result"
    }
   ],
   "source": [
    "df.isnull().sum()"
   ]
  },
  {
   "cell_type": "code",
   "execution_count": 14,
   "id": "17dfa291",
   "metadata": {},
   "outputs": [
    {
     "data": {
      "text/html": [
       "<div>\n",
       "<style scoped>\n",
       "    .dataframe tbody tr th:only-of-type {\n",
       "        vertical-align: middle;\n",
       "    }\n",
       "\n",
       "    .dataframe tbody tr th {\n",
       "        vertical-align: top;\n",
       "    }\n",
       "\n",
       "    .dataframe thead th {\n",
       "        text-align: right;\n",
       "    }\n",
       "</style>\n",
       "<table border=\"1\" class=\"dataframe\">\n",
       "  <thead>\n",
       "    <tr style=\"text-align: right;\">\n",
       "      <th></th>\n",
       "      <th>origin</th>\n",
       "      <th>cylinders</th>\n",
       "      <th>displacement</th>\n",
       "      <th>horsepower</th>\n",
       "      <th>weight</th>\n",
       "      <th>acceleration</th>\n",
       "      <th>year</th>\n",
       "      <th>name</th>\n",
       "      <th>Kilometer_per_liter</th>\n",
       "    </tr>\n",
       "  </thead>\n",
       "  <tbody>\n",
       "    <tr>\n",
       "      <th>32</th>\n",
       "      <td>1</td>\n",
       "      <td>4</td>\n",
       "      <td>98.0</td>\n",
       "      <td>?</td>\n",
       "      <td>2046</td>\n",
       "      <td>19.0</td>\n",
       "      <td>1971</td>\n",
       "      <td>ford pinto</td>\n",
       "      <td>10.628593</td>\n",
       "    </tr>\n",
       "    <tr>\n",
       "      <th>126</th>\n",
       "      <td>1</td>\n",
       "      <td>6</td>\n",
       "      <td>200.0</td>\n",
       "      <td>?</td>\n",
       "      <td>2875</td>\n",
       "      <td>17.0</td>\n",
       "      <td>1974</td>\n",
       "      <td>ford maverick</td>\n",
       "      <td>8.928018</td>\n",
       "    </tr>\n",
       "    <tr>\n",
       "      <th>330</th>\n",
       "      <td>2</td>\n",
       "      <td>4</td>\n",
       "      <td>85.0</td>\n",
       "      <td>?</td>\n",
       "      <td>1835</td>\n",
       "      <td>17.3</td>\n",
       "      <td>1980</td>\n",
       "      <td>renault lecar deluxe</td>\n",
       "      <td>17.388378</td>\n",
       "    </tr>\n",
       "    <tr>\n",
       "      <th>336</th>\n",
       "      <td>1</td>\n",
       "      <td>4</td>\n",
       "      <td>140.0</td>\n",
       "      <td>?</td>\n",
       "      <td>2905</td>\n",
       "      <td>14.3</td>\n",
       "      <td>1980</td>\n",
       "      <td>ford mustang cobra</td>\n",
       "      <td>10.033391</td>\n",
       "    </tr>\n",
       "    <tr>\n",
       "      <th>354</th>\n",
       "      <td>2</td>\n",
       "      <td>4</td>\n",
       "      <td>100.0</td>\n",
       "      <td>?</td>\n",
       "      <td>2320</td>\n",
       "      <td>15.8</td>\n",
       "      <td>1981</td>\n",
       "      <td>renault 18i</td>\n",
       "      <td>14.667458</td>\n",
       "    </tr>\n",
       "    <tr>\n",
       "      <th>374</th>\n",
       "      <td>1</td>\n",
       "      <td>4</td>\n",
       "      <td>151.0</td>\n",
       "      <td>?</td>\n",
       "      <td>3035</td>\n",
       "      <td>20.5</td>\n",
       "      <td>1982</td>\n",
       "      <td>amc concord dl</td>\n",
       "      <td>9.778305</td>\n",
       "    </tr>\n",
       "  </tbody>\n",
       "</table>\n",
       "</div>"
      ],
      "text/plain": [
       "     origin  cylinders  displacement horsepower  weight  acceleration  year  \\\n",
       "32        1          4          98.0          ?    2046          19.0  1971   \n",
       "126       1          6         200.0          ?    2875          17.0  1974   \n",
       "330       2          4          85.0          ?    1835          17.3  1980   \n",
       "336       1          4         140.0          ?    2905          14.3  1980   \n",
       "354       2          4         100.0          ?    2320          15.8  1981   \n",
       "374       1          4         151.0          ?    3035          20.5  1982   \n",
       "\n",
       "                     name  Kilometer_per_liter  \n",
       "32             ford pinto            10.628593  \n",
       "126         ford maverick             8.928018  \n",
       "330  renault lecar deluxe            17.388378  \n",
       "336    ford mustang cobra            10.033391  \n",
       "354           renault 18i            14.667458  \n",
       "374        amc concord dl             9.778305  "
      ]
     },
     "execution_count": 14,
     "metadata": {},
     "output_type": "execute_result"
    }
   ],
   "source": [
    "df[df[\"horsepower\"]==\"?\"]"
   ]
  },
  {
   "cell_type": "code",
   "execution_count": 15,
   "id": "3b58a447",
   "metadata": {},
   "outputs": [],
   "source": [
    "df1=df.drop(df.index[df[\"horsepower\"]==\"?\"])"
   ]
  },
  {
   "cell_type": "code",
   "execution_count": 16,
   "id": "b9726844",
   "metadata": {},
   "outputs": [
    {
     "data": {
      "text/html": [
       "<div>\n",
       "<style scoped>\n",
       "    .dataframe tbody tr th:only-of-type {\n",
       "        vertical-align: middle;\n",
       "    }\n",
       "\n",
       "    .dataframe tbody tr th {\n",
       "        vertical-align: top;\n",
       "    }\n",
       "\n",
       "    .dataframe thead th {\n",
       "        text-align: right;\n",
       "    }\n",
       "</style>\n",
       "<table border=\"1\" class=\"dataframe\">\n",
       "  <thead>\n",
       "    <tr style=\"text-align: right;\">\n",
       "      <th></th>\n",
       "      <th>origin</th>\n",
       "      <th>cylinders</th>\n",
       "      <th>displacement</th>\n",
       "      <th>horsepower</th>\n",
       "      <th>weight</th>\n",
       "      <th>acceleration</th>\n",
       "      <th>year</th>\n",
       "      <th>name</th>\n",
       "      <th>Kilometer_per_liter</th>\n",
       "    </tr>\n",
       "  </thead>\n",
       "  <tbody>\n",
       "    <tr>\n",
       "      <th>0</th>\n",
       "      <td>1</td>\n",
       "      <td>8</td>\n",
       "      <td>307.0</td>\n",
       "      <td>130</td>\n",
       "      <td>3504</td>\n",
       "      <td>12.0</td>\n",
       "      <td>1970</td>\n",
       "      <td>chevrolet chevelle malibu</td>\n",
       "      <td>7.652587</td>\n",
       "    </tr>\n",
       "    <tr>\n",
       "      <th>1</th>\n",
       "      <td>1</td>\n",
       "      <td>8</td>\n",
       "      <td>350.0</td>\n",
       "      <td>165</td>\n",
       "      <td>3693</td>\n",
       "      <td>11.5</td>\n",
       "      <td>1970</td>\n",
       "      <td>buick skylark 320</td>\n",
       "      <td>6.377156</td>\n",
       "    </tr>\n",
       "    <tr>\n",
       "      <th>2</th>\n",
       "      <td>1</td>\n",
       "      <td>8</td>\n",
       "      <td>318.0</td>\n",
       "      <td>150</td>\n",
       "      <td>3436</td>\n",
       "      <td>11.0</td>\n",
       "      <td>1970</td>\n",
       "      <td>plymouth satellite</td>\n",
       "      <td>7.652587</td>\n",
       "    </tr>\n",
       "    <tr>\n",
       "      <th>3</th>\n",
       "      <td>1</td>\n",
       "      <td>8</td>\n",
       "      <td>304.0</td>\n",
       "      <td>150</td>\n",
       "      <td>3433</td>\n",
       "      <td>12.0</td>\n",
       "      <td>1970</td>\n",
       "      <td>amc rebel sst</td>\n",
       "      <td>6.802299</td>\n",
       "    </tr>\n",
       "    <tr>\n",
       "      <th>4</th>\n",
       "      <td>1</td>\n",
       "      <td>8</td>\n",
       "      <td>302.0</td>\n",
       "      <td>140</td>\n",
       "      <td>3449</td>\n",
       "      <td>10.5</td>\n",
       "      <td>1970</td>\n",
       "      <td>ford torino</td>\n",
       "      <td>7.227443</td>\n",
       "    </tr>\n",
       "    <tr>\n",
       "      <th>...</th>\n",
       "      <td>...</td>\n",
       "      <td>...</td>\n",
       "      <td>...</td>\n",
       "      <td>...</td>\n",
       "      <td>...</td>\n",
       "      <td>...</td>\n",
       "      <td>...</td>\n",
       "      <td>...</td>\n",
       "      <td>...</td>\n",
       "    </tr>\n",
       "    <tr>\n",
       "      <th>393</th>\n",
       "      <td>1</td>\n",
       "      <td>4</td>\n",
       "      <td>140.0</td>\n",
       "      <td>86</td>\n",
       "      <td>2790</td>\n",
       "      <td>15.6</td>\n",
       "      <td>1982</td>\n",
       "      <td>ford mustang gl</td>\n",
       "      <td>11.478880</td>\n",
       "    </tr>\n",
       "    <tr>\n",
       "      <th>394</th>\n",
       "      <td>2</td>\n",
       "      <td>4</td>\n",
       "      <td>97.0</td>\n",
       "      <td>52</td>\n",
       "      <td>2130</td>\n",
       "      <td>24.6</td>\n",
       "      <td>1982</td>\n",
       "      <td>vw pickup</td>\n",
       "      <td>18.706323</td>\n",
       "    </tr>\n",
       "    <tr>\n",
       "      <th>395</th>\n",
       "      <td>1</td>\n",
       "      <td>4</td>\n",
       "      <td>135.0</td>\n",
       "      <td>84</td>\n",
       "      <td>2295</td>\n",
       "      <td>11.6</td>\n",
       "      <td>1982</td>\n",
       "      <td>dodge rampage</td>\n",
       "      <td>13.604599</td>\n",
       "    </tr>\n",
       "    <tr>\n",
       "      <th>396</th>\n",
       "      <td>1</td>\n",
       "      <td>4</td>\n",
       "      <td>120.0</td>\n",
       "      <td>79</td>\n",
       "      <td>2625</td>\n",
       "      <td>18.6</td>\n",
       "      <td>1982</td>\n",
       "      <td>ford ranger</td>\n",
       "      <td>11.904024</td>\n",
       "    </tr>\n",
       "    <tr>\n",
       "      <th>397</th>\n",
       "      <td>1</td>\n",
       "      <td>4</td>\n",
       "      <td>119.0</td>\n",
       "      <td>82</td>\n",
       "      <td>2720</td>\n",
       "      <td>19.4</td>\n",
       "      <td>1982</td>\n",
       "      <td>chevy s-10</td>\n",
       "      <td>13.179455</td>\n",
       "    </tr>\n",
       "  </tbody>\n",
       "</table>\n",
       "<p>392 rows × 9 columns</p>\n",
       "</div>"
      ],
      "text/plain": [
       "     origin  cylinders  displacement horsepower  weight  acceleration  year  \\\n",
       "0         1          8         307.0        130    3504          12.0  1970   \n",
       "1         1          8         350.0        165    3693          11.5  1970   \n",
       "2         1          8         318.0        150    3436          11.0  1970   \n",
       "3         1          8         304.0        150    3433          12.0  1970   \n",
       "4         1          8         302.0        140    3449          10.5  1970   \n",
       "..      ...        ...           ...        ...     ...           ...   ...   \n",
       "393       1          4         140.0         86    2790          15.6  1982   \n",
       "394       2          4          97.0         52    2130          24.6  1982   \n",
       "395       1          4         135.0         84    2295          11.6  1982   \n",
       "396       1          4         120.0         79    2625          18.6  1982   \n",
       "397       1          4         119.0         82    2720          19.4  1982   \n",
       "\n",
       "                          name  Kilometer_per_liter  \n",
       "0    chevrolet chevelle malibu             7.652587  \n",
       "1            buick skylark 320             6.377156  \n",
       "2           plymouth satellite             7.652587  \n",
       "3                amc rebel sst             6.802299  \n",
       "4                  ford torino             7.227443  \n",
       "..                         ...                  ...  \n",
       "393            ford mustang gl            11.478880  \n",
       "394                  vw pickup            18.706323  \n",
       "395              dodge rampage            13.604599  \n",
       "396                ford ranger            11.904024  \n",
       "397                 chevy s-10            13.179455  \n",
       "\n",
       "[392 rows x 9 columns]"
      ]
     },
     "execution_count": 16,
     "metadata": {},
     "output_type": "execute_result"
    }
   ],
   "source": [
    "df1"
   ]
  },
  {
   "cell_type": "code",
   "execution_count": 17,
   "id": "1f75f753",
   "metadata": {},
   "outputs": [],
   "source": [
    "df1[\"horsepower\"]=df1[\"horsepower\"].astype(\"int\")"
   ]
  },
  {
   "cell_type": "code",
   "execution_count": 18,
   "id": "31801b42",
   "metadata": {},
   "outputs": [],
   "source": [
    "df1[\"origin\"]=df1[\"origin\"].astype(\"object\")"
   ]
  },
  {
   "cell_type": "code",
   "execution_count": 19,
   "id": "1df5bf9f",
   "metadata": {},
   "outputs": [],
   "source": [
    "df1[[\"car_name\",\"car_model\"]]=df1[\"name\"].str.split(\" \",n=1,expand=True)"
   ]
  },
  {
   "cell_type": "code",
   "execution_count": 20,
   "id": "be9d36a8",
   "metadata": {},
   "outputs": [],
   "source": [
    "df1.drop(\"name\",axis=1,inplace=True)"
   ]
  },
  {
   "cell_type": "code",
   "execution_count": 21,
   "id": "227d2010",
   "metadata": {},
   "outputs": [
    {
     "name": "stdout",
     "output_type": "stream",
     "text": [
      "['amc' 'audi' 'bmw' 'buick' 'cadillac' 'capri' 'chevroelt' 'chevrolet'\n",
      " 'chevy' 'chrysler' 'datsun' 'dodge' 'fiat' 'ford' 'hi' 'honda' 'maxda'\n",
      " 'mazda' 'mercedes' 'mercedes-benz' 'mercury' 'nissan' 'oldsmobile' 'opel'\n",
      " 'peugeot' 'plymouth' 'pontiac' 'renault' 'saab' 'subaru' 'toyota'\n",
      " 'toyouta' 'triumph' 'vokswagen' 'volkswagen' 'volvo' 'vw']\n"
     ]
    }
   ],
   "source": [
    "a=(df1[\"car_name\"].unique())\n",
    "a.sort()\n",
    "print(a)"
   ]
  },
  {
   "cell_type": "code",
   "execution_count": 22,
   "id": "8ed6ad62",
   "metadata": {},
   "outputs": [],
   "source": [
    "df1[\"car_name\"]=df1[\"car_name\"].replace({\"chevroelt\":\"chevrolet\",\n",
    "                                         \"chevy\":\"chevrolet\",\n",
    "                                        \"maxda\":\"mazda\",\n",
    "                                        \"mercedes-benz\":\"mercedes\",\n",
    "                                        \"toyouta\":\"toyota\",\n",
    "                                        \"vokswagen\":\"volkswagen\",\n",
    "                                        \"vw\":\"volkswagen\"})\n"
   ]
  },
  {
   "cell_type": "code",
   "execution_count": 23,
   "id": "9f1e468e",
   "metadata": {},
   "outputs": [
    {
     "name": "stdout",
     "output_type": "stream",
     "text": [
      "['amc', 'audi', 'bmw', 'buick', 'cadillac', 'capri', 'chevrolet', 'chrysler', 'datsun', 'dodge', 'fiat', 'ford', 'hi', 'honda', 'mazda', 'mercedes', 'mercury', 'nissan', 'oldsmobile', 'opel', 'peugeot', 'plymouth', 'pontiac', 'renault', 'saab', 'subaru', 'toyota', 'triumph', 'volkswagen', 'volvo']\n"
     ]
    }
   ],
   "source": [
    "print(sorted(df1[\"car_name\"].unique()))"
   ]
  },
  {
   "cell_type": "code",
   "execution_count": 24,
   "id": "1e45dab2",
   "metadata": {},
   "outputs": [
    {
     "data": {
      "text/html": [
       "<div>\n",
       "<style scoped>\n",
       "    .dataframe tbody tr th:only-of-type {\n",
       "        vertical-align: middle;\n",
       "    }\n",
       "\n",
       "    .dataframe tbody tr th {\n",
       "        vertical-align: top;\n",
       "    }\n",
       "\n",
       "    .dataframe thead th {\n",
       "        text-align: right;\n",
       "    }\n",
       "</style>\n",
       "<table border=\"1\" class=\"dataframe\">\n",
       "  <thead>\n",
       "    <tr style=\"text-align: right;\">\n",
       "      <th></th>\n",
       "      <th>origin</th>\n",
       "      <th>car_name</th>\n",
       "      <th>car_model</th>\n",
       "    </tr>\n",
       "  </thead>\n",
       "  <tbody>\n",
       "    <tr>\n",
       "      <th>count</th>\n",
       "      <td>392</td>\n",
       "      <td>392</td>\n",
       "      <td>390</td>\n",
       "    </tr>\n",
       "    <tr>\n",
       "      <th>unique</th>\n",
       "      <td>3</td>\n",
       "      <td>30</td>\n",
       "      <td>295</td>\n",
       "    </tr>\n",
       "    <tr>\n",
       "      <th>top</th>\n",
       "      <td>1</td>\n",
       "      <td>ford</td>\n",
       "      <td>rabbit</td>\n",
       "    </tr>\n",
       "    <tr>\n",
       "      <th>freq</th>\n",
       "      <td>245</td>\n",
       "      <td>48</td>\n",
       "      <td>5</td>\n",
       "    </tr>\n",
       "  </tbody>\n",
       "</table>\n",
       "</div>"
      ],
      "text/plain": [
       "        origin car_name car_model\n",
       "count      392      392       390\n",
       "unique       3       30       295\n",
       "top          1     ford    rabbit\n",
       "freq       245       48         5"
      ]
     },
     "execution_count": 24,
     "metadata": {},
     "output_type": "execute_result"
    }
   ],
   "source": [
    "df1.describe(include=\"object\")"
   ]
  },
  {
   "cell_type": "code",
   "execution_count": null,
   "id": "81bb1163",
   "metadata": {},
   "outputs": [],
   "source": []
  },
  {
   "cell_type": "markdown",
   "id": "d73c45ee",
   "metadata": {},
   "source": [
    "# EDA"
   ]
  },
  {
   "cell_type": "code",
   "execution_count": 25,
   "id": "64afac57",
   "metadata": {},
   "outputs": [
    {
     "data": {
      "text/plain": [
       "<Figure size 720x720 with 0 Axes>"
      ]
     },
     "metadata": {},
     "output_type": "display_data"
    },
    {
     "data": {
      "image/png": "[encoded data removed]",
      "text/plain": [
       "<Figure size 1296x1296 with 9 Axes>"
      ]
     },
     "metadata": {},
     "output_type": "display_data"
    }
   ],
   "source": [
    "import seaborn as sns\n",
    "plt.figure(figsize=(10,10))\n",
    "plt.style.use(\"seaborn-darkgrid\")\n",
    "df1.hist(figsize=(18,18),color=\"limegreen\");\n"
   ]
  },
  {
   "cell_type": "raw",
   "id": "81bd5884",
   "metadata": {},
   "source": [
    "Univariate Analysis"
   ]
  },
  {
   "cell_type": "markdown",
   "id": "354fa839",
   "metadata": {},
   "source": [
    "1.Kilometer_per_liter"
   ]
  },
  {
   "cell_type": "code",
   "execution_count": 26,
   "id": "f2409a41",
   "metadata": {},
   "outputs": [
    {
     "name": "stderr",
     "output_type": "stream",
     "text": [
      "C:\\Users\\Chhaya\\anaconda3\\lib\\site-packages\\seaborn\\distributions.py:2619: FutureWarning: `distplot` is a deprecated function and will be removed in a future version. Please adapt your code to use either `displot` (a figure-level function with similar flexibility) or `histplot` (an axes-level function for histograms).\n",
      "  warnings.warn(msg, FutureWarning)\n"
     ]
    },
    {
     "data": {
      "text/plain": [
       "<AxesSubplot:xlabel='Kilometer_per_liter', ylabel='Density'>"
      ]
     },
     "execution_count": 26,
     "metadata": {},
     "output_type": "execute_result"
    },
    {
     "data": {
      "image/png": "[encoded data removed]",
      "text/plain": [
       "<Figure size 432x288 with 1 Axes>"
      ]
     },
     "metadata": {},
     "output_type": "display_data"
    }
   ],
   "source": [
    "sns.distplot(df1[\"Kilometer_per_liter\"],color=\"limegreen\")"
   ]
  },
  {
   "cell_type": "raw",
   "id": "5ccb6461",
   "metadata": {},
   "source": [
    "Inter-Quantile Range and maixma for Target variable "
   ]
  },
  {
   "cell_type": "code",
   "execution_count": 27,
   "id": "daa21dee",
   "metadata": {},
   "outputs": [
    {
     "data": {
      "text/plain": [
       "(19.98175424922278, 5.101724489163264)"
      ]
     },
     "execution_count": 27,
     "metadata": {},
     "output_type": "execute_result"
    }
   ],
   "source": [
    "Q1=df1[\"Kilometer_per_liter\"].quantile(0.25)\n",
    "Q3=df1[\"Kilometer_per_liter\"].quantile(0.75)\n",
    "iqr=Q3-Q1\n",
    "maxima=(Q3+1.5*iqr)\n",
    "maxima,iqr"
   ]
  },
  {
   "cell_type": "code",
   "execution_count": 28,
   "id": "ce4b5e34",
   "metadata": {},
   "outputs": [
    {
     "name": "stderr",
     "output_type": "stream",
     "text": [
      "C:\\Users\\Chhaya\\anaconda3\\lib\\site-packages\\seaborn\\_decorators.py:36: FutureWarning: Pass the following variable as a keyword arg: x. From version 0.12, the only valid positional argument will be `data`, and passing other arguments without an explicit keyword will result in an error or misinterpretation.\n",
      "  warnings.warn(\n"
     ]
    },
    {
     "data": {
      "text/plain": [
       "<AxesSubplot:xlabel='Kilometer_per_liter'>"
      ]
     },
     "execution_count": 28,
     "metadata": {},
     "output_type": "execute_result"
    },
    {
     "data": {
      "image/png": "[encoded data removed]",
      "text/plain": [
       "<Figure size 432x288 with 1 Axes>"
      ]
     },
     "metadata": {},
     "output_type": "display_data"
    }
   ],
   "source": [
    "sns.boxplot(df1[\"Kilometer_per_liter\"],color=\"limegreen\")"
   ]
  },
  {
   "cell_type": "code",
   "execution_count": 29,
   "id": "a725bae3",
   "metadata": {},
   "outputs": [
    {
     "data": {
      "text/html": [
       "<div>\n",
       "<style scoped>\n",
       "    .dataframe tbody tr th:only-of-type {\n",
       "        vertical-align: middle;\n",
       "    }\n",
       "\n",
       "    .dataframe tbody tr th {\n",
       "        vertical-align: top;\n",
       "    }\n",
       "\n",
       "    .dataframe thead th {\n",
       "        text-align: right;\n",
       "    }\n",
       "</style>\n",
       "<table border=\"1\" class=\"dataframe\">\n",
       "  <thead>\n",
       "    <tr style=\"text-align: right;\">\n",
       "      <th></th>\n",
       "      <th>origin</th>\n",
       "      <th>cylinders</th>\n",
       "      <th>displacement</th>\n",
       "      <th>horsepower</th>\n",
       "      <th>weight</th>\n",
       "      <th>acceleration</th>\n",
       "      <th>year</th>\n",
       "      <th>Kilometer_per_liter</th>\n",
       "      <th>car_name</th>\n",
       "      <th>car_model</th>\n",
       "    </tr>\n",
       "  </thead>\n",
       "  <tbody>\n",
       "  </tbody>\n",
       "</table>\n",
       "</div>"
      ],
      "text/plain": [
       "Empty DataFrame\n",
       "Columns: [origin, cylinders, displacement, horsepower, weight, acceleration, year, Kilometer_per_liter, car_name, car_model]\n",
       "Index: []"
      ]
     },
     "execution_count": 29,
     "metadata": {},
     "output_type": "execute_result"
    }
   ],
   "source": [
    "df1[df1[\"Kilometer_per_liter\"]>19.98]"
   ]
  },
  {
   "cell_type": "code",
   "execution_count": 30,
   "id": "d566386c",
   "metadata": {},
   "outputs": [
    {
     "data": {
      "text/plain": [
       "<AxesSubplot:xlabel='Kilometer_per_liter', ylabel='Count'>"
      ]
     },
     "execution_count": 30,
     "metadata": {},
     "output_type": "execute_result"
    },
    {
     "data": {
      "image/png": "[encoded data removed]",
      "text/plain": [
       "<Figure size 432x288 with 1 Axes>"
      ]
     },
     "metadata": {},
     "output_type": "display_data"
    }
   ],
   "source": [
    "sns.histplot(df[\"Kilometer_per_liter\"],color=\"limegreen\")"
   ]
  },
  {
   "cell_type": "code",
   "execution_count": 31,
   "id": "940b3e72",
   "metadata": {},
   "outputs": [
    {
     "name": "stdout",
     "output_type": "stream",
     "text": [
      "0.45534192556309216\n"
     ]
    }
   ],
   "source": [
    "from scipy.stats import skew\n",
    "a=skew(df[\"Kilometer_per_liter\"])\n",
    "print(a)"
   ]
  },
  {
   "cell_type": "code",
   "execution_count": 32,
   "id": "8f654860",
   "metadata": {},
   "outputs": [
    {
     "name": "stdout",
     "output_type": "stream",
     "text": [
      "1.183135580618e-07\n",
      "data is not normalised\n"
     ]
    }
   ],
   "source": [
    "from scipy.stats import shapiro\n",
    "\n",
    "shapiro_test,p_value=shapiro(df[\"Kilometer_per_liter\"])\n",
    "print(p_value)\n",
    "if p_value>0.05:\n",
    "    print(\"data is normalised\")\n",
    "else:\n",
    "    print(\"data is not normalised\")"
   ]
  },
  {
   "cell_type": "code",
   "execution_count": 33,
   "id": "75dab049",
   "metadata": {},
   "outputs": [],
   "source": [
    "df1[\"log_mileage\"]=np.log(df1[\"Kilometer_per_liter\"])"
   ]
  },
  {
   "cell_type": "code",
   "execution_count": 34,
   "id": "268a4974",
   "metadata": {},
   "outputs": [
    {
     "data": {
      "text/plain": [
       "0       7.652587\n",
       "1       6.377156\n",
       "2       7.652587\n",
       "3       6.802299\n",
       "4       7.227443\n",
       "         ...    \n",
       "393    11.478880\n",
       "394    18.706323\n",
       "395    13.604599\n",
       "396    11.904024\n",
       "397    13.179455\n",
       "Name: Kilometer_per_liter, Length: 392, dtype: float64"
      ]
     },
     "execution_count": 34,
     "metadata": {},
     "output_type": "execute_result"
    }
   ],
   "source": [
    "df1[\"Kilometer_per_liter\"]"
   ]
  },
  {
   "cell_type": "code",
   "execution_count": 35,
   "id": "6f62e829",
   "metadata": {},
   "outputs": [
    {
     "name": "stdout",
     "output_type": "stream",
     "text": [
      "7.037756586214527e-05\n",
      "data is not normalised\n"
     ]
    }
   ],
   "source": [
    "shapiro_test,p_value=shapiro(df1[\"log_mileage\"])\n",
    "print(p_value)\n",
    "if p_value>0.05:\n",
    "    print(\"data is normalised\")\n",
    "else:\n",
    "    print(\"data is not normalised\")"
   ]
  },
  {
   "cell_type": "code",
   "execution_count": 36,
   "id": "e998270e",
   "metadata": {},
   "outputs": [
    {
     "name": "stderr",
     "output_type": "stream",
     "text": [
      "C:\\Users\\Chhaya\\anaconda3\\lib\\site-packages\\seaborn\\distributions.py:2619: FutureWarning: `distplot` is a deprecated function and will be removed in a future version. Please adapt your code to use either `displot` (a figure-level function with similar flexibility) or `histplot` (an axes-level function for histograms).\n",
      "  warnings.warn(msg, FutureWarning)\n"
     ]
    },
    {
     "data": {
      "text/plain": [
       "<AxesSubplot:xlabel='log_mileage', ylabel='Density'>"
      ]
     },
     "execution_count": 36,
     "metadata": {},
     "output_type": "execute_result"
    },
    {
     "data": {
      "image/png": "[encoded data removed]",
      "text/plain": [
       "<Figure size 432x288 with 1 Axes>"
      ]
     },
     "metadata": {},
     "output_type": "display_data"
    }
   ],
   "source": [
    "sns.distplot(df1[\"log_mileage\"],color=\"limegreen\")"
   ]
  },
  {
   "cell_type": "code",
   "execution_count": 37,
   "id": "1fbbde2f",
   "metadata": {},
   "outputs": [
    {
     "name": "stdout",
     "output_type": "stream",
     "text": [
      "-0.13087844685472316\n"
     ]
    }
   ],
   "source": [
    "a=skew(df1[\"log_mileage\"])\n",
    "print(a)"
   ]
  },
  {
   "cell_type": "code",
   "execution_count": 38,
   "id": "db5a7cba",
   "metadata": {},
   "outputs": [],
   "source": [
    "df1[\"log_mileage\"]=round(df1[\"log_mileage\"],2)\n",
    "df1[\"Kilometer_per_liter\"]=round(df1[\"Kilometer_per_liter\"],1)"
   ]
  },
  {
   "cell_type": "code",
   "execution_count": 39,
   "id": "ce689036",
   "metadata": {},
   "outputs": [
    {
     "data": {
      "text/html": [
       "<div>\n",
       "<style scoped>\n",
       "    .dataframe tbody tr th:only-of-type {\n",
       "        vertical-align: middle;\n",
       "    }\n",
       "\n",
       "    .dataframe tbody tr th {\n",
       "        vertical-align: top;\n",
       "    }\n",
       "\n",
       "    .dataframe thead th {\n",
       "        text-align: right;\n",
       "    }\n",
       "</style>\n",
       "<table border=\"1\" class=\"dataframe\">\n",
       "  <thead>\n",
       "    <tr style=\"text-align: right;\">\n",
       "      <th></th>\n",
       "      <th>origin</th>\n",
       "      <th>cylinders</th>\n",
       "      <th>displacement</th>\n",
       "      <th>horsepower</th>\n",
       "      <th>weight</th>\n",
       "      <th>acceleration</th>\n",
       "      <th>year</th>\n",
       "      <th>Kilometer_per_liter</th>\n",
       "      <th>car_name</th>\n",
       "      <th>car_model</th>\n",
       "      <th>log_mileage</th>\n",
       "    </tr>\n",
       "  </thead>\n",
       "  <tbody>\n",
       "    <tr>\n",
       "      <th>0</th>\n",
       "      <td>1</td>\n",
       "      <td>8</td>\n",
       "      <td>307.0</td>\n",
       "      <td>130</td>\n",
       "      <td>3504</td>\n",
       "      <td>12.0</td>\n",
       "      <td>1970</td>\n",
       "      <td>7.7</td>\n",
       "      <td>chevrolet</td>\n",
       "      <td>chevelle malibu</td>\n",
       "      <td>2.04</td>\n",
       "    </tr>\n",
       "    <tr>\n",
       "      <th>1</th>\n",
       "      <td>1</td>\n",
       "      <td>8</td>\n",
       "      <td>350.0</td>\n",
       "      <td>165</td>\n",
       "      <td>3693</td>\n",
       "      <td>11.5</td>\n",
       "      <td>1970</td>\n",
       "      <td>6.4</td>\n",
       "      <td>buick</td>\n",
       "      <td>skylark 320</td>\n",
       "      <td>1.85</td>\n",
       "    </tr>\n",
       "    <tr>\n",
       "      <th>2</th>\n",
       "      <td>1</td>\n",
       "      <td>8</td>\n",
       "      <td>318.0</td>\n",
       "      <td>150</td>\n",
       "      <td>3436</td>\n",
       "      <td>11.0</td>\n",
       "      <td>1970</td>\n",
       "      <td>7.7</td>\n",
       "      <td>plymouth</td>\n",
       "      <td>satellite</td>\n",
       "      <td>2.04</td>\n",
       "    </tr>\n",
       "    <tr>\n",
       "      <th>3</th>\n",
       "      <td>1</td>\n",
       "      <td>8</td>\n",
       "      <td>304.0</td>\n",
       "      <td>150</td>\n",
       "      <td>3433</td>\n",
       "      <td>12.0</td>\n",
       "      <td>1970</td>\n",
       "      <td>6.8</td>\n",
       "      <td>amc</td>\n",
       "      <td>rebel sst</td>\n",
       "      <td>1.92</td>\n",
       "    </tr>\n",
       "    <tr>\n",
       "      <th>4</th>\n",
       "      <td>1</td>\n",
       "      <td>8</td>\n",
       "      <td>302.0</td>\n",
       "      <td>140</td>\n",
       "      <td>3449</td>\n",
       "      <td>10.5</td>\n",
       "      <td>1970</td>\n",
       "      <td>7.2</td>\n",
       "      <td>ford</td>\n",
       "      <td>torino</td>\n",
       "      <td>1.98</td>\n",
       "    </tr>\n",
       "  </tbody>\n",
       "</table>\n",
       "</div>"
      ],
      "text/plain": [
       "  origin  cylinders  displacement  horsepower  weight  acceleration  year  \\\n",
       "0      1          8         307.0         130    3504          12.0  1970   \n",
       "1      1          8         350.0         165    3693          11.5  1970   \n",
       "2      1          8         318.0         150    3436          11.0  1970   \n",
       "3      1          8         304.0         150    3433          12.0  1970   \n",
       "4      1          8         302.0         140    3449          10.5  1970   \n",
       "\n",
       "   Kilometer_per_liter   car_name        car_model  log_mileage  \n",
       "0                  7.7  chevrolet  chevelle malibu         2.04  \n",
       "1                  6.4      buick      skylark 320         1.85  \n",
       "2                  7.7   plymouth        satellite         2.04  \n",
       "3                  6.8        amc        rebel sst         1.92  \n",
       "4                  7.2       ford           torino         1.98  "
      ]
     },
     "execution_count": 39,
     "metadata": {},
     "output_type": "execute_result"
    }
   ],
   "source": [
    "df1.head(5)"
   ]
  },
  {
   "cell_type": "markdown",
   "id": "1e656407",
   "metadata": {},
   "source": [
    "# features:1.cylinders"
   ]
  },
  {
   "cell_type": "code",
   "execution_count": 40,
   "id": "4039f942",
   "metadata": {},
   "outputs": [
    {
     "data": {
      "text/plain": [
       "<AxesSubplot:xlabel='cylinders', ylabel='Count'>"
      ]
     },
     "execution_count": 40,
     "metadata": {},
     "output_type": "execute_result"
    },
    {
     "data": {
      "image/png": "[encoded data removed]",
      "text/plain": [
       "<Figure size 432x288 with 1 Axes>"
      ]
     },
     "metadata": {},
     "output_type": "display_data"
    }
   ],
   "source": [
    "sns.histplot(df1[\"cylinders\"],kde=True,color=\"limegreen\")"
   ]
  },
  {
   "cell_type": "markdown",
   "id": "123fe3d0",
   "metadata": {},
   "source": [
    "2.origin"
   ]
  },
  {
   "cell_type": "code",
   "execution_count": 41,
   "id": "14b3c1de",
   "metadata": {},
   "outputs": [
    {
     "name": "stderr",
     "output_type": "stream",
     "text": [
      "C:\\Users\\Chhaya\\anaconda3\\lib\\site-packages\\seaborn\\_decorators.py:36: FutureWarning: Pass the following variable as a keyword arg: x. From version 0.12, the only valid positional argument will be `data`, and passing other arguments without an explicit keyword will result in an error or misinterpretation.\n",
      "  warnings.warn(\n"
     ]
    },
    {
     "data": {
      "text/plain": [
       "<AxesSubplot:xlabel='origin', ylabel='count'>"
      ]
     },
     "execution_count": 41,
     "metadata": {},
     "output_type": "execute_result"
    },
    {
     "data": {
      "image/png": "[encoded data removed]",
      "text/plain": [
       "<Figure size 432x288 with 1 Axes>"
      ]
     },
     "metadata": {},
     "output_type": "display_data"
    }
   ],
   "source": [
    "sns.countplot(df1[\"origin\"],palette=\"summer\")"
   ]
  },
  {
   "cell_type": "markdown",
   "id": "c601007d",
   "metadata": {},
   "source": [
    "3.year"
   ]
  },
  {
   "cell_type": "code",
   "execution_count": 42,
   "id": "05303045",
   "metadata": {},
   "outputs": [
    {
     "name": "stderr",
     "output_type": "stream",
     "text": [
      "C:\\Users\\Chhaya\\anaconda3\\lib\\site-packages\\seaborn\\_decorators.py:36: FutureWarning: Pass the following variable as a keyword arg: x. From version 0.12, the only valid positional argument will be `data`, and passing other arguments without an explicit keyword will result in an error or misinterpretation.\n",
      "  warnings.warn(\n"
     ]
    },
    {
     "data": {
      "text/plain": [
       "<AxesSubplot:xlabel='year', ylabel='count'>"
      ]
     },
     "execution_count": 42,
     "metadata": {},
     "output_type": "execute_result"
    },
    {
     "data": {
      "image/png": "[encoded data removed]",
      "text/plain": [
       "<Figure size 432x288 with 1 Axes>"
      ]
     },
     "metadata": {},
     "output_type": "display_data"
    }
   ],
   "source": [
    "sns.countplot(df1[\"year\"],palette=\"summer\")"
   ]
  },
  {
   "cell_type": "markdown",
   "id": "6351808b",
   "metadata": {},
   "source": [
    "4.Horsepower"
   ]
  },
  {
   "cell_type": "code",
   "execution_count": 43,
   "id": "5838a198",
   "metadata": {},
   "outputs": [
    {
     "name": "stderr",
     "output_type": "stream",
     "text": [
      "C:\\Users\\Chhaya\\anaconda3\\lib\\site-packages\\seaborn\\distributions.py:2619: FutureWarning: `distplot` is a deprecated function and will be removed in a future version. Please adapt your code to use either `displot` (a figure-level function with similar flexibility) or `histplot` (an axes-level function for histograms).\n",
      "  warnings.warn(msg, FutureWarning)\n"
     ]
    },
    {
     "data": {
      "text/plain": [
       "<AxesSubplot:xlabel='horsepower', ylabel='Density'>"
      ]
     },
     "execution_count": 43,
     "metadata": {},
     "output_type": "execute_result"
    },
    {
     "data": {
      "image/png": "[encoded data removed]",
      "text/plain": [
       "<Figure size 432x288 with 1 Axes>"
      ]
     },
     "metadata": {},
     "output_type": "display_data"
    }
   ],
   "source": [
    "sns.distplot(df1[\"horsepower\"],color=\"limegreen\")"
   ]
  },
  {
   "cell_type": "markdown",
   "id": "747c3f06",
   "metadata": {},
   "source": [
    "5.weight"
   ]
  },
  {
   "cell_type": "code",
   "execution_count": 44,
   "id": "8df0ab5a",
   "metadata": {},
   "outputs": [
    {
     "name": "stderr",
     "output_type": "stream",
     "text": [
      "C:\\Users\\Chhaya\\anaconda3\\lib\\site-packages\\seaborn\\distributions.py:2619: FutureWarning: `distplot` is a deprecated function and will be removed in a future version. Please adapt your code to use either `displot` (a figure-level function with similar flexibility) or `histplot` (an axes-level function for histograms).\n",
      "  warnings.warn(msg, FutureWarning)\n"
     ]
    },
    {
     "data": {
      "text/plain": [
       "<AxesSubplot:xlabel='weight', ylabel='Density'>"
      ]
     },
     "execution_count": 44,
     "metadata": {},
     "output_type": "execute_result"
    },
    {
     "data": {
      "image/png": "[encoded data removed]",
      "text/plain": [
       "<Figure size 432x288 with 1 Axes>"
      ]
     },
     "metadata": {},
     "output_type": "display_data"
    }
   ],
   "source": [
    "sns.distplot(df1[\"weight\"],color=\"limegreen\")"
   ]
  },
  {
   "cell_type": "markdown",
   "id": "91547eb6",
   "metadata": {},
   "source": [
    "6.Displacement"
   ]
  },
  {
   "cell_type": "code",
   "execution_count": 45,
   "id": "a6992ffa",
   "metadata": {},
   "outputs": [
    {
     "name": "stderr",
     "output_type": "stream",
     "text": [
      "C:\\Users\\Chhaya\\anaconda3\\lib\\site-packages\\seaborn\\distributions.py:2619: FutureWarning: `distplot` is a deprecated function and will be removed in a future version. Please adapt your code to use either `displot` (a figure-level function with similar flexibility) or `histplot` (an axes-level function for histograms).\n",
      "  warnings.warn(msg, FutureWarning)\n"
     ]
    },
    {
     "data": {
      "text/plain": [
       "<AxesSubplot:xlabel='displacement', ylabel='Density'>"
      ]
     },
     "execution_count": 45,
     "metadata": {},
     "output_type": "execute_result"
    },
    {
     "data": {
      "image/png": "[encoded data removed]",
      "text/plain": [
       "<Figure size 432x288 with 1 Axes>"
      ]
     },
     "metadata": {},
     "output_type": "display_data"
    }
   ],
   "source": [
    "sns.distplot(df1[\"displacement\"],color=\"limegreen\")"
   ]
  },
  {
   "cell_type": "markdown",
   "id": "c2506e7a",
   "metadata": {},
   "source": [
    "7.acceleration"
   ]
  },
  {
   "cell_type": "code",
   "execution_count": 46,
   "id": "8770ab52",
   "metadata": {},
   "outputs": [
    {
     "name": "stderr",
     "output_type": "stream",
     "text": [
      "C:\\Users\\Chhaya\\anaconda3\\lib\\site-packages\\seaborn\\distributions.py:2619: FutureWarning: `distplot` is a deprecated function and will be removed in a future version. Please adapt your code to use either `displot` (a figure-level function with similar flexibility) or `histplot` (an axes-level function for histograms).\n",
      "  warnings.warn(msg, FutureWarning)\n"
     ]
    },
    {
     "data": {
      "text/plain": [
       "<AxesSubplot:xlabel='acceleration', ylabel='Density'>"
      ]
     },
     "execution_count": 46,
     "metadata": {},
     "output_type": "execute_result"
    },
    {
     "data": {
      "image/png": "[encoded data removed]",
      "text/plain": [
       "<Figure size 432x288 with 1 Axes>"
      ]
     },
     "metadata": {},
     "output_type": "display_data"
    }
   ],
   "source": [
    "sns.distplot(df1[\"acceleration\"],color=\"limegreen\")"
   ]
  },
  {
   "cell_type": "markdown",
   "id": "5cc30618",
   "metadata": {},
   "source": [
    "# Bivariate Analysis"
   ]
  },
  {
   "cell_type": "markdown",
   "id": "aaf17622",
   "metadata": {},
   "source": [
    "1.Kilometer_per_liter vs Acceleration"
   ]
  },
  {
   "cell_type": "code",
   "execution_count": 47,
   "id": "b9e19938",
   "metadata": {},
   "outputs": [
    {
     "data": {
      "text/plain": [
       "<Figure size 2160x2160 with 0 Axes>"
      ]
     },
     "metadata": {},
     "output_type": "display_data"
    },
    {
     "data": {
      "image/png": "[encoded data removed]",
      "text/plain": [
       "<Figure size 432x288 with 1 Axes>"
      ]
     },
     "metadata": {},
     "output_type": "display_data"
    }
   ],
   "source": [
    "plt.figure(figsize=(30,30))\n",
    "df1[[\"acceleration\",\"Kilometer_per_liter\"]].head(10).plot(kind=\"bar\",width=1.25,color=[\"limegreen\",\"blue\"])\n",
    "plt.xticks(fontsize=10)\n",
    "plt.show()"
   ]
  },
  {
   "cell_type": "markdown",
   "id": "20cb8b48",
   "metadata": {},
   "source": [
    "2.Kilometer_per_liter vs Cylinders"
   ]
  },
  {
   "cell_type": "code",
   "execution_count": 48,
   "id": "4e3661a8",
   "metadata": {},
   "outputs": [
    {
     "name": "stderr",
     "output_type": "stream",
     "text": [
      "C:\\Users\\Chhaya\\anaconda3\\lib\\site-packages\\seaborn\\_decorators.py:36: FutureWarning: Pass the following variables as keyword args: x, y. From version 0.12, the only valid positional argument will be `data`, and passing other arguments without an explicit keyword will result in an error or misinterpretation.\n",
      "  warnings.warn(\n"
     ]
    },
    {
     "data": {
      "text/plain": [
       "<seaborn.axisgrid.JointGrid at 0x17c366c3610>"
      ]
     },
     "execution_count": 48,
     "metadata": {},
     "output_type": "execute_result"
    },
    {
     "data": {
      "image/png": "[encoded data removed]",
      "text/plain": [
       "<Figure size 432x432 with 3 Axes>"
      ]
     },
     "metadata": {},
     "output_type": "display_data"
    }
   ],
   "source": [
    "sns.jointplot(df1[\"Kilometer_per_liter\"],df1[\"cylinders\"],color=\"limegreen\",kind=\"hex\")"
   ]
  },
  {
   "cell_type": "markdown",
   "id": "02c91fe9",
   "metadata": {},
   "source": [
    "3.Kilometer_per_liter vs horsepower"
   ]
  },
  {
   "cell_type": "code",
   "execution_count": 49,
   "id": "f3412f3d",
   "metadata": {},
   "outputs": [
    {
     "name": "stderr",
     "output_type": "stream",
     "text": [
      "C:\\Users\\Chhaya\\anaconda3\\lib\\site-packages\\seaborn\\_decorators.py:36: FutureWarning: Pass the following variables as keyword args: x, y. From version 0.12, the only valid positional argument will be `data`, and passing other arguments without an explicit keyword will result in an error or misinterpretation.\n",
      "  warnings.warn(\n"
     ]
    },
    {
     "data": {
      "text/plain": [
       "<seaborn.axisgrid.JointGrid at 0x17c35df4af0>"
      ]
     },
     "execution_count": 49,
     "metadata": {},
     "output_type": "execute_result"
    },
    {
     "data": {
      "image/png": "[encoded data removed]",
      "text/plain": [
       "<Figure size 432x432 with 3 Axes>"
      ]
     },
     "metadata": {},
     "output_type": "display_data"
    }
   ],
   "source": [
    "sns.jointplot(df1[\"Kilometer_per_liter\"],df1[\"horsepower\"],color=\"limegreen\",kind=\"reg\")"
   ]
  },
  {
   "cell_type": "markdown",
   "id": "83142431",
   "metadata": {},
   "source": [
    "4.Kilometer_per_liter vs year"
   ]
  },
  {
   "cell_type": "code",
   "execution_count": 50,
   "id": "35259765",
   "metadata": {},
   "outputs": [
    {
     "name": "stderr",
     "output_type": "stream",
     "text": [
      "C:\\Users\\Chhaya\\anaconda3\\lib\\site-packages\\seaborn\\_decorators.py:36: FutureWarning: Pass the following variables as keyword args: x, y. From version 0.12, the only valid positional argument will be `data`, and passing other arguments without an explicit keyword will result in an error or misinterpretation.\n",
      "  warnings.warn(\n"
     ]
    },
    {
     "data": {
      "text/plain": [
       "<seaborn.axisgrid.JointGrid at 0x17c35691130>"
      ]
     },
     "execution_count": 50,
     "metadata": {},
     "output_type": "execute_result"
    },
    {
     "data": {
      "image/png": "[encoded data removed]",
      "text/plain": [
       "<Figure size 432x432 with 3 Axes>"
      ]
     },
     "metadata": {},
     "output_type": "display_data"
    }
   ],
   "source": [
    "sns.jointplot(df1[\"Kilometer_per_liter\"],df1[\"year\"],color=\"limegreen\",kind=\"reg\")"
   ]
  },
  {
   "cell_type": "code",
   "execution_count": 51,
   "id": "94eb059d",
   "metadata": {},
   "outputs": [],
   "source": [
    "df_=df1[['car_name','car_model','Kilometer_per_liter']].sort_values(by='Kilometer_per_liter',ascending=False).head(10)"
   ]
  },
  {
   "cell_type": "code",
   "execution_count": 52,
   "id": "e7c6fc7a",
   "metadata": {},
   "outputs": [
    {
     "data": {
      "text/html": [
       "<div>\n",
       "<style scoped>\n",
       "    .dataframe tbody tr th:only-of-type {\n",
       "        vertical-align: middle;\n",
       "    }\n",
       "\n",
       "    .dataframe tbody tr th {\n",
       "        vertical-align: top;\n",
       "    }\n",
       "\n",
       "    .dataframe thead th {\n",
       "        text-align: right;\n",
       "    }\n",
       "</style>\n",
       "<table border=\"1\" class=\"dataframe\">\n",
       "  <thead>\n",
       "    <tr style=\"text-align: right;\">\n",
       "      <th></th>\n",
       "      <th>car_name</th>\n",
       "      <th>car_model</th>\n",
       "      <th>Kilometer_per_liter</th>\n",
       "    </tr>\n",
       "  </thead>\n",
       "  <tbody>\n",
       "    <tr>\n",
       "      <th>322</th>\n",
       "      <td>mazda</td>\n",
       "      <td>glc</td>\n",
       "      <td>19.8</td>\n",
       "    </tr>\n",
       "    <tr>\n",
       "      <th>329</th>\n",
       "      <td>honda</td>\n",
       "      <td>civic 1500 gl</td>\n",
       "      <td>19.0</td>\n",
       "    </tr>\n",
       "    <tr>\n",
       "      <th>325</th>\n",
       "      <td>volkswagen</td>\n",
       "      <td>rabbit c (diesel)</td>\n",
       "      <td>18.8</td>\n",
       "    </tr>\n",
       "    <tr>\n",
       "      <th>394</th>\n",
       "      <td>volkswagen</td>\n",
       "      <td>pickup</td>\n",
       "      <td>18.7</td>\n",
       "    </tr>\n",
       "    <tr>\n",
       "      <th>326</th>\n",
       "      <td>volkswagen</td>\n",
       "      <td>dasher (diesel)</td>\n",
       "      <td>18.5</td>\n",
       "    </tr>\n",
       "    <tr>\n",
       "      <th>244</th>\n",
       "      <td>volkswagen</td>\n",
       "      <td>rabbit custom diesel</td>\n",
       "      <td>18.3</td>\n",
       "    </tr>\n",
       "    <tr>\n",
       "      <th>309</th>\n",
       "      <td>volkswagen</td>\n",
       "      <td>rabbit</td>\n",
       "      <td>17.6</td>\n",
       "    </tr>\n",
       "    <tr>\n",
       "      <th>324</th>\n",
       "      <td>datsun</td>\n",
       "      <td>210</td>\n",
       "      <td>17.3</td>\n",
       "    </tr>\n",
       "    <tr>\n",
       "      <th>247</th>\n",
       "      <td>datsun</td>\n",
       "      <td>b210 gx</td>\n",
       "      <td>16.8</td>\n",
       "    </tr>\n",
       "    <tr>\n",
       "      <th>343</th>\n",
       "      <td>toyota</td>\n",
       "      <td>starlet</td>\n",
       "      <td>16.6</td>\n",
       "    </tr>\n",
       "  </tbody>\n",
       "</table>\n",
       "</div>"
      ],
      "text/plain": [
       "       car_name             car_model  Kilometer_per_liter\n",
       "322       mazda                   glc                 19.8\n",
       "329       honda         civic 1500 gl                 19.0\n",
       "325  volkswagen     rabbit c (diesel)                 18.8\n",
       "394  volkswagen                pickup                 18.7\n",
       "326  volkswagen       dasher (diesel)                 18.5\n",
       "244  volkswagen  rabbit custom diesel                 18.3\n",
       "309  volkswagen                rabbit                 17.6\n",
       "324      datsun                   210                 17.3\n",
       "247      datsun               b210 gx                 16.8\n",
       "343      toyota               starlet                 16.6"
      ]
     },
     "execution_count": 52,
     "metadata": {},
     "output_type": "execute_result"
    }
   ],
   "source": [
    "df_"
   ]
  },
  {
   "cell_type": "markdown",
   "id": "472698b8",
   "metadata": {},
   "source": [
    "# Inferences"
   ]
  },
  {
   "cell_type": "markdown",
   "id": "59188e98",
   "metadata": {},
   "source": [
    "From EDA we can conclude the following:\n",
    "1.Most of the cars having 4 cylinders have better mileage.\n",
    "2.Highest mileage model is \"mazda glc\" with 19.8 Kilometer per liter as mileage.\n",
    "3.In the given dataset \"Kilometer_per_liter\" and \"horsepower\" are having an inverse relationship however it should be a directly proportional; reason may lie behind the mechanism of displacement of piston inside the cylinders or performance of engine.\n",
    "4.Yearwise car model bulid has increased its mileage.\n",
    "5.If we see \"volkswagen\" has highest share in top ten car models based on mileage.  "
   ]
  },
  {
   "cell_type": "markdown",
   "id": "926563a9",
   "metadata": {},
   "source": [
    "Model Building"
   ]
  },
  {
   "cell_type": "code",
   "execution_count": 86,
   "id": "ba70361a",
   "metadata": {},
   "outputs": [
    {
     "data": {
      "text/plain": [
       "<AxesSubplot:>"
      ]
     },
     "execution_count": 86,
     "metadata": {},
     "output_type": "execute_result"
    },
    {
     "data": {
      "image/png": "[encoded data removed]",
      "text/plain": [
       "<Figure size 432x288 with 2 Axes>"
      ]
     },
     "metadata": {},
     "output_type": "display_data"
    }
   ],
   "source": [
    "x=df1.corr()\n",
    "sns.heatmap(x[x>0.9],annot=True)"
   ]
  },
  {
   "cell_type": "code",
   "execution_count": 67,
   "id": "ddc1e9ca",
   "metadata": {},
   "outputs": [],
   "source": [
    "df2=df1.drop(['weight','displacement','car_model','car_name'],axis=1)"
   ]
  },
  {
   "cell_type": "code",
   "execution_count": 68,
   "id": "f3b7f75b",
   "metadata": {},
   "outputs": [
    {
     "data": {
      "text/html": [
       "<div>\n",
       "<style scoped>\n",
       "    .dataframe tbody tr th:only-of-type {\n",
       "        vertical-align: middle;\n",
       "    }\n",
       "\n",
       "    .dataframe tbody tr th {\n",
       "        vertical-align: top;\n",
       "    }\n",
       "\n",
       "    .dataframe thead th {\n",
       "        text-align: right;\n",
       "    }\n",
       "</style>\n",
       "<table border=\"1\" class=\"dataframe\">\n",
       "  <thead>\n",
       "    <tr style=\"text-align: right;\">\n",
       "      <th></th>\n",
       "      <th>origin</th>\n",
       "      <th>cylinders</th>\n",
       "      <th>horsepower</th>\n",
       "      <th>acceleration</th>\n",
       "      <th>year</th>\n",
       "      <th>Kilometer_per_liter</th>\n",
       "      <th>log_mileage</th>\n",
       "    </tr>\n",
       "  </thead>\n",
       "  <tbody>\n",
       "    <tr>\n",
       "      <th>0</th>\n",
       "      <td>1</td>\n",
       "      <td>8</td>\n",
       "      <td>130</td>\n",
       "      <td>12.0</td>\n",
       "      <td>1970</td>\n",
       "      <td>7.7</td>\n",
       "      <td>2.04</td>\n",
       "    </tr>\n",
       "    <tr>\n",
       "      <th>1</th>\n",
       "      <td>1</td>\n",
       "      <td>8</td>\n",
       "      <td>165</td>\n",
       "      <td>11.5</td>\n",
       "      <td>1970</td>\n",
       "      <td>6.4</td>\n",
       "      <td>1.85</td>\n",
       "    </tr>\n",
       "    <tr>\n",
       "      <th>2</th>\n",
       "      <td>1</td>\n",
       "      <td>8</td>\n",
       "      <td>150</td>\n",
       "      <td>11.0</td>\n",
       "      <td>1970</td>\n",
       "      <td>7.7</td>\n",
       "      <td>2.04</td>\n",
       "    </tr>\n",
       "    <tr>\n",
       "      <th>3</th>\n",
       "      <td>1</td>\n",
       "      <td>8</td>\n",
       "      <td>150</td>\n",
       "      <td>12.0</td>\n",
       "      <td>1970</td>\n",
       "      <td>6.8</td>\n",
       "      <td>1.92</td>\n",
       "    </tr>\n",
       "    <tr>\n",
       "      <th>4</th>\n",
       "      <td>1</td>\n",
       "      <td>8</td>\n",
       "      <td>140</td>\n",
       "      <td>10.5</td>\n",
       "      <td>1970</td>\n",
       "      <td>7.2</td>\n",
       "      <td>1.98</td>\n",
       "    </tr>\n",
       "    <tr>\n",
       "      <th>...</th>\n",
       "      <td>...</td>\n",
       "      <td>...</td>\n",
       "      <td>...</td>\n",
       "      <td>...</td>\n",
       "      <td>...</td>\n",
       "      <td>...</td>\n",
       "      <td>...</td>\n",
       "    </tr>\n",
       "    <tr>\n",
       "      <th>393</th>\n",
       "      <td>1</td>\n",
       "      <td>4</td>\n",
       "      <td>86</td>\n",
       "      <td>15.6</td>\n",
       "      <td>1982</td>\n",
       "      <td>11.5</td>\n",
       "      <td>2.44</td>\n",
       "    </tr>\n",
       "    <tr>\n",
       "      <th>394</th>\n",
       "      <td>2</td>\n",
       "      <td>4</td>\n",
       "      <td>52</td>\n",
       "      <td>24.6</td>\n",
       "      <td>1982</td>\n",
       "      <td>18.7</td>\n",
       "      <td>2.93</td>\n",
       "    </tr>\n",
       "    <tr>\n",
       "      <th>395</th>\n",
       "      <td>1</td>\n",
       "      <td>4</td>\n",
       "      <td>84</td>\n",
       "      <td>11.6</td>\n",
       "      <td>1982</td>\n",
       "      <td>13.6</td>\n",
       "      <td>2.61</td>\n",
       "    </tr>\n",
       "    <tr>\n",
       "      <th>396</th>\n",
       "      <td>1</td>\n",
       "      <td>4</td>\n",
       "      <td>79</td>\n",
       "      <td>18.6</td>\n",
       "      <td>1982</td>\n",
       "      <td>11.9</td>\n",
       "      <td>2.48</td>\n",
       "    </tr>\n",
       "    <tr>\n",
       "      <th>397</th>\n",
       "      <td>1</td>\n",
       "      <td>4</td>\n",
       "      <td>82</td>\n",
       "      <td>19.4</td>\n",
       "      <td>1982</td>\n",
       "      <td>13.2</td>\n",
       "      <td>2.58</td>\n",
       "    </tr>\n",
       "  </tbody>\n",
       "</table>\n",
       "<p>392 rows × 7 columns</p>\n",
       "</div>"
      ],
      "text/plain": [
       "    origin  cylinders  horsepower  acceleration  year  Kilometer_per_liter  \\\n",
       "0        1          8         130          12.0  1970                  7.7   \n",
       "1        1          8         165          11.5  1970                  6.4   \n",
       "2        1          8         150          11.0  1970                  7.7   \n",
       "3        1          8         150          12.0  1970                  6.8   \n",
       "4        1          8         140          10.5  1970                  7.2   \n",
       "..     ...        ...         ...           ...   ...                  ...   \n",
       "393      1          4          86          15.6  1982                 11.5   \n",
       "394      2          4          52          24.6  1982                 18.7   \n",
       "395      1          4          84          11.6  1982                 13.6   \n",
       "396      1          4          79          18.6  1982                 11.9   \n",
       "397      1          4          82          19.4  1982                 13.2   \n",
       "\n",
       "     log_mileage  \n",
       "0           2.04  \n",
       "1           1.85  \n",
       "2           2.04  \n",
       "3           1.92  \n",
       "4           1.98  \n",
       "..           ...  \n",
       "393         2.44  \n",
       "394         2.93  \n",
       "395         2.61  \n",
       "396         2.48  \n",
       "397         2.58  \n",
       "\n",
       "[392 rows x 7 columns]"
      ]
     },
     "execution_count": 68,
     "metadata": {},
     "output_type": "execute_result"
    }
   ],
   "source": [
    "df2"
   ]
  },
  {
   "cell_type": "markdown",
   "id": "219084af",
   "metadata": {},
   "source": [
    "Feature Engineering"
   ]
  },
  {
   "cell_type": "code",
   "execution_count": 69,
   "id": "f739269d",
   "metadata": {},
   "outputs": [],
   "source": [
    "df2[\"cylinders\"]=df2[\"cylinders\"].astype(\"object\")"
   ]
  },
  {
   "cell_type": "code",
   "execution_count": 70,
   "id": "902258f3",
   "metadata": {},
   "outputs": [
    {
     "name": "stderr",
     "output_type": "stream",
     "text": [
      "C:\\Users\\Chhaya\\anaconda3\\lib\\site-packages\\pandas\\core\\algorithms.py:798: FutureWarning: In a future version, the Index constructor will not infer numeric dtypes when passed object-dtype sequences (matching Series behavior)\n",
      "  uniques = Index(uniques)\n"
     ]
    },
    {
     "data": {
      "text/html": [
       "<div>\n",
       "<style scoped>\n",
       "    .dataframe tbody tr th:only-of-type {\n",
       "        vertical-align: middle;\n",
       "    }\n",
       "\n",
       "    .dataframe tbody tr th {\n",
       "        vertical-align: top;\n",
       "    }\n",
       "\n",
       "    .dataframe thead th {\n",
       "        text-align: right;\n",
       "    }\n",
       "</style>\n",
       "<table border=\"1\" class=\"dataframe\">\n",
       "  <thead>\n",
       "    <tr style=\"text-align: right;\">\n",
       "      <th></th>\n",
       "      <th>horsepower</th>\n",
       "      <th>acceleration</th>\n",
       "      <th>year</th>\n",
       "      <th>Kilometer_per_liter</th>\n",
       "      <th>log_mileage</th>\n",
       "      <th>origin_2</th>\n",
       "      <th>origin_3</th>\n",
       "      <th>cylinders_4</th>\n",
       "      <th>cylinders_5</th>\n",
       "      <th>cylinders_6</th>\n",
       "      <th>cylinders_8</th>\n",
       "    </tr>\n",
       "  </thead>\n",
       "  <tbody>\n",
       "    <tr>\n",
       "      <th>0</th>\n",
       "      <td>130</td>\n",
       "      <td>12.0</td>\n",
       "      <td>1970</td>\n",
       "      <td>7.7</td>\n",
       "      <td>2.04</td>\n",
       "      <td>0</td>\n",
       "      <td>0</td>\n",
       "      <td>0</td>\n",
       "      <td>0</td>\n",
       "      <td>0</td>\n",
       "      <td>1</td>\n",
       "    </tr>\n",
       "    <tr>\n",
       "      <th>1</th>\n",
       "      <td>165</td>\n",
       "      <td>11.5</td>\n",
       "      <td>1970</td>\n",
       "      <td>6.4</td>\n",
       "      <td>1.85</td>\n",
       "      <td>0</td>\n",
       "      <td>0</td>\n",
       "      <td>0</td>\n",
       "      <td>0</td>\n",
       "      <td>0</td>\n",
       "      <td>1</td>\n",
       "    </tr>\n",
       "    <tr>\n",
       "      <th>2</th>\n",
       "      <td>150</td>\n",
       "      <td>11.0</td>\n",
       "      <td>1970</td>\n",
       "      <td>7.7</td>\n",
       "      <td>2.04</td>\n",
       "      <td>0</td>\n",
       "      <td>0</td>\n",
       "      <td>0</td>\n",
       "      <td>0</td>\n",
       "      <td>0</td>\n",
       "      <td>1</td>\n",
       "    </tr>\n",
       "    <tr>\n",
       "      <th>3</th>\n",
       "      <td>150</td>\n",
       "      <td>12.0</td>\n",
       "      <td>1970</td>\n",
       "      <td>6.8</td>\n",
       "      <td>1.92</td>\n",
       "      <td>0</td>\n",
       "      <td>0</td>\n",
       "      <td>0</td>\n",
       "      <td>0</td>\n",
       "      <td>0</td>\n",
       "      <td>1</td>\n",
       "    </tr>\n",
       "    <tr>\n",
       "      <th>4</th>\n",
       "      <td>140</td>\n",
       "      <td>10.5</td>\n",
       "      <td>1970</td>\n",
       "      <td>7.2</td>\n",
       "      <td>1.98</td>\n",
       "      <td>0</td>\n",
       "      <td>0</td>\n",
       "      <td>0</td>\n",
       "      <td>0</td>\n",
       "      <td>0</td>\n",
       "      <td>1</td>\n",
       "    </tr>\n",
       "    <tr>\n",
       "      <th>5</th>\n",
       "      <td>198</td>\n",
       "      <td>10.0</td>\n",
       "      <td>1970</td>\n",
       "      <td>6.4</td>\n",
       "      <td>1.85</td>\n",
       "      <td>0</td>\n",
       "      <td>0</td>\n",
       "      <td>0</td>\n",
       "      <td>0</td>\n",
       "      <td>0</td>\n",
       "      <td>1</td>\n",
       "    </tr>\n",
       "    <tr>\n",
       "      <th>6</th>\n",
       "      <td>220</td>\n",
       "      <td>9.0</td>\n",
       "      <td>1970</td>\n",
       "      <td>6.0</td>\n",
       "      <td>1.78</td>\n",
       "      <td>0</td>\n",
       "      <td>0</td>\n",
       "      <td>0</td>\n",
       "      <td>0</td>\n",
       "      <td>0</td>\n",
       "      <td>1</td>\n",
       "    </tr>\n",
       "    <tr>\n",
       "      <th>7</th>\n",
       "      <td>215</td>\n",
       "      <td>8.5</td>\n",
       "      <td>1970</td>\n",
       "      <td>6.0</td>\n",
       "      <td>1.78</td>\n",
       "      <td>0</td>\n",
       "      <td>0</td>\n",
       "      <td>0</td>\n",
       "      <td>0</td>\n",
       "      <td>0</td>\n",
       "      <td>1</td>\n",
       "    </tr>\n",
       "    <tr>\n",
       "      <th>8</th>\n",
       "      <td>225</td>\n",
       "      <td>10.0</td>\n",
       "      <td>1970</td>\n",
       "      <td>6.0</td>\n",
       "      <td>1.78</td>\n",
       "      <td>0</td>\n",
       "      <td>0</td>\n",
       "      <td>0</td>\n",
       "      <td>0</td>\n",
       "      <td>0</td>\n",
       "      <td>1</td>\n",
       "    </tr>\n",
       "    <tr>\n",
       "      <th>9</th>\n",
       "      <td>190</td>\n",
       "      <td>8.5</td>\n",
       "      <td>1970</td>\n",
       "      <td>6.4</td>\n",
       "      <td>1.85</td>\n",
       "      <td>0</td>\n",
       "      <td>0</td>\n",
       "      <td>0</td>\n",
       "      <td>0</td>\n",
       "      <td>0</td>\n",
       "      <td>1</td>\n",
       "    </tr>\n",
       "  </tbody>\n",
       "</table>\n",
       "</div>"
      ],
      "text/plain": [
       "   horsepower  acceleration  year  Kilometer_per_liter  log_mileage  origin_2  \\\n",
       "0         130          12.0  1970                  7.7         2.04         0   \n",
       "1         165          11.5  1970                  6.4         1.85         0   \n",
       "2         150          11.0  1970                  7.7         2.04         0   \n",
       "3         150          12.0  1970                  6.8         1.92         0   \n",
       "4         140          10.5  1970                  7.2         1.98         0   \n",
       "5         198          10.0  1970                  6.4         1.85         0   \n",
       "6         220           9.0  1970                  6.0         1.78         0   \n",
       "7         215           8.5  1970                  6.0         1.78         0   \n",
       "8         225          10.0  1970                  6.0         1.78         0   \n",
       "9         190           8.5  1970                  6.4         1.85         0   \n",
       "\n",
       "   origin_3  cylinders_4  cylinders_5  cylinders_6  cylinders_8  \n",
       "0         0            0            0            0            1  \n",
       "1         0            0            0            0            1  \n",
       "2         0            0            0            0            1  \n",
       "3         0            0            0            0            1  \n",
       "4         0            0            0            0            1  \n",
       "5         0            0            0            0            1  \n",
       "6         0            0            0            0            1  \n",
       "7         0            0            0            0            1  \n",
       "8         0            0            0            0            1  \n",
       "9         0            0            0            0            1  "
      ]
     },
     "execution_count": 70,
     "metadata": {},
     "output_type": "execute_result"
    }
   ],
   "source": [
    "df2=pd.get_dummies(df2,drop_first=True)\n",
    "df2[:10]"
   ]
  },
  {
   "cell_type": "code",
   "execution_count": 71,
   "id": "5d3d6572",
   "metadata": {},
   "outputs": [],
   "source": [
    "#Feature Scaling\n",
    "from sklearn.preprocessing import MinMaxScaler\n",
    "scaler = MinMaxScaler()\n",
    "x=df2.drop([\"Kilometer_per_liter\",\"log_mileage\"],axis=1)\n",
    "model=scaler.fit(x)\n",
    "x_scaled_data=model.transform(x)\n"
   ]
  },
  {
   "cell_type": "code",
   "execution_count": 72,
   "id": "de95f2fc",
   "metadata": {},
   "outputs": [],
   "source": [
    "x_scaled_data\n",
    "y=df2[\"log_mileage\"]"
   ]
  },
  {
   "cell_type": "code",
   "execution_count": 73,
   "id": "9aaf0278",
   "metadata": {},
   "outputs": [],
   "source": [
    "from sklearn.model_selection import train_test_split\n",
    "x_train,x_test,y_train,y_test=train_test_split(x_scaled_data,y,test_size=0.30,random_state=104)"
   ]
  },
  {
   "cell_type": "code",
   "execution_count": 74,
   "id": "2c2e832b",
   "metadata": {},
   "outputs": [],
   "source": [
    "from sklearn.linear_model import SGDRegressor"
   ]
  },
  {
   "cell_type": "code",
   "execution_count": 75,
   "id": "893c7564",
   "metadata": {},
   "outputs": [],
   "source": [
    "sg=SGDRegressor(max_iter=1000,alpha=0.001,penalty=None)"
   ]
  },
  {
   "cell_type": "code",
   "execution_count": 76,
   "id": "26d669d8",
   "metadata": {},
   "outputs": [
    {
     "data": {
      "text/plain": [
       "SGDRegressor(alpha=0.001, penalty=None)"
      ]
     },
     "execution_count": 76,
     "metadata": {},
     "output_type": "execute_result"
    }
   ],
   "source": [
    "sg.fit(x_train,y_train)"
   ]
  },
  {
   "cell_type": "code",
   "execution_count": 77,
   "id": "aa435cd8",
   "metadata": {},
   "outputs": [],
   "source": [
    "y_pred=sg.predict(x_test)"
   ]
  },
  {
   "cell_type": "code",
   "execution_count": 78,
   "id": "d20cc4d0",
   "metadata": {},
   "outputs": [
    {
     "data": {
      "text/plain": [
       "array([2.43926734, 2.53260664, 2.88163895, 1.88515013, 2.05753771,\n",
       "       2.45975465, 2.47635948, 2.1049308 , 2.01085933, 2.38067947,\n",
       "       1.74855323, 2.32034533, 1.74451118, 1.84891682, 1.72526513,\n",
       "       2.46306256, 2.26277051, 2.69522004, 2.13569236, 1.77722217,\n",
       "       2.61428512, 2.76381396, 2.36332372, 2.40971499, 2.27571289,\n",
       "       1.79405603, 2.76018114, 2.35229721, 1.88325449, 1.73109545,\n",
       "       2.77838369, 2.23648171, 1.81674125, 2.85504737, 1.78595623,\n",
       "       1.96220457, 2.07870529, 1.93890078, 2.29039151, 2.37238763,\n",
       "       2.0033856 , 2.57836529, 2.59879831, 2.05544631, 1.96493923,\n",
       "       2.11514134, 2.6696603 , 1.92848548, 1.94716431, 2.58001894,\n",
       "       2.21921997, 1.95676246, 2.73619456, 1.61601408, 2.66617026,\n",
       "       2.43495951, 2.22038158, 2.67178347, 1.71037292, 1.77559764,\n",
       "       1.7713865 , 1.9242935 , 2.33619882, 1.71847272, 1.83951497,\n",
       "       1.61050089, 2.73005947, 2.23455601, 1.82087999, 2.43038615,\n",
       "       1.71312861, 2.27543481, 2.82408347, 2.838346  , 2.17493764,\n",
       "       1.88046846, 1.85974593, 2.37754801, 1.7139069 , 2.56855621,\n",
       "       2.25319676, 1.73809261, 1.8655816 , 2.50624986, 2.53611569,\n",
       "       2.10835201, 2.71043391, 1.90694565, 2.67664968, 2.52470533,\n",
       "       1.9451992 , 2.41425911, 2.48766048, 2.69248537, 2.4404802 ,\n",
       "       2.60845723, 2.56693278, 2.34067509, 2.15993379, 2.47782818,\n",
       "       2.67534723, 2.65958971, 1.79905483, 2.20529439, 2.19281971,\n",
       "       2.05624628, 2.37063052, 2.14965587, 2.01672477, 2.62392118,\n",
       "       2.07191046, 2.12791747, 2.48343956, 2.97636586, 2.38853052,\n",
       "       2.52146255, 1.73672635, 1.9688279 ])"
      ]
     },
     "execution_count": 78,
     "metadata": {},
     "output_type": "execute_result"
    }
   ],
   "source": [
    "y_pred"
   ]
  },
  {
   "cell_type": "code",
   "execution_count": 81,
   "id": "390af6fe",
   "metadata": {},
   "outputs": [
    {
     "name": "stdout",
     "output_type": "stream",
     "text": [
      "0.650553559845504 0.15700931446841407 0.04125787179799402\n"
     ]
    }
   ],
   "source": [
    "from sklearn import metrics\n",
    "from sklearn.metrics import r2_score,mean_absolute_error,mean_squared_error\n",
    "err=metrics.r2_score(y_test,y_pred)\n",
    "mae=mean_absolute_error(y_test,y_pred)\n",
    "mse=mean_squared_error(y_test,y_pred)\n",
    "print(err,mae,mse)"
   ]
  },
  {
   "cell_type": "code",
   "execution_count": 83,
   "id": "aef3c015",
   "metadata": {},
   "outputs": [],
   "source": [
    "comp=pd.DataFrame({\"y_test\":y_test,\n",
    "               \"y_pred\":y_pred})"
   ]
  },
  {
   "cell_type": "code",
   "execution_count": 84,
   "id": "ec4b6e97",
   "metadata": {},
   "outputs": [
    {
     "data": {
      "text/html": [
       "<div>\n",
       "<style scoped>\n",
       "    .dataframe tbody tr th:only-of-type {\n",
       "        vertical-align: middle;\n",
       "    }\n",
       "\n",
       "    .dataframe tbody tr th {\n",
       "        vertical-align: top;\n",
       "    }\n",
       "\n",
       "    .dataframe thead th {\n",
       "        text-align: right;\n",
       "    }\n",
       "</style>\n",
       "<table border=\"1\" class=\"dataframe\">\n",
       "  <thead>\n",
       "    <tr style=\"text-align: right;\">\n",
       "      <th></th>\n",
       "      <th>y_test</th>\n",
       "      <th>y_pred</th>\n",
       "    </tr>\n",
       "  </thead>\n",
       "  <tbody>\n",
       "    <tr>\n",
       "      <th>171</th>\n",
       "      <td>2.32</td>\n",
       "      <td>2.439267</td>\n",
       "    </tr>\n",
       "    <tr>\n",
       "      <th>344</th>\n",
       "      <td>2.81</td>\n",
       "      <td>2.532607</td>\n",
       "    </tr>\n",
       "    <tr>\n",
       "      <th>299</th>\n",
       "      <td>2.45</td>\n",
       "      <td>2.881639</td>\n",
       "    </tr>\n",
       "    <tr>\n",
       "      <th>156</th>\n",
       "      <td>1.92</td>\n",
       "      <td>1.885150</td>\n",
       "    </tr>\n",
       "    <tr>\n",
       "      <th>287</th>\n",
       "      <td>1.95</td>\n",
       "      <td>2.057538</td>\n",
       "    </tr>\n",
       "    <tr>\n",
       "      <th>...</th>\n",
       "      <td>...</td>\n",
       "      <td>...</td>\n",
       "    </tr>\n",
       "    <tr>\n",
       "      <th>394</th>\n",
       "      <td>2.93</td>\n",
       "      <td>2.976366</td>\n",
       "    </tr>\n",
       "    <tr>\n",
       "      <th>175</th>\n",
       "      <td>2.51</td>\n",
       "      <td>2.388531</td>\n",
       "    </tr>\n",
       "    <tr>\n",
       "      <th>340</th>\n",
       "      <td>2.40</td>\n",
       "      <td>2.521463</td>\n",
       "    </tr>\n",
       "    <tr>\n",
       "      <th>16</th>\n",
       "      <td>2.04</td>\n",
       "      <td>1.736726</td>\n",
       "    </tr>\n",
       "    <tr>\n",
       "      <th>152</th>\n",
       "      <td>2.09</td>\n",
       "      <td>1.968828</td>\n",
       "    </tr>\n",
       "  </tbody>\n",
       "</table>\n",
       "<p>118 rows × 2 columns</p>\n",
       "</div>"
      ],
      "text/plain": [
       "     y_test    y_pred\n",
       "171    2.32  2.439267\n",
       "344    2.81  2.532607\n",
       "299    2.45  2.881639\n",
       "156    1.92  1.885150\n",
       "287    1.95  2.057538\n",
       "..      ...       ...\n",
       "394    2.93  2.976366\n",
       "175    2.51  2.388531\n",
       "340    2.40  2.521463\n",
       "16     2.04  1.736726\n",
       "152    2.09  1.968828\n",
       "\n",
       "[118 rows x 2 columns]"
      ]
     },
     "execution_count": 84,
     "metadata": {},
     "output_type": "execute_result"
    }
   ],
   "source": [
    "comp"
   ]
  }
 ],
 "metadata": {
  "kernelspec": {
   "display_name": "Python 3 (ipykernel)",
   "language": "python",
   "name": "python3"
  },
  "language_info": {
   "codemirror_mode": {
    "name": "ipython",
    "version": 3
   },
   "file_extension": ".py",
   "mimetype": "text/x-python",
   "name": "python",
   "nbconvert_exporter": "python",
   "pygments_lexer": "ipython3",
   "version": "3.9.12"
  }
 },
 "nbformat": 4,
 "nbformat_minor": 5
}
